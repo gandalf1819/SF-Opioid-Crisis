{
  "nbformat": 4,
  "nbformat_minor": 0,
  "metadata": {
    "colab": {
      "name": "SF-drug-CatBoost.ipynb",
      "provenance": [],
      "collapsed_sections": [],
      "machine_shape": "hm",
      "include_colab_link": true
    },
    "kernelspec": {
      "name": "python3",
      "display_name": "Python 3"
    },
    "accelerator": "GPU"
  },
  "cells": [
    {
      "cell_type": "markdown",
      "metadata": {
        "id": "view-in-github",
        "colab_type": "text"
      },
      "source": [
        "<a href=\"https://colab.research.google.com/github/gandalf1819/SF-Opioid-Crisis/blob/master/SF_drug_CatBoost.ipynb\" target=\"_parent\"><img src=\"https://colab.research.google.com/assets/colab-badge.svg\" alt=\"Open In Colab\"/></a>"
      ]
    },
    {
      "cell_type": "code",
      "metadata": {
        "id": "B_fXeqTJ4ECk",
        "colab_type": "code",
        "colab": {
          "base_uri": "https://localhost:8080/",
          "height": 34
        },
        "outputId": "ac20ec42-0b42-4477-ac61-a2e1affab1ff"
      },
      "source": [
        "from google.colab import drive\n",
        "drive.mount('/content/gdrive')"
      ],
      "execution_count": 1,
      "outputs": [
        {
          "output_type": "stream",
          "text": [
            "Drive already mounted at /content/gdrive; to attempt to forcibly remount, call drive.mount(\"/content/gdrive\", force_remount=True).\n"
          ],
          "name": "stdout"
        }
      ]
    },
    {
      "cell_type": "code",
      "metadata": {
        "id": "G4yTokRV6jmi",
        "colab_type": "code",
        "colab": {
          "base_uri": "https://localhost:8080/",
          "height": 278
        },
        "outputId": "adef723a-e05b-48b7-ef0a-af42b73a56e6"
      },
      "source": [
        "!pip install catboost"
      ],
      "execution_count": 2,
      "outputs": [
        {
          "output_type": "stream",
          "text": [
            "Requirement already satisfied: catboost in /usr/local/lib/python3.6/dist-packages (0.18.1)\n",
            "Requirement already satisfied: matplotlib in /usr/local/lib/python3.6/dist-packages (from catboost) (3.1.1)\n",
            "Requirement already satisfied: pandas>=0.24.0 in /usr/local/lib/python3.6/dist-packages (from catboost) (0.25.3)\n",
            "Requirement already satisfied: six in /usr/local/lib/python3.6/dist-packages (from catboost) (1.12.0)\n",
            "Requirement already satisfied: graphviz in /usr/local/lib/python3.6/dist-packages (from catboost) (0.10.1)\n",
            "Requirement already satisfied: numpy>=1.16.0 in /usr/local/lib/python3.6/dist-packages (from catboost) (1.17.4)\n",
            "Requirement already satisfied: scipy in /usr/local/lib/python3.6/dist-packages (from catboost) (1.3.2)\n",
            "Requirement already satisfied: plotly in /usr/local/lib/python3.6/dist-packages (from catboost) (4.1.1)\n",
            "Requirement already satisfied: cycler>=0.10 in /usr/local/lib/python3.6/dist-packages (from matplotlib->catboost) (0.10.0)\n",
            "Requirement already satisfied: pyparsing!=2.0.4,!=2.1.2,!=2.1.6,>=2.0.1 in /usr/local/lib/python3.6/dist-packages (from matplotlib->catboost) (2.4.5)\n",
            "Requirement already satisfied: kiwisolver>=1.0.1 in /usr/local/lib/python3.6/dist-packages (from matplotlib->catboost) (1.1.0)\n",
            "Requirement already satisfied: python-dateutil>=2.1 in /usr/local/lib/python3.6/dist-packages (from matplotlib->catboost) (2.6.1)\n",
            "Requirement already satisfied: pytz>=2017.2 in /usr/local/lib/python3.6/dist-packages (from pandas>=0.24.0->catboost) (2018.9)\n",
            "Requirement already satisfied: retrying>=1.3.3 in /usr/local/lib/python3.6/dist-packages (from plotly->catboost) (1.3.3)\n",
            "Requirement already satisfied: setuptools in /usr/local/lib/python3.6/dist-packages (from kiwisolver>=1.0.1->matplotlib->catboost) (41.4.0)\n"
          ],
          "name": "stdout"
        }
      ]
    },
    {
      "cell_type": "code",
      "metadata": {
        "id": "l4bHSSTA5VgI",
        "colab_type": "code",
        "colab": {}
      },
      "source": [
        "import sys,os\n",
        "import numpy as np\n",
        "import pandas as pd\n",
        "pd.set_option(\"display.max_columns\", None)\n",
        "import matplotlib.pyplot as plt\n",
        "%matplotlib inline\n",
        "from sklearn.preprocessing import LabelEncoder, OrdinalEncoder, OneHotEncoder\n",
        "from sklearn.compose import ColumnTransformer\n",
        "from sklearn.base import clone\n",
        "from sklearn.model_selection import StratifiedKFold, train_test_split\n",
        "from sklearn.metrics import log_loss\n",
        "from sklearn.decomposition import PCA\n",
        "from sklearn.mixture import GaussianMixture\n",
        "import catboost\n",
        "import gensim\n",
        "import seaborn as sns\n",
        "sns.set()"
      ],
      "execution_count": 0,
      "outputs": []
    },
    {
      "cell_type": "code",
      "metadata": {
        "id": "31E-uYMz5mgE",
        "colab_type": "code",
        "colab": {
          "base_uri": "https://localhost:8080/",
          "height": 69
        },
        "outputId": "367b78bf-854a-44c8-c6ab-d69c17c75c4a"
      },
      "source": [
        "d_crime = pd.read_csv(\"/content/gdrive/My Drive/SF dataset/Police_Department_Incident_Reports__Historical_2003_to_May_2018.csv\")\n",
        "d_crime.columns"
      ],
      "execution_count": 4,
      "outputs": [
        {
          "output_type": "execute_result",
          "data": {
            "text/plain": [
              "Index(['IncidntNum', 'Category', 'Descript', 'DayOfWeek', 'Date', 'Time',\n",
              "       'PdDistrict', 'Resolution', 'Address', 'X', 'Y', 'Location', 'PdId'],\n",
              "      dtype='object')"
            ]
          },
          "metadata": {
            "tags": []
          },
          "execution_count": 4
        }
      ]
    },
    {
      "cell_type": "code",
      "metadata": {
        "id": "e5WmH3uA53E3",
        "colab_type": "code",
        "colab": {}
      },
      "source": [
        "np.random.seed(100)\n",
        "random_d_crime=d_crime.sample(2215024)\n",
        "train_size=int(0.67 *2215024)\n",
        "X_train=random_d_crime[:train_size]\n",
        "X_test=random_d_crime[train_size:]"
      ],
      "execution_count": 0,
      "outputs": []
    },
    {
      "cell_type": "code",
      "metadata": {
        "id": "UglIX6hQ8g8G",
        "colab_type": "code",
        "colab": {
          "base_uri": "https://localhost:8080/",
          "height": 434
        },
        "outputId": "0aa5d2b0-d6c6-46b9-e21c-6723360b49cb"
      },
      "source": [
        "X_train['DateTime'] = X_train.Date + \" \" + X_train.Time\n",
        "X_train['DateTime'] = pd.to_datetime(X_train['DateTime'], format='%m/%d/%Y %H:%M')\n",
        "\n",
        "X_test['DateTime'] = X_test.Date + \" \" + X_test.Time\n",
        "X_test['DateTime'] = pd.to_datetime(X_test['DateTime'], format='%m/%d/%Y %H:%M')"
      ],
      "execution_count": 6,
      "outputs": [
        {
          "output_type": "stream",
          "text": [
            "/usr/local/lib/python3.6/dist-packages/ipykernel_launcher.py:1: SettingWithCopyWarning: \n",
            "A value is trying to be set on a copy of a slice from a DataFrame.\n",
            "Try using .loc[row_indexer,col_indexer] = value instead\n",
            "\n",
            "See the caveats in the documentation: http://pandas.pydata.org/pandas-docs/stable/user_guide/indexing.html#returning-a-view-versus-a-copy\n",
            "  \"\"\"Entry point for launching an IPython kernel.\n",
            "/usr/local/lib/python3.6/dist-packages/ipykernel_launcher.py:2: SettingWithCopyWarning: \n",
            "A value is trying to be set on a copy of a slice from a DataFrame.\n",
            "Try using .loc[row_indexer,col_indexer] = value instead\n",
            "\n",
            "See the caveats in the documentation: http://pandas.pydata.org/pandas-docs/stable/user_guide/indexing.html#returning-a-view-versus-a-copy\n",
            "  \n",
            "/usr/local/lib/python3.6/dist-packages/ipykernel_launcher.py:4: SettingWithCopyWarning: \n",
            "A value is trying to be set on a copy of a slice from a DataFrame.\n",
            "Try using .loc[row_indexer,col_indexer] = value instead\n",
            "\n",
            "See the caveats in the documentation: http://pandas.pydata.org/pandas-docs/stable/user_guide/indexing.html#returning-a-view-versus-a-copy\n",
            "  after removing the cwd from sys.path.\n",
            "/usr/local/lib/python3.6/dist-packages/ipykernel_launcher.py:5: SettingWithCopyWarning: \n",
            "A value is trying to be set on a copy of a slice from a DataFrame.\n",
            "Try using .loc[row_indexer,col_indexer] = value instead\n",
            "\n",
            "See the caveats in the documentation: http://pandas.pydata.org/pandas-docs/stable/user_guide/indexing.html#returning-a-view-versus-a-copy\n",
            "  \"\"\"\n"
          ],
          "name": "stderr"
        }
      ]
    },
    {
      "cell_type": "code",
      "metadata": {
        "id": "BvFFwl6J7JbS",
        "colab_type": "code",
        "colab": {
          "base_uri": "https://localhost:8080/",
          "height": 400
        },
        "outputId": "47156f13-e3d3-4928-dfe9-472a15acb12f"
      },
      "source": [
        "X_train[:5]"
      ],
      "execution_count": 7,
      "outputs": [
        {
          "output_type": "execute_result",
          "data": {
            "text/html": [
              "<div>\n",
              "<style scoped>\n",
              "    .dataframe tbody tr th:only-of-type {\n",
              "        vertical-align: middle;\n",
              "    }\n",
              "\n",
              "    .dataframe tbody tr th {\n",
              "        vertical-align: top;\n",
              "    }\n",
              "\n",
              "    .dataframe thead th {\n",
              "        text-align: right;\n",
              "    }\n",
              "</style>\n",
              "<table border=\"1\" class=\"dataframe\">\n",
              "  <thead>\n",
              "    <tr style=\"text-align: right;\">\n",
              "      <th></th>\n",
              "      <th>IncidntNum</th>\n",
              "      <th>Category</th>\n",
              "      <th>Descript</th>\n",
              "      <th>DayOfWeek</th>\n",
              "      <th>Date</th>\n",
              "      <th>Time</th>\n",
              "      <th>PdDistrict</th>\n",
              "      <th>Resolution</th>\n",
              "      <th>Address</th>\n",
              "      <th>X</th>\n",
              "      <th>Y</th>\n",
              "      <th>Location</th>\n",
              "      <th>PdId</th>\n",
              "      <th>DateTime</th>\n",
              "    </tr>\n",
              "  </thead>\n",
              "  <tbody>\n",
              "    <tr>\n",
              "      <th>1618683</th>\n",
              "      <td>61097743</td>\n",
              "      <td>SUSPICIOUS OCC</td>\n",
              "      <td>SUSPICIOUS OCCURRENCE</td>\n",
              "      <td>Friday</td>\n",
              "      <td>10/13/2006</td>\n",
              "      <td>23:13</td>\n",
              "      <td>CENTRAL</td>\n",
              "      <td>NONE</td>\n",
              "      <td>200 Block of COLUMBUS AV</td>\n",
              "      <td>-122.406504</td>\n",
              "      <td>37.797678</td>\n",
              "      <td>POINT (-122.406503626072 37.7976778969458)</td>\n",
              "      <td>6109774364070</td>\n",
              "      <td>2006-10-13 23:13:00</td>\n",
              "    </tr>\n",
              "    <tr>\n",
              "      <th>1303833</th>\n",
              "      <td>120517541</td>\n",
              "      <td>LARCENY/THEFT</td>\n",
              "      <td>GRAND THEFT PICKPOCKET</td>\n",
              "      <td>Saturday</td>\n",
              "      <td>06/30/2012</td>\n",
              "      <td>17:40</td>\n",
              "      <td>MISSION</td>\n",
              "      <td>NONE</td>\n",
              "      <td>16TH ST / FOLSOM ST</td>\n",
              "      <td>-122.415308</td>\n",
              "      <td>37.765316</td>\n",
              "      <td>POINT (-122.415308388816 37.765316135635)</td>\n",
              "      <td>12051754106111</td>\n",
              "      <td>2012-06-30 17:40:00</td>\n",
              "    </tr>\n",
              "    <tr>\n",
              "      <th>38943</th>\n",
              "      <td>146134967</td>\n",
              "      <td>LARCENY/THEFT</td>\n",
              "      <td>GRAND THEFT FROM LOCKED AUTO</td>\n",
              "      <td>Sunday</td>\n",
              "      <td>07/06/2014</td>\n",
              "      <td>22:20</td>\n",
              "      <td>CENTRAL</td>\n",
              "      <td>NONE</td>\n",
              "      <td>NORTHPOINT ST / POLK ST</td>\n",
              "      <td>-122.423658</td>\n",
              "      <td>37.805285</td>\n",
              "      <td>POINT (-122.423658369809 37.8052850926566)</td>\n",
              "      <td>14613496706244</td>\n",
              "      <td>2014-07-06 22:20:00</td>\n",
              "    </tr>\n",
              "    <tr>\n",
              "      <th>1737093</th>\n",
              "      <td>81124398</td>\n",
              "      <td>LARCENY/THEFT</td>\n",
              "      <td>GRAND THEFT FROM LOCKED AUTO</td>\n",
              "      <td>Saturday</td>\n",
              "      <td>10/18/2008</td>\n",
              "      <td>10:30</td>\n",
              "      <td>BAYVIEW</td>\n",
              "      <td>NONE</td>\n",
              "      <td>IRWIN ST / 8TH ST</td>\n",
              "      <td>-122.399679</td>\n",
              "      <td>37.766695</td>\n",
              "      <td>POINT (-122.399679247863 37.7666952934378)</td>\n",
              "      <td>8112439806244</td>\n",
              "      <td>2008-10-18 10:30:00</td>\n",
              "    </tr>\n",
              "    <tr>\n",
              "      <th>1490803</th>\n",
              "      <td>100564255</td>\n",
              "      <td>ASSAULT</td>\n",
              "      <td>STALKING</td>\n",
              "      <td>Saturday</td>\n",
              "      <td>04/10/2010</td>\n",
              "      <td>17:30</td>\n",
              "      <td>TENDERLOIN</td>\n",
              "      <td>NONE</td>\n",
              "      <td>500 Block of LEAVENWORTH ST</td>\n",
              "      <td>-122.414645</td>\n",
              "      <td>37.786069</td>\n",
              "      <td>POINT (-122.414645409901 37.7860688364633)</td>\n",
              "      <td>10056425515201</td>\n",
              "      <td>2010-04-10 17:30:00</td>\n",
              "    </tr>\n",
              "  </tbody>\n",
              "</table>\n",
              "</div>"
            ],
            "text/plain": [
              "         IncidntNum        Category                      Descript DayOfWeek  \\\n",
              "1618683    61097743  SUSPICIOUS OCC         SUSPICIOUS OCCURRENCE    Friday   \n",
              "1303833   120517541   LARCENY/THEFT        GRAND THEFT PICKPOCKET  Saturday   \n",
              "38943     146134967   LARCENY/THEFT  GRAND THEFT FROM LOCKED AUTO    Sunday   \n",
              "1737093    81124398   LARCENY/THEFT  GRAND THEFT FROM LOCKED AUTO  Saturday   \n",
              "1490803   100564255         ASSAULT                      STALKING  Saturday   \n",
              "\n",
              "               Date   Time  PdDistrict Resolution  \\\n",
              "1618683  10/13/2006  23:13     CENTRAL       NONE   \n",
              "1303833  06/30/2012  17:40     MISSION       NONE   \n",
              "38943    07/06/2014  22:20     CENTRAL       NONE   \n",
              "1737093  10/18/2008  10:30     BAYVIEW       NONE   \n",
              "1490803  04/10/2010  17:30  TENDERLOIN       NONE   \n",
              "\n",
              "                             Address           X          Y  \\\n",
              "1618683     200 Block of COLUMBUS AV -122.406504  37.797678   \n",
              "1303833          16TH ST / FOLSOM ST -122.415308  37.765316   \n",
              "38943        NORTHPOINT ST / POLK ST -122.423658  37.805285   \n",
              "1737093            IRWIN ST / 8TH ST -122.399679  37.766695   \n",
              "1490803  500 Block of LEAVENWORTH ST -122.414645  37.786069   \n",
              "\n",
              "                                           Location            PdId  \\\n",
              "1618683  POINT (-122.406503626072 37.7976778969458)   6109774364070   \n",
              "1303833   POINT (-122.415308388816 37.765316135635)  12051754106111   \n",
              "38943    POINT (-122.423658369809 37.8052850926566)  14613496706244   \n",
              "1737093  POINT (-122.399679247863 37.7666952934378)   8112439806244   \n",
              "1490803  POINT (-122.414645409901 37.7860688364633)  10056425515201   \n",
              "\n",
              "                   DateTime  \n",
              "1618683 2006-10-13 23:13:00  \n",
              "1303833 2012-06-30 17:40:00  \n",
              "38943   2014-07-06 22:20:00  \n",
              "1737093 2008-10-18 10:30:00  \n",
              "1490803 2010-04-10 17:30:00  "
            ]
          },
          "metadata": {
            "tags": []
          },
          "execution_count": 7
        }
      ]
    },
    {
      "cell_type": "code",
      "metadata": {
        "id": "-Fk9HAKH5_hX",
        "colab_type": "code",
        "colab": {
          "base_uri": "https://localhost:8080/",
          "height": 121
        },
        "outputId": "41981eea-9e74-4671-9cbd-e9b91eefcd08"
      },
      "source": [
        "print(X_train.duplicated().sum())\n",
        "X_train.drop_duplicates(inplace=True)\n",
        "assert(X_train.duplicated().sum() == 0)"
      ],
      "execution_count": 8,
      "outputs": [
        {
          "output_type": "stream",
          "text": [
            "0\n"
          ],
          "name": "stdout"
        },
        {
          "output_type": "stream",
          "text": [
            "/usr/local/lib/python3.6/dist-packages/ipykernel_launcher.py:2: SettingWithCopyWarning: \n",
            "A value is trying to be set on a copy of a slice from a DataFrame\n",
            "\n",
            "See the caveats in the documentation: http://pandas.pydata.org/pandas-docs/stable/user_guide/indexing.html#returning-a-view-versus-a-copy\n",
            "  \n"
          ],
          "name": "stderr"
        }
      ]
    },
    {
      "cell_type": "code",
      "metadata": {
        "id": "Bme9y8Lr7cdv",
        "colab_type": "code",
        "colab": {
          "base_uri": "https://localhost:8080/",
          "height": 452
        },
        "outputId": "f288c07d-bded-48ef-e15b-37944992a87a"
      },
      "source": [
        "X_test[:5]"
      ],
      "execution_count": 9,
      "outputs": [
        {
          "output_type": "execute_result",
          "data": {
            "text/html": [
              "<div>\n",
              "<style scoped>\n",
              "    .dataframe tbody tr th:only-of-type {\n",
              "        vertical-align: middle;\n",
              "    }\n",
              "\n",
              "    .dataframe tbody tr th {\n",
              "        vertical-align: top;\n",
              "    }\n",
              "\n",
              "    .dataframe thead th {\n",
              "        text-align: right;\n",
              "    }\n",
              "</style>\n",
              "<table border=\"1\" class=\"dataframe\">\n",
              "  <thead>\n",
              "    <tr style=\"text-align: right;\">\n",
              "      <th></th>\n",
              "      <th>IncidntNum</th>\n",
              "      <th>Category</th>\n",
              "      <th>Descript</th>\n",
              "      <th>DayOfWeek</th>\n",
              "      <th>Date</th>\n",
              "      <th>Time</th>\n",
              "      <th>PdDistrict</th>\n",
              "      <th>Resolution</th>\n",
              "      <th>Address</th>\n",
              "      <th>X</th>\n",
              "      <th>Y</th>\n",
              "      <th>Location</th>\n",
              "      <th>PdId</th>\n",
              "      <th>DateTime</th>\n",
              "    </tr>\n",
              "  </thead>\n",
              "  <tbody>\n",
              "    <tr>\n",
              "      <th>1041060</th>\n",
              "      <td>100505055</td>\n",
              "      <td>LARCENY/THEFT</td>\n",
              "      <td>GRAND THEFT FROM PERSON</td>\n",
              "      <td>Monday</td>\n",
              "      <td>05/31/2010</td>\n",
              "      <td>13:30</td>\n",
              "      <td>NORTHERN</td>\n",
              "      <td>NONE</td>\n",
              "      <td>VANNESS AV / BUSH ST</td>\n",
              "      <td>-122.421949</td>\n",
              "      <td>37.788488</td>\n",
              "      <td>POINT (-122.421949487547 37.7884881521135)</td>\n",
              "      <td>10050505506153</td>\n",
              "      <td>2010-05-31 13:30:00</td>\n",
              "    </tr>\n",
              "    <tr>\n",
              "      <th>578101</th>\n",
              "      <td>51217525</td>\n",
              "      <td>LARCENY/THEFT</td>\n",
              "      <td>GRAND THEFT FROM LOCKED AUTO</td>\n",
              "      <td>Friday</td>\n",
              "      <td>10/14/2005</td>\n",
              "      <td>13:00</td>\n",
              "      <td>MISSION</td>\n",
              "      <td>NONE</td>\n",
              "      <td>2600 Block of MISSION ST</td>\n",
              "      <td>-122.418600</td>\n",
              "      <td>37.754626</td>\n",
              "      <td>POINT (-122.41860030589 37.7546255872838)</td>\n",
              "      <td>5121752506244</td>\n",
              "      <td>2005-10-14 13:00:00</td>\n",
              "    </tr>\n",
              "    <tr>\n",
              "      <th>324260</th>\n",
              "      <td>81013597</td>\n",
              "      <td>PROSTITUTION</td>\n",
              "      <td>PIMPING</td>\n",
              "      <td>Wednesday</td>\n",
              "      <td>09/24/2008</td>\n",
              "      <td>01:39</td>\n",
              "      <td>CENTRAL</td>\n",
              "      <td>ARREST, CITED</td>\n",
              "      <td>LARKIN ST / SUTTER ST</td>\n",
              "      <td>-122.418468</td>\n",
              "      <td>37.787965</td>\n",
              "      <td>POINT (-122.418467747931 37.7879652569797)</td>\n",
              "      <td>8101359713030</td>\n",
              "      <td>2008-09-24 01:39:00</td>\n",
              "    </tr>\n",
              "    <tr>\n",
              "      <th>1404604</th>\n",
              "      <td>31205829</td>\n",
              "      <td>VEHICLE THEFT</td>\n",
              "      <td>STOLEN AUTOMOBILE</td>\n",
              "      <td>Sunday</td>\n",
              "      <td>10/12/2003</td>\n",
              "      <td>23:00</td>\n",
              "      <td>INGLESIDE</td>\n",
              "      <td>NONE</td>\n",
              "      <td>900 Block of HAMILTON ST</td>\n",
              "      <td>-122.406894</td>\n",
              "      <td>37.719578</td>\n",
              "      <td>POINT (-122.406893832735 37.7195778124637)</td>\n",
              "      <td>3120582907021</td>\n",
              "      <td>2003-10-12 23:00:00</td>\n",
              "    </tr>\n",
              "    <tr>\n",
              "      <th>1357958</th>\n",
              "      <td>90022202</td>\n",
              "      <td>NON-CRIMINAL</td>\n",
              "      <td>TARASOFF REPORT</td>\n",
              "      <td>Wednesday</td>\n",
              "      <td>01/07/2009</td>\n",
              "      <td>10:42</td>\n",
              "      <td>PARK</td>\n",
              "      <td>NONE</td>\n",
              "      <td>2200 Block of GEARY BL</td>\n",
              "      <td>-122.440341</td>\n",
              "      <td>37.783324</td>\n",
              "      <td>POINT (-122.440341074545 37.7833242481047)</td>\n",
              "      <td>9002220215095</td>\n",
              "      <td>2009-01-07 10:42:00</td>\n",
              "    </tr>\n",
              "  </tbody>\n",
              "</table>\n",
              "</div>"
            ],
            "text/plain": [
              "         IncidntNum       Category                      Descript  DayOfWeek  \\\n",
              "1041060   100505055  LARCENY/THEFT       GRAND THEFT FROM PERSON     Monday   \n",
              "578101     51217525  LARCENY/THEFT  GRAND THEFT FROM LOCKED AUTO     Friday   \n",
              "324260     81013597   PROSTITUTION                       PIMPING  Wednesday   \n",
              "1404604    31205829  VEHICLE THEFT             STOLEN AUTOMOBILE     Sunday   \n",
              "1357958    90022202   NON-CRIMINAL               TARASOFF REPORT  Wednesday   \n",
              "\n",
              "               Date   Time PdDistrict     Resolution  \\\n",
              "1041060  05/31/2010  13:30   NORTHERN           NONE   \n",
              "578101   10/14/2005  13:00    MISSION           NONE   \n",
              "324260   09/24/2008  01:39    CENTRAL  ARREST, CITED   \n",
              "1404604  10/12/2003  23:00  INGLESIDE           NONE   \n",
              "1357958  01/07/2009  10:42       PARK           NONE   \n",
              "\n",
              "                          Address           X          Y  \\\n",
              "1041060      VANNESS AV / BUSH ST -122.421949  37.788488   \n",
              "578101   2600 Block of MISSION ST -122.418600  37.754626   \n",
              "324260      LARKIN ST / SUTTER ST -122.418468  37.787965   \n",
              "1404604  900 Block of HAMILTON ST -122.406894  37.719578   \n",
              "1357958    2200 Block of GEARY BL -122.440341  37.783324   \n",
              "\n",
              "                                           Location            PdId  \\\n",
              "1041060  POINT (-122.421949487547 37.7884881521135)  10050505506153   \n",
              "578101    POINT (-122.41860030589 37.7546255872838)   5121752506244   \n",
              "324260   POINT (-122.418467747931 37.7879652569797)   8101359713030   \n",
              "1404604  POINT (-122.406893832735 37.7195778124637)   3120582907021   \n",
              "1357958  POINT (-122.440341074545 37.7833242481047)   9002220215095   \n",
              "\n",
              "                   DateTime  \n",
              "1041060 2010-05-31 13:30:00  \n",
              "578101  2005-10-14 13:00:00  \n",
              "324260  2008-09-24 01:39:00  \n",
              "1404604 2003-10-12 23:00:00  \n",
              "1357958 2009-01-07 10:42:00  "
            ]
          },
          "metadata": {
            "tags": []
          },
          "execution_count": 9
        }
      ]
    },
    {
      "cell_type": "code",
      "metadata": {
        "id": "638tmUUK7jVA",
        "colab_type": "code",
        "colab": {
          "base_uri": "https://localhost:8080/",
          "height": 104
        },
        "outputId": "05d5c058-24f3-4a38-9fa5-cc929bc58292"
      },
      "source": [
        "y_train = X_train['Category']\n",
        "X_train_description = X_train['Descript']\n",
        "X_train_resolution = X_train['Resolution']\n",
        "X_train.drop([\"Category\", \"Descript\", \"Resolution\"], axis=1, inplace=True)"
      ],
      "execution_count": 10,
      "outputs": [
        {
          "output_type": "stream",
          "text": [
            "/usr/local/lib/python3.6/dist-packages/pandas/core/frame.py:4117: SettingWithCopyWarning: \n",
            "A value is trying to be set on a copy of a slice from a DataFrame\n",
            "\n",
            "See the caveats in the documentation: http://pandas.pydata.org/pandas-docs/stable/user_guide/indexing.html#returning-a-view-versus-a-copy\n",
            "  errors=errors,\n"
          ],
          "name": "stderr"
        }
      ]
    },
    {
      "cell_type": "code",
      "metadata": {
        "id": "6tNLyLyc56iZ",
        "colab_type": "code",
        "colab": {
          "base_uri": "https://localhost:8080/",
          "height": 121
        },
        "outputId": "ce1b079a-1865-47d5-c470-be92f91f8e5e"
      },
      "source": [
        "X_test['Id'] = X_test.index"
      ],
      "execution_count": 11,
      "outputs": [
        {
          "output_type": "stream",
          "text": [
            "/usr/local/lib/python3.6/dist-packages/ipykernel_launcher.py:1: SettingWithCopyWarning: \n",
            "A value is trying to be set on a copy of a slice from a DataFrame.\n",
            "Try using .loc[row_indexer,col_indexer] = value instead\n",
            "\n",
            "See the caveats in the documentation: http://pandas.pydata.org/pandas-docs/stable/user_guide/indexing.html#returning-a-view-versus-a-copy\n",
            "  \"\"\"Entry point for launching an IPython kernel.\n"
          ],
          "name": "stderr"
        }
      ]
    },
    {
      "cell_type": "code",
      "metadata": {
        "id": "MsxojBar7kjH",
        "colab_type": "code",
        "colab": {
          "base_uri": "https://localhost:8080/",
          "height": 104
        },
        "outputId": "2819dfbc-4728-4579-b739-bc64c33e368d"
      },
      "source": [
        "test_ID = X_test[\"Id\"]\n",
        "X_test.drop(\"Id\", axis=1, inplace=True)"
      ],
      "execution_count": 12,
      "outputs": [
        {
          "output_type": "stream",
          "text": [
            "/usr/local/lib/python3.6/dist-packages/pandas/core/frame.py:4117: SettingWithCopyWarning: \n",
            "A value is trying to be set on a copy of a slice from a DataFrame\n",
            "\n",
            "See the caveats in the documentation: http://pandas.pydata.org/pandas-docs/stable/user_guide/indexing.html#returning-a-view-versus-a-copy\n",
            "  errors=errors,\n"
          ],
          "name": "stderr"
        }
      ]
    },
    {
      "cell_type": "code",
      "metadata": {
        "id": "ijAxcUrU7w_P",
        "colab_type": "code",
        "colab": {
          "base_uri": "https://localhost:8080/",
          "height": 293
        },
        "outputId": "2278387b-9538-43be-8fcd-85bc2c3c2f8e"
      },
      "source": [
        "X_train[:5]"
      ],
      "execution_count": 13,
      "outputs": [
        {
          "output_type": "execute_result",
          "data": {
            "text/html": [
              "<div>\n",
              "<style scoped>\n",
              "    .dataframe tbody tr th:only-of-type {\n",
              "        vertical-align: middle;\n",
              "    }\n",
              "\n",
              "    .dataframe tbody tr th {\n",
              "        vertical-align: top;\n",
              "    }\n",
              "\n",
              "    .dataframe thead th {\n",
              "        text-align: right;\n",
              "    }\n",
              "</style>\n",
              "<table border=\"1\" class=\"dataframe\">\n",
              "  <thead>\n",
              "    <tr style=\"text-align: right;\">\n",
              "      <th></th>\n",
              "      <th>IncidntNum</th>\n",
              "      <th>DayOfWeek</th>\n",
              "      <th>Date</th>\n",
              "      <th>Time</th>\n",
              "      <th>PdDistrict</th>\n",
              "      <th>Address</th>\n",
              "      <th>X</th>\n",
              "      <th>Y</th>\n",
              "      <th>Location</th>\n",
              "      <th>PdId</th>\n",
              "      <th>DateTime</th>\n",
              "    </tr>\n",
              "  </thead>\n",
              "  <tbody>\n",
              "    <tr>\n",
              "      <th>1618683</th>\n",
              "      <td>61097743</td>\n",
              "      <td>Friday</td>\n",
              "      <td>10/13/2006</td>\n",
              "      <td>23:13</td>\n",
              "      <td>CENTRAL</td>\n",
              "      <td>200 Block of COLUMBUS AV</td>\n",
              "      <td>-122.406504</td>\n",
              "      <td>37.797678</td>\n",
              "      <td>POINT (-122.406503626072 37.7976778969458)</td>\n",
              "      <td>6109774364070</td>\n",
              "      <td>2006-10-13 23:13:00</td>\n",
              "    </tr>\n",
              "    <tr>\n",
              "      <th>1303833</th>\n",
              "      <td>120517541</td>\n",
              "      <td>Saturday</td>\n",
              "      <td>06/30/2012</td>\n",
              "      <td>17:40</td>\n",
              "      <td>MISSION</td>\n",
              "      <td>16TH ST / FOLSOM ST</td>\n",
              "      <td>-122.415308</td>\n",
              "      <td>37.765316</td>\n",
              "      <td>POINT (-122.415308388816 37.765316135635)</td>\n",
              "      <td>12051754106111</td>\n",
              "      <td>2012-06-30 17:40:00</td>\n",
              "    </tr>\n",
              "    <tr>\n",
              "      <th>38943</th>\n",
              "      <td>146134967</td>\n",
              "      <td>Sunday</td>\n",
              "      <td>07/06/2014</td>\n",
              "      <td>22:20</td>\n",
              "      <td>CENTRAL</td>\n",
              "      <td>NORTHPOINT ST / POLK ST</td>\n",
              "      <td>-122.423658</td>\n",
              "      <td>37.805285</td>\n",
              "      <td>POINT (-122.423658369809 37.8052850926566)</td>\n",
              "      <td>14613496706244</td>\n",
              "      <td>2014-07-06 22:20:00</td>\n",
              "    </tr>\n",
              "    <tr>\n",
              "      <th>1737093</th>\n",
              "      <td>81124398</td>\n",
              "      <td>Saturday</td>\n",
              "      <td>10/18/2008</td>\n",
              "      <td>10:30</td>\n",
              "      <td>BAYVIEW</td>\n",
              "      <td>IRWIN ST / 8TH ST</td>\n",
              "      <td>-122.399679</td>\n",
              "      <td>37.766695</td>\n",
              "      <td>POINT (-122.399679247863 37.7666952934378)</td>\n",
              "      <td>8112439806244</td>\n",
              "      <td>2008-10-18 10:30:00</td>\n",
              "    </tr>\n",
              "    <tr>\n",
              "      <th>1490803</th>\n",
              "      <td>100564255</td>\n",
              "      <td>Saturday</td>\n",
              "      <td>04/10/2010</td>\n",
              "      <td>17:30</td>\n",
              "      <td>TENDERLOIN</td>\n",
              "      <td>500 Block of LEAVENWORTH ST</td>\n",
              "      <td>-122.414645</td>\n",
              "      <td>37.786069</td>\n",
              "      <td>POINT (-122.414645409901 37.7860688364633)</td>\n",
              "      <td>10056425515201</td>\n",
              "      <td>2010-04-10 17:30:00</td>\n",
              "    </tr>\n",
              "  </tbody>\n",
              "</table>\n",
              "</div>"
            ],
            "text/plain": [
              "         IncidntNum DayOfWeek        Date   Time  PdDistrict  \\\n",
              "1618683    61097743    Friday  10/13/2006  23:13     CENTRAL   \n",
              "1303833   120517541  Saturday  06/30/2012  17:40     MISSION   \n",
              "38943     146134967    Sunday  07/06/2014  22:20     CENTRAL   \n",
              "1737093    81124398  Saturday  10/18/2008  10:30     BAYVIEW   \n",
              "1490803   100564255  Saturday  04/10/2010  17:30  TENDERLOIN   \n",
              "\n",
              "                             Address           X          Y  \\\n",
              "1618683     200 Block of COLUMBUS AV -122.406504  37.797678   \n",
              "1303833          16TH ST / FOLSOM ST -122.415308  37.765316   \n",
              "38943        NORTHPOINT ST / POLK ST -122.423658  37.805285   \n",
              "1737093            IRWIN ST / 8TH ST -122.399679  37.766695   \n",
              "1490803  500 Block of LEAVENWORTH ST -122.414645  37.786069   \n",
              "\n",
              "                                           Location            PdId  \\\n",
              "1618683  POINT (-122.406503626072 37.7976778969458)   6109774364070   \n",
              "1303833   POINT (-122.415308388816 37.765316135635)  12051754106111   \n",
              "38943    POINT (-122.423658369809 37.8052850926566)  14613496706244   \n",
              "1737093  POINT (-122.399679247863 37.7666952934378)   8112439806244   \n",
              "1490803  POINT (-122.414645409901 37.7860688364633)  10056425515201   \n",
              "\n",
              "                   DateTime  \n",
              "1618683 2006-10-13 23:13:00  \n",
              "1303833 2012-06-30 17:40:00  \n",
              "38943   2014-07-06 22:20:00  \n",
              "1737093 2008-10-18 10:30:00  \n",
              "1490803 2010-04-10 17:30:00  "
            ]
          },
          "metadata": {
            "tags": []
          },
          "execution_count": 13
        }
      ]
    },
    {
      "cell_type": "code",
      "metadata": {
        "id": "CBcmpo3Y70lg",
        "colab_type": "code",
        "colab": {
          "base_uri": "https://localhost:8080/",
          "height": 452
        },
        "outputId": "704c8cfc-6710-4144-880f-f56c6cc0fa59"
      },
      "source": [
        "X_test[:5]"
      ],
      "execution_count": 14,
      "outputs": [
        {
          "output_type": "execute_result",
          "data": {
            "text/html": [
              "<div>\n",
              "<style scoped>\n",
              "    .dataframe tbody tr th:only-of-type {\n",
              "        vertical-align: middle;\n",
              "    }\n",
              "\n",
              "    .dataframe tbody tr th {\n",
              "        vertical-align: top;\n",
              "    }\n",
              "\n",
              "    .dataframe thead th {\n",
              "        text-align: right;\n",
              "    }\n",
              "</style>\n",
              "<table border=\"1\" class=\"dataframe\">\n",
              "  <thead>\n",
              "    <tr style=\"text-align: right;\">\n",
              "      <th></th>\n",
              "      <th>IncidntNum</th>\n",
              "      <th>Category</th>\n",
              "      <th>Descript</th>\n",
              "      <th>DayOfWeek</th>\n",
              "      <th>Date</th>\n",
              "      <th>Time</th>\n",
              "      <th>PdDistrict</th>\n",
              "      <th>Resolution</th>\n",
              "      <th>Address</th>\n",
              "      <th>X</th>\n",
              "      <th>Y</th>\n",
              "      <th>Location</th>\n",
              "      <th>PdId</th>\n",
              "      <th>DateTime</th>\n",
              "    </tr>\n",
              "  </thead>\n",
              "  <tbody>\n",
              "    <tr>\n",
              "      <th>1041060</th>\n",
              "      <td>100505055</td>\n",
              "      <td>LARCENY/THEFT</td>\n",
              "      <td>GRAND THEFT FROM PERSON</td>\n",
              "      <td>Monday</td>\n",
              "      <td>05/31/2010</td>\n",
              "      <td>13:30</td>\n",
              "      <td>NORTHERN</td>\n",
              "      <td>NONE</td>\n",
              "      <td>VANNESS AV / BUSH ST</td>\n",
              "      <td>-122.421949</td>\n",
              "      <td>37.788488</td>\n",
              "      <td>POINT (-122.421949487547 37.7884881521135)</td>\n",
              "      <td>10050505506153</td>\n",
              "      <td>2010-05-31 13:30:00</td>\n",
              "    </tr>\n",
              "    <tr>\n",
              "      <th>578101</th>\n",
              "      <td>51217525</td>\n",
              "      <td>LARCENY/THEFT</td>\n",
              "      <td>GRAND THEFT FROM LOCKED AUTO</td>\n",
              "      <td>Friday</td>\n",
              "      <td>10/14/2005</td>\n",
              "      <td>13:00</td>\n",
              "      <td>MISSION</td>\n",
              "      <td>NONE</td>\n",
              "      <td>2600 Block of MISSION ST</td>\n",
              "      <td>-122.418600</td>\n",
              "      <td>37.754626</td>\n",
              "      <td>POINT (-122.41860030589 37.7546255872838)</td>\n",
              "      <td>5121752506244</td>\n",
              "      <td>2005-10-14 13:00:00</td>\n",
              "    </tr>\n",
              "    <tr>\n",
              "      <th>324260</th>\n",
              "      <td>81013597</td>\n",
              "      <td>PROSTITUTION</td>\n",
              "      <td>PIMPING</td>\n",
              "      <td>Wednesday</td>\n",
              "      <td>09/24/2008</td>\n",
              "      <td>01:39</td>\n",
              "      <td>CENTRAL</td>\n",
              "      <td>ARREST, CITED</td>\n",
              "      <td>LARKIN ST / SUTTER ST</td>\n",
              "      <td>-122.418468</td>\n",
              "      <td>37.787965</td>\n",
              "      <td>POINT (-122.418467747931 37.7879652569797)</td>\n",
              "      <td>8101359713030</td>\n",
              "      <td>2008-09-24 01:39:00</td>\n",
              "    </tr>\n",
              "    <tr>\n",
              "      <th>1404604</th>\n",
              "      <td>31205829</td>\n",
              "      <td>VEHICLE THEFT</td>\n",
              "      <td>STOLEN AUTOMOBILE</td>\n",
              "      <td>Sunday</td>\n",
              "      <td>10/12/2003</td>\n",
              "      <td>23:00</td>\n",
              "      <td>INGLESIDE</td>\n",
              "      <td>NONE</td>\n",
              "      <td>900 Block of HAMILTON ST</td>\n",
              "      <td>-122.406894</td>\n",
              "      <td>37.719578</td>\n",
              "      <td>POINT (-122.406893832735 37.7195778124637)</td>\n",
              "      <td>3120582907021</td>\n",
              "      <td>2003-10-12 23:00:00</td>\n",
              "    </tr>\n",
              "    <tr>\n",
              "      <th>1357958</th>\n",
              "      <td>90022202</td>\n",
              "      <td>NON-CRIMINAL</td>\n",
              "      <td>TARASOFF REPORT</td>\n",
              "      <td>Wednesday</td>\n",
              "      <td>01/07/2009</td>\n",
              "      <td>10:42</td>\n",
              "      <td>PARK</td>\n",
              "      <td>NONE</td>\n",
              "      <td>2200 Block of GEARY BL</td>\n",
              "      <td>-122.440341</td>\n",
              "      <td>37.783324</td>\n",
              "      <td>POINT (-122.440341074545 37.7833242481047)</td>\n",
              "      <td>9002220215095</td>\n",
              "      <td>2009-01-07 10:42:00</td>\n",
              "    </tr>\n",
              "  </tbody>\n",
              "</table>\n",
              "</div>"
            ],
            "text/plain": [
              "         IncidntNum       Category                      Descript  DayOfWeek  \\\n",
              "1041060   100505055  LARCENY/THEFT       GRAND THEFT FROM PERSON     Monday   \n",
              "578101     51217525  LARCENY/THEFT  GRAND THEFT FROM LOCKED AUTO     Friday   \n",
              "324260     81013597   PROSTITUTION                       PIMPING  Wednesday   \n",
              "1404604    31205829  VEHICLE THEFT             STOLEN AUTOMOBILE     Sunday   \n",
              "1357958    90022202   NON-CRIMINAL               TARASOFF REPORT  Wednesday   \n",
              "\n",
              "               Date   Time PdDistrict     Resolution  \\\n",
              "1041060  05/31/2010  13:30   NORTHERN           NONE   \n",
              "578101   10/14/2005  13:00    MISSION           NONE   \n",
              "324260   09/24/2008  01:39    CENTRAL  ARREST, CITED   \n",
              "1404604  10/12/2003  23:00  INGLESIDE           NONE   \n",
              "1357958  01/07/2009  10:42       PARK           NONE   \n",
              "\n",
              "                          Address           X          Y  \\\n",
              "1041060      VANNESS AV / BUSH ST -122.421949  37.788488   \n",
              "578101   2600 Block of MISSION ST -122.418600  37.754626   \n",
              "324260      LARKIN ST / SUTTER ST -122.418468  37.787965   \n",
              "1404604  900 Block of HAMILTON ST -122.406894  37.719578   \n",
              "1357958    2200 Block of GEARY BL -122.440341  37.783324   \n",
              "\n",
              "                                           Location            PdId  \\\n",
              "1041060  POINT (-122.421949487547 37.7884881521135)  10050505506153   \n",
              "578101    POINT (-122.41860030589 37.7546255872838)   5121752506244   \n",
              "324260   POINT (-122.418467747931 37.7879652569797)   8101359713030   \n",
              "1404604  POINT (-122.406893832735 37.7195778124637)   3120582907021   \n",
              "1357958  POINT (-122.440341074545 37.7833242481047)   9002220215095   \n",
              "\n",
              "                   DateTime  \n",
              "1041060 2010-05-31 13:30:00  \n",
              "578101  2005-10-14 13:00:00  \n",
              "324260  2008-09-24 01:39:00  \n",
              "1404604 2003-10-12 23:00:00  \n",
              "1357958 2009-01-07 10:42:00  "
            ]
          },
          "metadata": {
            "tags": []
          },
          "execution_count": 14
        }
      ]
    },
    {
      "cell_type": "code",
      "metadata": {
        "id": "ajsL5u8i74rp",
        "colab_type": "code",
        "colab": {
          "base_uri": "https://localhost:8080/",
          "height": 34
        },
        "outputId": "c7d12609-61ca-4522-fec5-2c8ab9367dc9"
      },
      "source": [
        "X_train.shape"
      ],
      "execution_count": 15,
      "outputs": [
        {
          "output_type": "execute_result",
          "data": {
            "text/plain": [
              "(1484066, 11)"
            ]
          },
          "metadata": {
            "tags": []
          },
          "execution_count": 15
        }
      ]
    },
    {
      "cell_type": "code",
      "metadata": {
        "id": "LosDWm8979as",
        "colab_type": "code",
        "colab": {
          "base_uri": "https://localhost:8080/",
          "height": 34
        },
        "outputId": "c3edb4c1-c31a-43b4-9373-f6cd95c45def"
      },
      "source": [
        "X_test.shape"
      ],
      "execution_count": 16,
      "outputs": [
        {
          "output_type": "execute_result",
          "data": {
            "text/plain": [
              "(730958, 14)"
            ]
          },
          "metadata": {
            "tags": []
          },
          "execution_count": 16
        }
      ]
    },
    {
      "cell_type": "code",
      "metadata": {
        "id": "6E3KGPrp7_8b",
        "colab_type": "code",
        "colab": {
          "base_uri": "https://localhost:8080/",
          "height": 712
        },
        "outputId": "a32e69db-3716-469b-f1fd-f575d78e54d9"
      },
      "source": [
        "y_train.value_counts()"
      ],
      "execution_count": 17,
      "outputs": [
        {
          "output_type": "execute_result",
          "data": {
            "text/plain": [
              "LARCENY/THEFT                  322179\n",
              "OTHER OFFENSES                 207433\n",
              "NON-CRIMINAL                   159533\n",
              "ASSAULT                        130381\n",
              "VEHICLE THEFT                   84732\n",
              "DRUG/NARCOTIC                   79817\n",
              "VANDALISM                       77918\n",
              "WARRANTS                        68048\n",
              "BURGLARY                        61295\n",
              "SUSPICIOUS OCC                  53843\n",
              "MISSING PERSON                  43592\n",
              "ROBBERY                         37321\n",
              "FRAUD                           27661\n",
              "SECONDARY CODES                 17358\n",
              "FORGERY/COUNTERFEITING          15487\n",
              "WEAPON LAWS                     14917\n",
              "TRESPASS                        13045\n",
              "PROSTITUTION                    11350\n",
              "STOLEN PROPERTY                  7892\n",
              "SEX OFFENSES, FORCIBLE           7889\n",
              "DISORDERLY CONDUCT               6794\n",
              "DRUNKENNESS                      6552\n",
              "RECOVERED VEHICLE                5906\n",
              "DRIVING UNDER THE INFLUENCE      3760\n",
              "KIDNAPPING                       3577\n",
              "RUNAWAY                          2941\n",
              "LIQUOR LAWS                      2757\n",
              "ARSON                            2588\n",
              "EMBEZZLEMENT                     2033\n",
              "LOITERING                        1603\n",
              "SUICIDE                           856\n",
              "FAMILY OFFENSES                   772\n",
              "BAD CHECKS                        628\n",
              "BRIBERY                           567\n",
              "EXTORTION                         477\n",
              "SEX OFFENSES, NON FORCIBLE        289\n",
              "GAMBLING                          225\n",
              "PORNOGRAPHY/OBSCENE MAT            41\n",
              "TREA                                9\n",
              "Name: Category, dtype: int64"
            ]
          },
          "metadata": {
            "tags": []
          },
          "execution_count": 17
        }
      ]
    },
    {
      "cell_type": "code",
      "metadata": {
        "id": "Cza5kIXS8BlM",
        "colab_type": "code",
        "colab": {
          "base_uri": "https://localhost:8080/",
          "height": 173
        },
        "outputId": "3776a852-3639-4abe-808e-5991eb9e4e5f"
      },
      "source": [
        "le = LabelEncoder()\n",
        "y_train = le.fit_transform(y_train)\n",
        "print(le.classes_)"
      ],
      "execution_count": 18,
      "outputs": [
        {
          "output_type": "stream",
          "text": [
            "['ARSON' 'ASSAULT' 'BAD CHECKS' 'BRIBERY' 'BURGLARY' 'DISORDERLY CONDUCT'\n",
            " 'DRIVING UNDER THE INFLUENCE' 'DRUG/NARCOTIC' 'DRUNKENNESS'\n",
            " 'EMBEZZLEMENT' 'EXTORTION' 'FAMILY OFFENSES' 'FORGERY/COUNTERFEITING'\n",
            " 'FRAUD' 'GAMBLING' 'KIDNAPPING' 'LARCENY/THEFT' 'LIQUOR LAWS' 'LOITERING'\n",
            " 'MISSING PERSON' 'NON-CRIMINAL' 'OTHER OFFENSES'\n",
            " 'PORNOGRAPHY/OBSCENE MAT' 'PROSTITUTION' 'RECOVERED VEHICLE' 'ROBBERY'\n",
            " 'RUNAWAY' 'SECONDARY CODES' 'SEX OFFENSES, FORCIBLE'\n",
            " 'SEX OFFENSES, NON FORCIBLE' 'STOLEN PROPERTY' 'SUICIDE' 'SUSPICIOUS OCC'\n",
            " 'TREA' 'TRESPASS' 'VANDALISM' 'VEHICLE THEFT' 'WARRANTS' 'WEAPON LAWS']\n"
          ],
          "name": "stdout"
        }
      ]
    },
    {
      "cell_type": "code",
      "metadata": {
        "id": "gOd5W1Ew8Emn",
        "colab_type": "code",
        "colab": {
          "base_uri": "https://localhost:8080/",
          "height": 156
        },
        "outputId": "29297e27-4b14-49e6-d619-9f8313720e8f"
      },
      "source": [
        "num_train = X_train.shape[0]\n",
        "all_data = pd.concat((X_train, X_test), ignore_index=True)"
      ],
      "execution_count": 19,
      "outputs": [
        {
          "output_type": "stream",
          "text": [
            "/usr/local/lib/python3.6/dist-packages/ipykernel_launcher.py:2: FutureWarning: Sorting because non-concatenation axis is not aligned. A future version\n",
            "of pandas will change to not sort by default.\n",
            "\n",
            "To accept the future behavior, pass 'sort=False'.\n",
            "\n",
            "To retain the current behavior and silence the warning, pass 'sort=True'.\n",
            "\n",
            "  \n"
          ],
          "name": "stderr"
        }
      ]
    },
    {
      "cell_type": "code",
      "metadata": {
        "id": "3LLzgWRQ8GMw",
        "colab_type": "code",
        "colab": {}
      },
      "source": [
        "date = pd.to_datetime(all_data['DateTime'])\n",
        "all_data['year'] = date.dt.year\n",
        "all_data['month'] = date.dt.month\n",
        "all_data['day'] = date.dt.day\n",
        "all_data['hour'] = date.dt.hour\n",
        "all_data['minute'] = date.dt.minute\n",
        "all_data['special_time'] = all_data['minute'].isin([0, 30]).astype(int)\n",
        "# all_data['second'] = date.dt.second  # all zero\n",
        "all_data[\"n_days\"] = (date - date.min()).apply(lambda x: x.days)\n",
        "all_data.drop(\"DateTime\", axis=1, inplace=True)"
      ],
      "execution_count": 0,
      "outputs": []
    },
    {
      "cell_type": "code",
      "metadata": {
        "id": "1SBtkbek8IdS",
        "colab_type": "code",
        "colab": {
          "base_uri": "https://localhost:8080/",
          "height": 156
        },
        "outputId": "64b7b103-5ecf-4dbb-ef5f-a102b3612904"
      },
      "source": [
        "all_data[\"DayOfWeek\"].value_counts()"
      ],
      "execution_count": 21,
      "outputs": [
        {
          "output_type": "execute_result",
          "data": {
            "text/plain": [
              "Friday       337941\n",
              "Wednesday    324020\n",
              "Saturday     320593\n",
              "Thursday     316156\n",
              "Tuesday      315135\n",
              "Monday       306587\n",
              "Sunday       294592\n",
              "Name: DayOfWeek, dtype: int64"
            ]
          },
          "metadata": {
            "tags": []
          },
          "execution_count": 21
        }
      ]
    },
    {
      "cell_type": "code",
      "metadata": {
        "id": "W7XRLlkE9oEr",
        "colab_type": "code",
        "colab": {
          "base_uri": "https://localhost:8080/",
          "height": 208
        },
        "outputId": "06b815e3-0d69-478e-d5cb-1591dfaa37ad"
      },
      "source": [
        "all_data[\"PdDistrict\"].value_counts()"
      ],
      "execution_count": 22,
      "outputs": [
        {
          "output_type": "execute_result",
          "data": {
            "text/plain": [
              "SOUTHERN      399785\n",
              "MISSION       300076\n",
              "NORTHERN      272713\n",
              "CENTRAL       226255\n",
              "BAYVIEW       221000\n",
              "INGLESIDE     194180\n",
              "TENDERLOIN    191746\n",
              "TARAVAL       166971\n",
              "PARK          125479\n",
              "RICHMOND      116818\n",
              "Name: PdDistrict, dtype: int64"
            ]
          },
          "metadata": {
            "tags": []
          },
          "execution_count": 22
        }
      ]
    },
    {
      "cell_type": "code",
      "metadata": {
        "id": "XRhlY2Ei9rdL",
        "colab_type": "code",
        "colab": {}
      },
      "source": [
        "sentences = []\n",
        "for s in all_data[\"Address\"]:\n",
        "    sentences.append(s.split(\" \"))\n",
        "address_model = gensim.models.Word2Vec(sentences, min_count=1)\n",
        "encoded_address = np.zeros((all_data.shape[0], 100))\n",
        "for i in range(len(sentences)):\n",
        "    for j in range(len(sentences[i])):\n",
        "        encoded_address[i] += address_model.wv[sentences[i][j]]\n",
        "    encoded_address[i] /= len(sentences[i])"
      ],
      "execution_count": 0,
      "outputs": []
    },
    {
      "cell_type": "code",
      "metadata": {
        "id": "Dpsb0dM09uF1",
        "colab_type": "code",
        "colab": {}
      },
      "source": [
        "all_data['block'] = all_data[\"Address\"].str.contains(\"block\", case=False)\n",
        "all_data.drop(\"Address\", axis=1, inplace=True)"
      ],
      "execution_count": 0,
      "outputs": []
    },
    {
      "cell_type": "code",
      "metadata": {
        "id": "y1IN7kWn-RYu",
        "colab_type": "code",
        "colab": {}
      },
      "source": [
        "X_median = all_data[all_data[\"X\"] < -120.5][\"X\"].median()\n",
        "Y_median = all_data[all_data[\"Y\"] < 90][\"Y\"].median()\n",
        "all_data.loc[all_data[\"X\"] >= -120.5, \"X\"] = X_median\n",
        "all_data.loc[all_data[\"Y\"] >= 90, \"Y\"] = Y_median"
      ],
      "execution_count": 0,
      "outputs": []
    },
    {
      "cell_type": "code",
      "metadata": {
        "id": "RF-jBn1j_KnA",
        "colab_type": "code",
        "colab": {
          "base_uri": "https://localhost:8080/",
          "height": 52
        },
        "outputId": "c814e23f-3ddf-4cae-ba15-0f806e9cfb2e"
      },
      "source": [
        "print(all_data[\"X\"].min(), all_data[\"X\"].max())\n",
        "print(all_data[\"Y\"].min(), all_data[\"Y\"].max())"
      ],
      "execution_count": 26,
      "outputs": [
        {
          "output_type": "stream",
          "text": [
            "-122.51364206429 -122.364750704393\n",
            "37.7078790224135 37.820620838070205\n"
          ],
          "name": "stdout"
        }
      ]
    },
    {
      "cell_type": "code",
      "metadata": {
        "id": "o6S8H_aa_QUp",
        "colab_type": "code",
        "colab": {
          "base_uri": "https://localhost:8080/",
          "height": 964
        },
        "outputId": "b4ed3b0e-cdc7-4e70-d14e-89db3596c14d"
      },
      "source": [
        "all_data[\"X+Y\"] = all_data[\"X\"] + all_data[\"Y\"]\n",
        "all_data[\"X-Y\"] = all_data[\"X\"] - all_data[\"Y\"]\n",
        "all_data[\"XY30_1\"] = all_data[\"X\"] * np.cos(np.pi / 6) + all_data[\"Y\"] * np.sin(np.pi / 6)\n",
        "all_data[\"XY30_2\"] = all_data[\"Y\"] * np.cos(np.pi / 6) - all_data[\"X\"] * np.sin(np.pi / 6)\n",
        "all_data[\"XY60_1\"] = all_data[\"X\"] * np.cos(np.pi / 3) + all_data[\"Y\"] * np.sin(np.pi / 3)\n",
        "all_data[\"XY60_2\"] = all_data[\"Y\"] * np.cos(np.pi / 3) - all_data[\"X\"] * np.sin(np.pi / 3)\n",
        "all_data[\"XY1\"] = (all_data[\"X\"] - all_data[\"X\"].min()) ** 2 + (all_data[\"Y\"] - all_data[\"Y\"].min()) ** 2\n",
        "all_data[\"XY2\"] = (all_data[\"X\"].max() - all_data[\"X\"]) ** 2 + (all_data[\"Y\"] - all_data[\"Y\"].min()) ** 2\n",
        "all_data[\"XY3\"] = (all_data[\"X\"] - all_data[\"X\"].min()) ** 2 + (all_data[\"Y\"].max() - all_data[\"Y\"]) ** 2\n",
        "all_data[\"XY4\"] = (all_data[\"X\"].max() - all_data[\"X\"]) ** 2 + (all_data[\"Y\"].max() - all_data[\"Y\"]) ** 2\n",
        "all_data[\"XY5\"] = (all_data[\"X\"] - X_median) ** 2 + (all_data[\"Y\"] - Y_median) ** 2\n",
        "pca = PCA(n_components=2).fit(all_data[[\"X\", \"Y\"]])\n",
        "XYt = pca.transform(all_data[[\"X\", \"Y\"]])\n",
        "all_data[\"XYpca1\"] = XYt[:, 0]\n",
        "all_data[\"XYpca2\"] = XYt[:, 1]\n",
        "# n_components selected by aic/bic\n",
        "clf = GaussianMixture(n_components=150, covariance_type=\"diag\",\n",
        "                      random_state=0).fit(all_data[[\"X\", \"Y\"]])\n",
        "all_data[\"XYcluster\"] = clf.predict(all_data[[\"X\", \"Y\"]])"
      ],
      "execution_count": 27,
      "outputs": [
        {
          "output_type": "stream",
          "text": [
            "ERROR:root:Internal Python error in the inspect module.\n",
            "Below is the traceback from this internal error.\n",
            "\n"
          ],
          "name": "stderr"
        },
        {
          "output_type": "stream",
          "text": [
            "Traceback (most recent call last):\n",
            "  File \"/usr/local/lib/python3.6/dist-packages/IPython/core/interactiveshell.py\", line 2882, in run_code\n",
            "    exec(code_obj, self.user_global_ns, self.user_ns)\n",
            "  File \"<ipython-input-27-669610a4cb46>\", line 18, in <module>\n",
            "    random_state=0).fit(all_data[[\"X\", \"Y\"]])\n",
            "  File \"/usr/local/lib/python3.6/dist-packages/sklearn/mixture/base.py\", line 191, in fit\n",
            "    self.fit_predict(X, y)\n",
            "  File \"/usr/local/lib/python3.6/dist-packages/sklearn/mixture/base.py\", line 241, in fit_predict\n",
            "    log_prob_norm, log_resp = self._e_step(X)\n",
            "  File \"/usr/local/lib/python3.6/dist-packages/sklearn/mixture/base.py\", line 294, in _e_step\n",
            "    log_prob_norm, log_resp = self._estimate_log_prob_resp(X)\n",
            "  File \"/usr/local/lib/python3.6/dist-packages/sklearn/mixture/base.py\", line 503, in _estimate_log_prob_resp\n",
            "    weighted_log_prob = self._estimate_weighted_log_prob(X)\n",
            "  File \"/usr/local/lib/python3.6/dist-packages/sklearn/mixture/base.py\", line 456, in _estimate_weighted_log_prob\n",
            "    return self._estimate_log_prob(X) + self._estimate_log_weights()\n",
            "KeyboardInterrupt\n",
            "\n",
            "During handling of the above exception, another exception occurred:\n",
            "\n",
            "Traceback (most recent call last):\n",
            "  File \"/usr/local/lib/python3.6/dist-packages/IPython/core/interactiveshell.py\", line 1823, in showtraceback\n",
            "    stb = value._render_traceback_()\n",
            "AttributeError: 'KeyboardInterrupt' object has no attribute '_render_traceback_'\n",
            "\n",
            "During handling of the above exception, another exception occurred:\n",
            "\n",
            "Traceback (most recent call last):\n",
            "  File \"/usr/local/lib/python3.6/dist-packages/IPython/core/ultratb.py\", line 1132, in get_records\n",
            "    return _fixed_getinnerframes(etb, number_of_lines_of_context, tb_offset)\n",
            "  File \"/usr/local/lib/python3.6/dist-packages/IPython/core/ultratb.py\", line 313, in wrapped\n",
            "    return f(*args, **kwargs)\n",
            "  File \"/usr/local/lib/python3.6/dist-packages/IPython/core/ultratb.py\", line 358, in _fixed_getinnerframes\n",
            "    records = fix_frame_records_filenames(inspect.getinnerframes(etb, context))\n",
            "  File \"/usr/lib/python3.6/inspect.py\", line 1490, in getinnerframes\n",
            "    frameinfo = (tb.tb_frame,) + getframeinfo(tb, context)\n",
            "  File \"/usr/lib/python3.6/inspect.py\", line 1448, in getframeinfo\n",
            "    filename = getsourcefile(frame) or getfile(frame)\n",
            "  File \"/usr/lib/python3.6/inspect.py\", line 696, in getsourcefile\n",
            "    if getattr(getmodule(object, filename), '__loader__', None) is not None:\n",
            "  File \"/usr/lib/python3.6/inspect.py\", line 742, in getmodule\n",
            "    os.path.realpath(f)] = module.__name__\n",
            "  File \"/usr/lib/python3.6/posixpath.py\", line 395, in realpath\n",
            "    path, ok = _joinrealpath(filename[:0], filename, {})\n",
            "  File \"/usr/lib/python3.6/posixpath.py\", line 429, in _joinrealpath\n",
            "    if not islink(newpath):\n",
            "  File \"/usr/lib/python3.6/posixpath.py\", line 171, in islink\n",
            "    st = os.lstat(path)\n",
            "KeyboardInterrupt\n"
          ],
          "name": "stdout"
        },
        {
          "output_type": "error",
          "ename": "KeyboardInterrupt",
          "evalue": "ignored",
          "traceback": [
            "\u001b[0;31m---------------------------------------------------------------------------\u001b[0m"
          ]
        }
      ]
    },
    {
      "cell_type": "code",
      "metadata": {
        "id": "CGq-_LJ_CxP7",
        "colab_type": "code",
        "colab": {}
      },
      "source": [
        "all_data.fillna(all_data.mean())"
      ],
      "execution_count": 0,
      "outputs": []
    },
    {
      "cell_type": "code",
      "metadata": {
        "id": "uEVa2SB2_V01",
        "colab_type": "code",
        "colab": {}
      },
      "source": [
        "categorical_features = [\"DayOfWeek\", \"PdDistrict\", \"block\", \"special_time\", \"XYcluster\"]\n",
        "ct = ColumnTransformer(transformers=[(\"categorical_features\", OrdinalEncoder(), categorical_features)],\n",
        "                       remainder=\"passthrough\")\n",
        "all_data = ct.fit_transform(all_data)"
      ],
      "execution_count": 0,
      "outputs": []
    }
  ]
}
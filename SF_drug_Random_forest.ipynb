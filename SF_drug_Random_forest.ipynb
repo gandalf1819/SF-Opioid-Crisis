{
  "nbformat": 4,
  "nbformat_minor": 0,
  "metadata": {
    "colab": {
      "name": "SF-drug-Random-forest.ipynb",
      "provenance": [],
      "include_colab_link": true
    },
    "kernelspec": {
      "name": "python3",
      "display_name": "Python 3"
    },
    "accelerator": "GPU"
  },
  "cells": [
    {
      "cell_type": "markdown",
      "metadata": {
        "id": "view-in-github",
        "colab_type": "text"
      },
      "source": [
        "<a href=\"https://colab.research.google.com/github/gandalf1819/SF-Opioid-Crisis/blob/master/SF_drug_Random_forest.ipynb\" target=\"_parent\"><img src=\"https://colab.research.google.com/assets/colab-badge.svg\" alt=\"Open In Colab\"/></a>"
      ]
    },
    {
      "cell_type": "code",
      "metadata": {
        "id": "-QMCptYms01W",
        "colab_type": "code",
        "outputId": "0cea016c-ea49-4b39-c72f-e5d089103181",
        "colab": {
          "base_uri": "https://localhost:8080/",
          "height": 122
        }
      },
      "source": [
        "from google.colab import drive\n",
        "drive.mount('/content/gdrive')"
      ],
      "execution_count": 0,
      "outputs": [
        {
          "output_type": "stream",
          "text": [
            "Go to this URL in a browser: https://accounts.google.com/o/oauth2/auth?client_id=947318989803-6bn6qk8qdgf4n4g3pfee6491hc0brc4i.apps.googleusercontent.com&redirect_uri=urn%3aietf%3awg%3aoauth%3a2.0%3aoob&response_type=code&scope=email%20https%3a%2f%2fwww.googleapis.com%2fauth%2fdocs.test%20https%3a%2f%2fwww.googleapis.com%2fauth%2fdrive%20https%3a%2f%2fwww.googleapis.com%2fauth%2fdrive.photos.readonly%20https%3a%2f%2fwww.googleapis.com%2fauth%2fpeopleapi.readonly\n",
            "\n",
            "Enter your authorization code:\n",
            "··········\n",
            "Mounted at /content/gdrive\n"
          ],
          "name": "stdout"
        }
      ]
    },
    {
      "cell_type": "code",
      "metadata": {
        "id": "OVCuS3q2uDOi",
        "colab_type": "code",
        "colab": {}
      },
      "source": [
        "import numpy as np\n",
        "import pandas as pd\n",
        "import os"
      ],
      "execution_count": 0,
      "outputs": []
    },
    {
      "cell_type": "code",
      "metadata": {
        "id": "DFO_zi95uS3a",
        "colab_type": "code",
        "outputId": "da7d7588-6490-42a9-b551-271054b27eab",
        "colab": {
          "base_uri": "https://localhost:8080/",
          "height": 68
        }
      },
      "source": [
        "d_crime = pd.read_csv(\"/content/gdrive/My Drive/SF dataset/Police_Department_Incident_Reports__Historical_2003_to_May_2018.csv\")\n",
        "d_crime.columns"
      ],
      "execution_count": 0,
      "outputs": [
        {
          "output_type": "execute_result",
          "data": {
            "text/plain": [
              "Index(['IncidntNum', 'Category', 'Descript', 'DayOfWeek', 'Date', 'Time',\n",
              "       'PdDistrict', 'Resolution', 'Address', 'X', 'Y', 'Location', 'PdId'],\n",
              "      dtype='object')"
            ]
          },
          "metadata": {
            "tags": []
          },
          "execution_count": 3
        }
      ]
    },
    {
      "cell_type": "code",
      "metadata": {
        "id": "RaOrkUozuV2L",
        "colab_type": "code",
        "colab": {}
      },
      "source": [
        "np.random.seed(100)\n",
        "random_d_crime=d_crime.sample(2215024)\n",
        "train_size=int(0.67 *2215024)\n",
        "train_df=random_d_crime[:train_size]\n",
        "test_df=random_d_crime[train_size:]"
      ],
      "execution_count": 0,
      "outputs": []
    },
    {
      "cell_type": "code",
      "metadata": {
        "id": "jHkNyREluZQi",
        "colab_type": "code",
        "outputId": "f4d132b5-6624-4f96-a265-92b4ef7a2c49",
        "colab": {
          "base_uri": "https://localhost:8080/",
          "height": 425
        }
      },
      "source": [
        "train_df['DateTime'] = train_df.Date + \" \" + train_df.Time\n",
        "train_df['DateTime'] = pd.to_datetime(train_df['DateTime'], format='%m/%d/%Y %H:%M')\n",
        "\n",
        "test_df['DateTime'] = test_df.Date + \" \" + test_df.Time\n",
        "test_df['DateTime'] = pd.to_datetime(test_df['DateTime'], format='%m/%d/%Y %H:%M')"
      ],
      "execution_count": 0,
      "outputs": [
        {
          "output_type": "stream",
          "text": [
            "/usr/local/lib/python3.6/dist-packages/ipykernel_launcher.py:1: SettingWithCopyWarning: \n",
            "A value is trying to be set on a copy of a slice from a DataFrame.\n",
            "Try using .loc[row_indexer,col_indexer] = value instead\n",
            "\n",
            "See the caveats in the documentation: http://pandas.pydata.org/pandas-docs/stable/user_guide/indexing.html#returning-a-view-versus-a-copy\n",
            "  \"\"\"Entry point for launching an IPython kernel.\n",
            "/usr/local/lib/python3.6/dist-packages/ipykernel_launcher.py:2: SettingWithCopyWarning: \n",
            "A value is trying to be set on a copy of a slice from a DataFrame.\n",
            "Try using .loc[row_indexer,col_indexer] = value instead\n",
            "\n",
            "See the caveats in the documentation: http://pandas.pydata.org/pandas-docs/stable/user_guide/indexing.html#returning-a-view-versus-a-copy\n",
            "  \n",
            "/usr/local/lib/python3.6/dist-packages/ipykernel_launcher.py:4: SettingWithCopyWarning: \n",
            "A value is trying to be set on a copy of a slice from a DataFrame.\n",
            "Try using .loc[row_indexer,col_indexer] = value instead\n",
            "\n",
            "See the caveats in the documentation: http://pandas.pydata.org/pandas-docs/stable/user_guide/indexing.html#returning-a-view-versus-a-copy\n",
            "  after removing the cwd from sys.path.\n",
            "/usr/local/lib/python3.6/dist-packages/ipykernel_launcher.py:5: SettingWithCopyWarning: \n",
            "A value is trying to be set on a copy of a slice from a DataFrame.\n",
            "Try using .loc[row_indexer,col_indexer] = value instead\n",
            "\n",
            "See the caveats in the documentation: http://pandas.pydata.org/pandas-docs/stable/user_guide/indexing.html#returning-a-view-versus-a-copy\n",
            "  \"\"\"\n"
          ],
          "name": "stderr"
        }
      ]
    },
    {
      "cell_type": "code",
      "metadata": {
        "id": "jW_jZhJnAWBx",
        "colab_type": "code",
        "outputId": "5febca6d-824f-477c-d876-4b52a15769e0",
        "colab": {
          "base_uri": "https://localhost:8080/",
          "height": 85
        }
      },
      "source": [
        "train_df.columns"
      ],
      "execution_count": 0,
      "outputs": [
        {
          "output_type": "execute_result",
          "data": {
            "text/plain": [
              "Index(['IncidntNum', 'Category', 'Descript', 'DayOfWeek', 'Date', 'Time',\n",
              "       'PdDistrict', 'Resolution', 'Address', 'X', 'Y', 'Location', 'PdId',\n",
              "       'DateTime'],\n",
              "      dtype='object')"
            ]
          },
          "metadata": {
            "tags": []
          },
          "execution_count": 6
        }
      ]
    },
    {
      "cell_type": "code",
      "metadata": {
        "id": "HyszDwa6AZUH",
        "colab_type": "code",
        "outputId": "6b2e6c55-b4fc-4ed6-a04c-fb3ddfabeb0d",
        "colab": {
          "base_uri": "https://localhost:8080/",
          "height": 85
        }
      },
      "source": [
        "test_df.columns"
      ],
      "execution_count": 0,
      "outputs": [
        {
          "output_type": "execute_result",
          "data": {
            "text/plain": [
              "Index(['IncidntNum', 'Category', 'Descript', 'DayOfWeek', 'Date', 'Time',\n",
              "       'PdDistrict', 'Resolution', 'Address', 'X', 'Y', 'Location', 'PdId',\n",
              "       'DateTime'],\n",
              "      dtype='object')"
            ]
          },
          "metadata": {
            "tags": []
          },
          "execution_count": 7
        }
      ]
    },
    {
      "cell_type": "code",
      "metadata": {
        "id": "Si01YAYQulVG",
        "colab_type": "code",
        "outputId": "9d5fe69c-83c8-4ed1-8c15-016fb4252b26",
        "colab": {
          "base_uri": "https://localhost:8080/",
          "height": 34
        }
      },
      "source": [
        "train_df.shape"
      ],
      "execution_count": 0,
      "outputs": [
        {
          "output_type": "execute_result",
          "data": {
            "text/plain": [
              "(1484066, 14)"
            ]
          },
          "metadata": {
            "tags": []
          },
          "execution_count": 8
        }
      ]
    },
    {
      "cell_type": "code",
      "metadata": {
        "id": "58nzTfuyus71",
        "colab_type": "code",
        "outputId": "3823fa17-dbc5-45a2-85eb-568e2984a4ed",
        "colab": {
          "base_uri": "https://localhost:8080/",
          "height": 221
        }
      },
      "source": [
        "target = train_df[\"Category\"].unique()\n",
        "print(target.shape)\n",
        "target"
      ],
      "execution_count": 0,
      "outputs": [
        {
          "output_type": "stream",
          "text": [
            "(39,)\n"
          ],
          "name": "stdout"
        },
        {
          "output_type": "execute_result",
          "data": {
            "text/plain": [
              "array(['SUSPICIOUS OCC', 'LARCENY/THEFT', 'ASSAULT', 'NON-CRIMINAL',\n",
              "       'VEHICLE THEFT', 'WARRANTS', 'BURGLARY', 'OTHER OFFENSES',\n",
              "       'DRUG/NARCOTIC', 'MISSING PERSON', 'FRAUD', 'ROBBERY', 'VANDALISM',\n",
              "       'KIDNAPPING', 'SEX OFFENSES, FORCIBLE', 'WEAPON LAWS',\n",
              "       'DISORDERLY CONDUCT', 'RECOVERED VEHICLE', 'DRUNKENNESS',\n",
              "       'SECONDARY CODES', 'PROSTITUTION', 'EMBEZZLEMENT', 'TRESPASS',\n",
              "       'RUNAWAY', 'STOLEN PROPERTY', 'FORGERY/COUNTERFEITING',\n",
              "       'LOITERING', 'ARSON', 'DRIVING UNDER THE INFLUENCE', 'LIQUOR LAWS',\n",
              "       'EXTORTION', 'SUICIDE', 'FAMILY OFFENSES', 'BAD CHECKS', 'BRIBERY',\n",
              "       'GAMBLING', 'SEX OFFENSES, NON FORCIBLE',\n",
              "       'PORNOGRAPHY/OBSCENE MAT', 'TREA'], dtype=object)"
            ]
          },
          "metadata": {
            "tags": []
          },
          "execution_count": 9
        }
      ]
    },
    {
      "cell_type": "code",
      "metadata": {
        "id": "lvUN1v4HuvMA",
        "colab_type": "code",
        "outputId": "e26de5f8-3ebf-4c24-a45c-cccbefc68f83",
        "colab": {
          "base_uri": "https://localhost:8080/",
          "height": 204
        }
      },
      "source": [
        "# X = train_df.drop(train_df.columns[[1, 2, 5, 6]], axis = 1)\n",
        "X = train_df[['DateTime', 'DayOfWeek', 'PdDistrict', 'X', 'Y']]\n",
        "X.head()"
      ],
      "execution_count": 0,
      "outputs": [
        {
          "output_type": "execute_result",
          "data": {
            "text/html": [
              "<div>\n",
              "<style scoped>\n",
              "    .dataframe tbody tr th:only-of-type {\n",
              "        vertical-align: middle;\n",
              "    }\n",
              "\n",
              "    .dataframe tbody tr th {\n",
              "        vertical-align: top;\n",
              "    }\n",
              "\n",
              "    .dataframe thead th {\n",
              "        text-align: right;\n",
              "    }\n",
              "</style>\n",
              "<table border=\"1\" class=\"dataframe\">\n",
              "  <thead>\n",
              "    <tr style=\"text-align: right;\">\n",
              "      <th></th>\n",
              "      <th>DateTime</th>\n",
              "      <th>DayOfWeek</th>\n",
              "      <th>PdDistrict</th>\n",
              "      <th>X</th>\n",
              "      <th>Y</th>\n",
              "    </tr>\n",
              "  </thead>\n",
              "  <tbody>\n",
              "    <tr>\n",
              "      <th>1618683</th>\n",
              "      <td>2006-10-13 23:13:00</td>\n",
              "      <td>Friday</td>\n",
              "      <td>CENTRAL</td>\n",
              "      <td>-122.406504</td>\n",
              "      <td>37.797678</td>\n",
              "    </tr>\n",
              "    <tr>\n",
              "      <th>1303833</th>\n",
              "      <td>2012-06-30 17:40:00</td>\n",
              "      <td>Saturday</td>\n",
              "      <td>MISSION</td>\n",
              "      <td>-122.415308</td>\n",
              "      <td>37.765316</td>\n",
              "    </tr>\n",
              "    <tr>\n",
              "      <th>38943</th>\n",
              "      <td>2014-07-06 22:20:00</td>\n",
              "      <td>Sunday</td>\n",
              "      <td>CENTRAL</td>\n",
              "      <td>-122.423658</td>\n",
              "      <td>37.805285</td>\n",
              "    </tr>\n",
              "    <tr>\n",
              "      <th>1737093</th>\n",
              "      <td>2008-10-18 10:30:00</td>\n",
              "      <td>Saturday</td>\n",
              "      <td>BAYVIEW</td>\n",
              "      <td>-122.399679</td>\n",
              "      <td>37.766695</td>\n",
              "    </tr>\n",
              "    <tr>\n",
              "      <th>1490803</th>\n",
              "      <td>2010-04-10 17:30:00</td>\n",
              "      <td>Saturday</td>\n",
              "      <td>TENDERLOIN</td>\n",
              "      <td>-122.414645</td>\n",
              "      <td>37.786069</td>\n",
              "    </tr>\n",
              "  </tbody>\n",
              "</table>\n",
              "</div>"
            ],
            "text/plain": [
              "                   DateTime DayOfWeek  PdDistrict           X          Y\n",
              "1618683 2006-10-13 23:13:00    Friday     CENTRAL -122.406504  37.797678\n",
              "1303833 2012-06-30 17:40:00  Saturday     MISSION -122.415308  37.765316\n",
              "38943   2014-07-06 22:20:00    Sunday     CENTRAL -122.423658  37.805285\n",
              "1737093 2008-10-18 10:30:00  Saturday     BAYVIEW -122.399679  37.766695\n",
              "1490803 2010-04-10 17:30:00  Saturday  TENDERLOIN -122.414645  37.786069"
            ]
          },
          "metadata": {
            "tags": []
          },
          "execution_count": 10
        }
      ]
    },
    {
      "cell_type": "code",
      "metadata": {
        "id": "xeE17yOju-VZ",
        "colab_type": "code",
        "outputId": "fd89ffd9-ea58-4f96-ffbe-557f2a4689fa",
        "colab": {
          "base_uri": "https://localhost:8080/",
          "height": 119
        }
      },
      "source": [
        "y = train_df.iloc[:, 1]\n",
        "y.head()"
      ],
      "execution_count": 0,
      "outputs": [
        {
          "output_type": "execute_result",
          "data": {
            "text/plain": [
              "1618683    SUSPICIOUS OCC\n",
              "1303833     LARCENY/THEFT\n",
              "38943       LARCENY/THEFT\n",
              "1737093     LARCENY/THEFT\n",
              "1490803           ASSAULT\n",
              "Name: Category, dtype: object"
            ]
          },
          "metadata": {
            "tags": []
          },
          "execution_count": 11
        }
      ]
    },
    {
      "cell_type": "code",
      "metadata": {
        "id": "0baWn_TTvFoz",
        "colab_type": "code",
        "colab": {}
      },
      "source": [
        "def preprocess_data(dataset):\n",
        "    dataset['DateTime'] = pd.to_datetime(dataset['DateTime'])\n",
        "    dataset['Month'] = dataset.DateTime.apply(lambda x: x.month)\n",
        "    dataset['Day'] = dataset.DateTime.apply(lambda x: x.day)\n",
        "    dataset['Hour'] = dataset.DateTime.apply(lambda x: x.hour)\n",
        "    dataset['Minute'] = dataset.DateTime.apply(lambda x: x.minute)\n",
        "    dataset = dataset.drop('DateTime', 1)\n",
        "    \n",
        "    dataset = pd.get_dummies(data=dataset, columns=['DayOfWeek', 'PdDistrict'])\n",
        "    return dataset"
      ],
      "execution_count": 0,
      "outputs": []
    },
    {
      "cell_type": "code",
      "metadata": {
        "id": "Gfr476hM_6sx",
        "colab_type": "code",
        "outputId": "70cebe90-c689-41c7-9d2c-301b1ff596e9",
        "colab": {
          "base_uri": "https://localhost:8080/",
          "height": 734
        }
      },
      "source": [
        "X = preprocess_data(X)\n",
        "X.head()"
      ],
      "execution_count": 0,
      "outputs": [
        {
          "output_type": "stream",
          "text": [
            "/usr/local/lib/python3.6/dist-packages/ipykernel_launcher.py:2: SettingWithCopyWarning: \n",
            "A value is trying to be set on a copy of a slice from a DataFrame.\n",
            "Try using .loc[row_indexer,col_indexer] = value instead\n",
            "\n",
            "See the caveats in the documentation: http://pandas.pydata.org/pandas-docs/stable/user_guide/indexing.html#returning-a-view-versus-a-copy\n",
            "  \n",
            "/usr/local/lib/python3.6/dist-packages/ipykernel_launcher.py:3: SettingWithCopyWarning: \n",
            "A value is trying to be set on a copy of a slice from a DataFrame.\n",
            "Try using .loc[row_indexer,col_indexer] = value instead\n",
            "\n",
            "See the caveats in the documentation: http://pandas.pydata.org/pandas-docs/stable/user_guide/indexing.html#returning-a-view-versus-a-copy\n",
            "  This is separate from the ipykernel package so we can avoid doing imports until\n",
            "/usr/local/lib/python3.6/dist-packages/ipykernel_launcher.py:4: SettingWithCopyWarning: \n",
            "A value is trying to be set on a copy of a slice from a DataFrame.\n",
            "Try using .loc[row_indexer,col_indexer] = value instead\n",
            "\n",
            "See the caveats in the documentation: http://pandas.pydata.org/pandas-docs/stable/user_guide/indexing.html#returning-a-view-versus-a-copy\n",
            "  after removing the cwd from sys.path.\n",
            "/usr/local/lib/python3.6/dist-packages/ipykernel_launcher.py:5: SettingWithCopyWarning: \n",
            "A value is trying to be set on a copy of a slice from a DataFrame.\n",
            "Try using .loc[row_indexer,col_indexer] = value instead\n",
            "\n",
            "See the caveats in the documentation: http://pandas.pydata.org/pandas-docs/stable/user_guide/indexing.html#returning-a-view-versus-a-copy\n",
            "  \"\"\"\n",
            "/usr/local/lib/python3.6/dist-packages/ipykernel_launcher.py:6: SettingWithCopyWarning: \n",
            "A value is trying to be set on a copy of a slice from a DataFrame.\n",
            "Try using .loc[row_indexer,col_indexer] = value instead\n",
            "\n",
            "See the caveats in the documentation: http://pandas.pydata.org/pandas-docs/stable/user_guide/indexing.html#returning-a-view-versus-a-copy\n",
            "  \n"
          ],
          "name": "stderr"
        },
        {
          "output_type": "execute_result",
          "data": {
            "text/html": [
              "<div>\n",
              "<style scoped>\n",
              "    .dataframe tbody tr th:only-of-type {\n",
              "        vertical-align: middle;\n",
              "    }\n",
              "\n",
              "    .dataframe tbody tr th {\n",
              "        vertical-align: top;\n",
              "    }\n",
              "\n",
              "    .dataframe thead th {\n",
              "        text-align: right;\n",
              "    }\n",
              "</style>\n",
              "<table border=\"1\" class=\"dataframe\">\n",
              "  <thead>\n",
              "    <tr style=\"text-align: right;\">\n",
              "      <th></th>\n",
              "      <th>X</th>\n",
              "      <th>Y</th>\n",
              "      <th>Month</th>\n",
              "      <th>Day</th>\n",
              "      <th>Hour</th>\n",
              "      <th>Minute</th>\n",
              "      <th>DayOfWeek_Friday</th>\n",
              "      <th>DayOfWeek_Monday</th>\n",
              "      <th>DayOfWeek_Saturday</th>\n",
              "      <th>DayOfWeek_Sunday</th>\n",
              "      <th>DayOfWeek_Thursday</th>\n",
              "      <th>DayOfWeek_Tuesday</th>\n",
              "      <th>DayOfWeek_Wednesday</th>\n",
              "      <th>PdDistrict_BAYVIEW</th>\n",
              "      <th>PdDistrict_CENTRAL</th>\n",
              "      <th>PdDistrict_INGLESIDE</th>\n",
              "      <th>PdDistrict_MISSION</th>\n",
              "      <th>PdDistrict_NORTHERN</th>\n",
              "      <th>PdDistrict_PARK</th>\n",
              "      <th>PdDistrict_RICHMOND</th>\n",
              "      <th>PdDistrict_SOUTHERN</th>\n",
              "      <th>PdDistrict_TARAVAL</th>\n",
              "      <th>PdDistrict_TENDERLOIN</th>\n",
              "    </tr>\n",
              "  </thead>\n",
              "  <tbody>\n",
              "    <tr>\n",
              "      <th>1618683</th>\n",
              "      <td>-122.406504</td>\n",
              "      <td>37.797678</td>\n",
              "      <td>10</td>\n",
              "      <td>13</td>\n",
              "      <td>23</td>\n",
              "      <td>13</td>\n",
              "      <td>1</td>\n",
              "      <td>0</td>\n",
              "      <td>0</td>\n",
              "      <td>0</td>\n",
              "      <td>0</td>\n",
              "      <td>0</td>\n",
              "      <td>0</td>\n",
              "      <td>0</td>\n",
              "      <td>1</td>\n",
              "      <td>0</td>\n",
              "      <td>0</td>\n",
              "      <td>0</td>\n",
              "      <td>0</td>\n",
              "      <td>0</td>\n",
              "      <td>0</td>\n",
              "      <td>0</td>\n",
              "      <td>0</td>\n",
              "    </tr>\n",
              "    <tr>\n",
              "      <th>1303833</th>\n",
              "      <td>-122.415308</td>\n",
              "      <td>37.765316</td>\n",
              "      <td>6</td>\n",
              "      <td>30</td>\n",
              "      <td>17</td>\n",
              "      <td>40</td>\n",
              "      <td>0</td>\n",
              "      <td>0</td>\n",
              "      <td>1</td>\n",
              "      <td>0</td>\n",
              "      <td>0</td>\n",
              "      <td>0</td>\n",
              "      <td>0</td>\n",
              "      <td>0</td>\n",
              "      <td>0</td>\n",
              "      <td>0</td>\n",
              "      <td>1</td>\n",
              "      <td>0</td>\n",
              "      <td>0</td>\n",
              "      <td>0</td>\n",
              "      <td>0</td>\n",
              "      <td>0</td>\n",
              "      <td>0</td>\n",
              "    </tr>\n",
              "    <tr>\n",
              "      <th>38943</th>\n",
              "      <td>-122.423658</td>\n",
              "      <td>37.805285</td>\n",
              "      <td>7</td>\n",
              "      <td>6</td>\n",
              "      <td>22</td>\n",
              "      <td>20</td>\n",
              "      <td>0</td>\n",
              "      <td>0</td>\n",
              "      <td>0</td>\n",
              "      <td>1</td>\n",
              "      <td>0</td>\n",
              "      <td>0</td>\n",
              "      <td>0</td>\n",
              "      <td>0</td>\n",
              "      <td>1</td>\n",
              "      <td>0</td>\n",
              "      <td>0</td>\n",
              "      <td>0</td>\n",
              "      <td>0</td>\n",
              "      <td>0</td>\n",
              "      <td>0</td>\n",
              "      <td>0</td>\n",
              "      <td>0</td>\n",
              "    </tr>\n",
              "    <tr>\n",
              "      <th>1737093</th>\n",
              "      <td>-122.399679</td>\n",
              "      <td>37.766695</td>\n",
              "      <td>10</td>\n",
              "      <td>18</td>\n",
              "      <td>10</td>\n",
              "      <td>30</td>\n",
              "      <td>0</td>\n",
              "      <td>0</td>\n",
              "      <td>1</td>\n",
              "      <td>0</td>\n",
              "      <td>0</td>\n",
              "      <td>0</td>\n",
              "      <td>0</td>\n",
              "      <td>1</td>\n",
              "      <td>0</td>\n",
              "      <td>0</td>\n",
              "      <td>0</td>\n",
              "      <td>0</td>\n",
              "      <td>0</td>\n",
              "      <td>0</td>\n",
              "      <td>0</td>\n",
              "      <td>0</td>\n",
              "      <td>0</td>\n",
              "    </tr>\n",
              "    <tr>\n",
              "      <th>1490803</th>\n",
              "      <td>-122.414645</td>\n",
              "      <td>37.786069</td>\n",
              "      <td>4</td>\n",
              "      <td>10</td>\n",
              "      <td>17</td>\n",
              "      <td>30</td>\n",
              "      <td>0</td>\n",
              "      <td>0</td>\n",
              "      <td>1</td>\n",
              "      <td>0</td>\n",
              "      <td>0</td>\n",
              "      <td>0</td>\n",
              "      <td>0</td>\n",
              "      <td>0</td>\n",
              "      <td>0</td>\n",
              "      <td>0</td>\n",
              "      <td>0</td>\n",
              "      <td>0</td>\n",
              "      <td>0</td>\n",
              "      <td>0</td>\n",
              "      <td>0</td>\n",
              "      <td>0</td>\n",
              "      <td>1</td>\n",
              "    </tr>\n",
              "  </tbody>\n",
              "</table>\n",
              "</div>"
            ],
            "text/plain": [
              "                  X          Y  ...  PdDistrict_TARAVAL  PdDistrict_TENDERLOIN\n",
              "1618683 -122.406504  37.797678  ...                   0                      0\n",
              "1303833 -122.415308  37.765316  ...                   0                      0\n",
              "38943   -122.423658  37.805285  ...                   0                      0\n",
              "1737093 -122.399679  37.766695  ...                   0                      0\n",
              "1490803 -122.414645  37.786069  ...                   0                      1\n",
              "\n",
              "[5 rows x 23 columns]"
            ]
          },
          "metadata": {
            "tags": []
          },
          "execution_count": 13
        }
      ]
    },
    {
      "cell_type": "code",
      "metadata": {
        "id": "XE65LTCN_9io",
        "colab_type": "code",
        "outputId": "719386ff-4022-4dd8-de49-0a9ab5b5c855",
        "colab": {
          "base_uri": "https://localhost:8080/",
          "height": 119
        }
      },
      "source": [
        "from sklearn.preprocessing import LabelEncoder\n",
        "y = y.to_frame()\n",
        "le = LabelEncoder()\n",
        "y[\"Category\"] = le.fit_transform(y[\"Category\"])\n",
        "print(y.head())"
      ],
      "execution_count": 0,
      "outputs": [
        {
          "output_type": "stream",
          "text": [
            "         Category\n",
            "1618683        32\n",
            "1303833        16\n",
            "38943          16\n",
            "1737093        16\n",
            "1490803         1\n"
          ],
          "name": "stdout"
        }
      ]
    },
    {
      "cell_type": "code",
      "metadata": {
        "id": "yZZ3qBWQB5Is",
        "colab_type": "code",
        "outputId": "4b551516-5f1c-4e26-926c-a7e6d64a56b0",
        "colab": {
          "base_uri": "https://localhost:8080/",
          "height": 54
        }
      },
      "source": [
        "keys = le.classes_\n",
        "values = le.transform(le.classes_)\n",
        "dictionary = dict(zip(keys, values))\n",
        "print(dictionary)"
      ],
      "execution_count": 0,
      "outputs": [
        {
          "output_type": "stream",
          "text": [
            "{'ARSON': 0, 'ASSAULT': 1, 'BAD CHECKS': 2, 'BRIBERY': 3, 'BURGLARY': 4, 'DISORDERLY CONDUCT': 5, 'DRIVING UNDER THE INFLUENCE': 6, 'DRUG/NARCOTIC': 7, 'DRUNKENNESS': 8, 'EMBEZZLEMENT': 9, 'EXTORTION': 10, 'FAMILY OFFENSES': 11, 'FORGERY/COUNTERFEITING': 12, 'FRAUD': 13, 'GAMBLING': 14, 'KIDNAPPING': 15, 'LARCENY/THEFT': 16, 'LIQUOR LAWS': 17, 'LOITERING': 18, 'MISSING PERSON': 19, 'NON-CRIMINAL': 20, 'OTHER OFFENSES': 21, 'PORNOGRAPHY/OBSCENE MAT': 22, 'PROSTITUTION': 23, 'RECOVERED VEHICLE': 24, 'ROBBERY': 25, 'RUNAWAY': 26, 'SECONDARY CODES': 27, 'SEX OFFENSES, FORCIBLE': 28, 'SEX OFFENSES, NON FORCIBLE': 29, 'STOLEN PROPERTY': 30, 'SUICIDE': 31, 'SUSPICIOUS OCC': 32, 'TREA': 33, 'TRESPASS': 34, 'VANDALISM': 35, 'VEHICLE THEFT': 36, 'WARRANTS': 37, 'WEAPON LAWS': 38}\n"
          ],
          "name": "stdout"
        }
      ]
    },
    {
      "cell_type": "code",
      "metadata": {
        "id": "MLOfIGhHB-GW",
        "colab_type": "code",
        "colab": {}
      },
      "source": [
        "# Splitting the dataset into the Training set and Test set\n",
        "from sklearn.model_selection import train_test_split\n",
        "X_train, X_test, y_train, y_test = train_test_split(X, y, test_size = 0.2, random_state = 0)"
      ],
      "execution_count": 0,
      "outputs": []
    },
    {
      "cell_type": "code",
      "metadata": {
        "id": "QsmtYreyCBJd",
        "colab_type": "code",
        "outputId": "17224649-d7dc-485f-88ff-8ea60edd5e1e",
        "colab": {
          "base_uri": "https://localhost:8080/",
          "height": 153
        }
      },
      "source": [
        "# print(type(X_train), type(y_train))\n",
        "print(X_train.head())"
      ],
      "execution_count": 0,
      "outputs": [
        {
          "output_type": "stream",
          "text": [
            "                  X          Y  ...  PdDistrict_TARAVAL  PdDistrict_TENDERLOIN\n",
            "1912672 -122.395635  37.753565  ...                   0                      0\n",
            "1870426 -122.435633  37.713160  ...                   0                      0\n",
            "679258  -122.420909  37.773700  ...                   0                      0\n",
            "131945  -122.505984  37.735329  ...                   1                      0\n",
            "1750610 -122.411071  37.781751  ...                   0                      0\n",
            "\n",
            "[5 rows x 23 columns]\n"
          ],
          "name": "stdout"
        }
      ]
    },
    {
      "cell_type": "code",
      "metadata": {
        "id": "f-S21iDHCkB6",
        "colab_type": "code",
        "outputId": "52b2cd1a-ab35-43f2-89ff-f1f6b17ee67a",
        "colab": {
          "base_uri": "https://localhost:8080/",
          "height": 136
        }
      },
      "source": [
        "from sklearn.ensemble import RandomForestClassifier\n",
        "\n",
        "rf = RandomForestClassifier(max_depth = 10, n_estimators = 256)\n",
        "rf.fit(X_train.values, y_train.values.ravel())"
      ],
      "execution_count": 0,
      "outputs": [
        {
          "output_type": "execute_result",
          "data": {
            "text/plain": [
              "RandomForestClassifier(bootstrap=True, class_weight=None, criterion='gini',\n",
              "                       max_depth=10, max_features='auto', max_leaf_nodes=None,\n",
              "                       min_impurity_decrease=0.0, min_impurity_split=None,\n",
              "                       min_samples_leaf=1, min_samples_split=2,\n",
              "                       min_weight_fraction_leaf=0.0, n_estimators=256,\n",
              "                       n_jobs=None, oob_score=False, random_state=None,\n",
              "                       verbose=0, warm_start=False)"
            ]
          },
          "metadata": {
            "tags": []
          },
          "execution_count": 18
        }
      ]
    },
    {
      "cell_type": "code",
      "metadata": {
        "id": "e6EnNj8nClwD",
        "colab_type": "code",
        "outputId": "6cd500d3-4120-47de-cbab-0c5a742eae5b",
        "colab": {
          "base_uri": "https://localhost:8080/",
          "height": 34
        }
      },
      "source": [
        "y_pred = rf.predict(X_test)\n",
        "\n",
        "from sklearn.metrics import accuracy_score\n",
        "accuracy = accuracy_score(y_test, y_pred)\n",
        "print (\"Accuracy for Random Forest: %.2f%%\" % (accuracy * 100.0))"
      ],
      "execution_count": 0,
      "outputs": [
        {
          "output_type": "stream",
          "text": [
            "Accuracy for Random Forest: 58.33%\n"
          ],
          "name": "stdout"
        }
      ]
    },
    {
      "cell_type": "code",
      "metadata": {
        "id": "-gvq_zApsW7O",
        "colab_type": "code",
        "outputId": "2d8e1b1e-f9b4-4861-9bc2-c73907e29103",
        "colab": {
          "base_uri": "https://localhost:8080/",
          "height": 34
        }
      },
      "source": [
        "# Computer precision score across multiple classes\n",
        "from sklearn.metrics import precision_score\n",
        "\n",
        "precision = precision_score(y_test, y_pred, average='micro')\n",
        "print(\"Precision for Random Forest: %.2f%%\" % precision)"
      ],
      "execution_count": 0,
      "outputs": [
        {
          "output_type": "stream",
          "text": [
            "Precision for Random Forest: 0.50%\n"
          ],
          "name": "stdout"
        }
      ]
    },
    {
      "cell_type": "code",
      "metadata": {
        "id": "em8pfujJug4c",
        "colab_type": "code",
        "outputId": "9a60028a-ef9e-4b12-ddee-4d4a88ad68e7",
        "colab": {
          "base_uri": "https://localhost:8080/",
          "height": 34
        }
      },
      "source": [
        "# Compute recall over multiple classes\n",
        "from sklearn.metrics import recall_score\n",
        "\n",
        "recall = recall_score(y_test, y_pred, average='micro')\n",
        "print(\"Recall for Random Forest: %.2f%%\" % recall)"
      ],
      "execution_count": 0,
      "outputs": [
        {
          "output_type": "stream",
          "text": [
            "Recall for Random Forest: 0.62%\n"
          ],
          "name": "stdout"
        }
      ]
    },
    {
      "cell_type": "code",
      "metadata": {
        "id": "yX9vloaUvLmg",
        "colab_type": "code",
        "outputId": "0db6f304-a705-45c4-b6a5-4a85613fb99c",
        "colab": {
          "base_uri": "https://localhost:8080/",
          "height": 34
        }
      },
      "source": [
        "# Compute f1 score across multiple classes\n",
        "from sklearn.metrics import f1_score\n",
        "\n",
        "f1 = f1_score(y_test, y_pred, average='micro')\n",
        "print(\"F1 score for Random Forest: %.2f%%\" % f1)"
      ],
      "execution_count": 0,
      "outputs": [
        {
          "output_type": "stream",
          "text": [
            "F1 score for Random Forest: 0.58%\n"
          ],
          "name": "stdout"
        }
      ]
    },
    {
      "cell_type": "code",
      "metadata": {
        "id": "X9uyvVnkFy4K",
        "colab_type": "code",
        "outputId": "993e0dc3-2a34-40c2-fcd3-a0ce113fd5dc",
        "colab": {
          "base_uri": "https://localhost:8080/",
          "height": 289
        }
      },
      "source": [
        "from sklearn.metrics import classification_report, confusion_matrix\n",
        "import seaborn as sns  \n",
        "cm = confusion_matrix(y_test, y_pred)\n",
        "cm = pd.DataFrame(cm)\n",
        "sns.heatmap(cm, cmap=\"YlGnBu\", square=True)"
      ],
      "execution_count": 0,
      "outputs": [
        {
          "output_type": "execute_result",
          "data": {
            "text/plain": [
              "<matplotlib.axes._subplots.AxesSubplot at 0x7fdbfd8fada0>"
            ]
          },
          "metadata": {
            "tags": []
          },
          "execution_count": 29
        },
        {
          "output_type": "display_data",
          "data": {
            "image/png": "[encoded data removed]",
            "text/plain": [
              "<Figure size 432x288 with 2 Axes>"
            ]
          },
          "metadata": {
            "tags": []
          }
        }
      ]
    },
    {
      "cell_type": "markdown",
      "metadata": {
        "id": "ui16kxZ-ligX",
        "colab_type": "text"
      },
      "source": [
        "### **Preprocess test_df dataframe**"
      ]
    },
    {
      "cell_type": "code",
      "metadata": {
        "id": "u1mBCCbKlGfS",
        "colab_type": "code",
        "outputId": "81c7fe69-873c-429d-9359-94de43c65f59",
        "colab": {
          "base_uri": "https://localhost:8080/",
          "height": 206
        }
      },
      "source": [
        "test_data = test_df[['DateTime', 'DayOfWeek', 'PdDistrict', 'Address', 'X', 'Y']]\n",
        "test_data.head()"
      ],
      "execution_count": 0,
      "outputs": [
        {
          "output_type": "execute_result",
          "data": {
            "text/html": [
              "<div>\n",
              "<style scoped>\n",
              "    .dataframe tbody tr th:only-of-type {\n",
              "        vertical-align: middle;\n",
              "    }\n",
              "\n",
              "    .dataframe tbody tr th {\n",
              "        vertical-align: top;\n",
              "    }\n",
              "\n",
              "    .dataframe thead th {\n",
              "        text-align: right;\n",
              "    }\n",
              "</style>\n",
              "<table border=\"1\" class=\"dataframe\">\n",
              "  <thead>\n",
              "    <tr style=\"text-align: right;\">\n",
              "      <th></th>\n",
              "      <th>DateTime</th>\n",
              "      <th>DayOfWeek</th>\n",
              "      <th>PdDistrict</th>\n",
              "      <th>Address</th>\n",
              "      <th>X</th>\n",
              "      <th>Y</th>\n",
              "    </tr>\n",
              "  </thead>\n",
              "  <tbody>\n",
              "    <tr>\n",
              "      <th>1041060</th>\n",
              "      <td>2010-05-31 13:30:00</td>\n",
              "      <td>Monday</td>\n",
              "      <td>NORTHERN</td>\n",
              "      <td>VANNESS AV / BUSH ST</td>\n",
              "      <td>-122.421949</td>\n",
              "      <td>37.788488</td>\n",
              "    </tr>\n",
              "    <tr>\n",
              "      <th>578101</th>\n",
              "      <td>2005-10-14 13:00:00</td>\n",
              "      <td>Friday</td>\n",
              "      <td>MISSION</td>\n",
              "      <td>2600 Block of MISSION ST</td>\n",
              "      <td>-122.418600</td>\n",
              "      <td>37.754626</td>\n",
              "    </tr>\n",
              "    <tr>\n",
              "      <th>324260</th>\n",
              "      <td>2008-09-24 01:39:00</td>\n",
              "      <td>Wednesday</td>\n",
              "      <td>CENTRAL</td>\n",
              "      <td>LARKIN ST / SUTTER ST</td>\n",
              "      <td>-122.418468</td>\n",
              "      <td>37.787965</td>\n",
              "    </tr>\n",
              "    <tr>\n",
              "      <th>1404604</th>\n",
              "      <td>2003-10-12 23:00:00</td>\n",
              "      <td>Sunday</td>\n",
              "      <td>INGLESIDE</td>\n",
              "      <td>900 Block of HAMILTON ST</td>\n",
              "      <td>-122.406894</td>\n",
              "      <td>37.719578</td>\n",
              "    </tr>\n",
              "    <tr>\n",
              "      <th>1357958</th>\n",
              "      <td>2009-01-07 10:42:00</td>\n",
              "      <td>Wednesday</td>\n",
              "      <td>PARK</td>\n",
              "      <td>2200 Block of GEARY BL</td>\n",
              "      <td>-122.440341</td>\n",
              "      <td>37.783324</td>\n",
              "    </tr>\n",
              "  </tbody>\n",
              "</table>\n",
              "</div>"
            ],
            "text/plain": [
              "                   DateTime  DayOfWeek  ...           X          Y\n",
              "1041060 2010-05-31 13:30:00     Monday  ... -122.421949  37.788488\n",
              "578101  2005-10-14 13:00:00     Friday  ... -122.418600  37.754626\n",
              "324260  2008-09-24 01:39:00  Wednesday  ... -122.418468  37.787965\n",
              "1404604 2003-10-12 23:00:00     Sunday  ... -122.406894  37.719578\n",
              "1357958 2009-01-07 10:42:00  Wednesday  ... -122.440341  37.783324\n",
              "\n",
              "[5 rows x 6 columns]"
            ]
          },
          "metadata": {
            "tags": []
          },
          "execution_count": 34
        }
      ]
    },
    {
      "cell_type": "code",
      "metadata": {
        "id": "kjCy1MQcsC06",
        "colab_type": "code",
        "outputId": "196d1aa7-9864-4816-f512-e370311dc178",
        "colab": {
          "base_uri": "https://localhost:8080/",
          "height": 973
        }
      },
      "source": [
        "test_data = preprocess_data(test_data)\n",
        "test_data.head()"
      ],
      "execution_count": 0,
      "outputs": [
        {
          "output_type": "stream",
          "text": [
            "/usr/local/lib/python3.6/dist-packages/ipykernel_launcher.py:2: SettingWithCopyWarning: \n",
            "A value is trying to be set on a copy of a slice from a DataFrame.\n",
            "Try using .loc[row_indexer,col_indexer] = value instead\n",
            "\n",
            "See the caveats in the documentation: http://pandas.pydata.org/pandas-docs/stable/user_guide/indexing.html#returning-a-view-versus-a-copy\n",
            "  \n",
            "/usr/local/lib/python3.6/dist-packages/ipykernel_launcher.py:3: SettingWithCopyWarning: \n",
            "A value is trying to be set on a copy of a slice from a DataFrame.\n",
            "Try using .loc[row_indexer,col_indexer] = value instead\n",
            "\n",
            "See the caveats in the documentation: http://pandas.pydata.org/pandas-docs/stable/user_guide/indexing.html#returning-a-view-versus-a-copy\n",
            "  This is separate from the ipykernel package so we can avoid doing imports until\n",
            "/usr/local/lib/python3.6/dist-packages/ipykernel_launcher.py:4: SettingWithCopyWarning: \n",
            "A value is trying to be set on a copy of a slice from a DataFrame.\n",
            "Try using .loc[row_indexer,col_indexer] = value instead\n",
            "\n",
            "See the caveats in the documentation: http://pandas.pydata.org/pandas-docs/stable/user_guide/indexing.html#returning-a-view-versus-a-copy\n",
            "  after removing the cwd from sys.path.\n",
            "/usr/local/lib/python3.6/dist-packages/ipykernel_launcher.py:5: SettingWithCopyWarning: \n",
            "A value is trying to be set on a copy of a slice from a DataFrame.\n",
            "Try using .loc[row_indexer,col_indexer] = value instead\n",
            "\n",
            "See the caveats in the documentation: http://pandas.pydata.org/pandas-docs/stable/user_guide/indexing.html#returning-a-view-versus-a-copy\n",
            "  \"\"\"\n",
            "/usr/local/lib/python3.6/dist-packages/ipykernel_launcher.py:6: SettingWithCopyWarning: \n",
            "A value is trying to be set on a copy of a slice from a DataFrame.\n",
            "Try using .loc[row_indexer,col_indexer] = value instead\n",
            "\n",
            "See the caveats in the documentation: http://pandas.pydata.org/pandas-docs/stable/user_guide/indexing.html#returning-a-view-versus-a-copy\n",
            "  \n"
          ],
          "name": "stderr"
        },
        {
          "output_type": "execute_result",
          "data": {
            "text/html": [
              "<div>\n",
              "<style scoped>\n",
              "    .dataframe tbody tr th:only-of-type {\n",
              "        vertical-align: middle;\n",
              "    }\n",
              "\n",
              "    .dataframe tbody tr th {\n",
              "        vertical-align: top;\n",
              "    }\n",
              "\n",
              "    .dataframe thead th {\n",
              "        text-align: right;\n",
              "    }\n",
              "</style>\n",
              "<table border=\"1\" class=\"dataframe\">\n",
              "  <thead>\n",
              "    <tr style=\"text-align: right;\">\n",
              "      <th></th>\n",
              "      <th>Address</th>\n",
              "      <th>X</th>\n",
              "      <th>Y</th>\n",
              "      <th>Month</th>\n",
              "      <th>Day</th>\n",
              "      <th>Hour</th>\n",
              "      <th>Minute</th>\n",
              "      <th>DayOfWeek_Friday</th>\n",
              "      <th>DayOfWeek_Monday</th>\n",
              "      <th>DayOfWeek_Saturday</th>\n",
              "      <th>DayOfWeek_Sunday</th>\n",
              "      <th>DayOfWeek_Thursday</th>\n",
              "      <th>DayOfWeek_Tuesday</th>\n",
              "      <th>DayOfWeek_Wednesday</th>\n",
              "      <th>PdDistrict_BAYVIEW</th>\n",
              "      <th>PdDistrict_CENTRAL</th>\n",
              "      <th>PdDistrict_INGLESIDE</th>\n",
              "      <th>PdDistrict_MISSION</th>\n",
              "      <th>PdDistrict_NORTHERN</th>\n",
              "      <th>PdDistrict_PARK</th>\n",
              "      <th>PdDistrict_RICHMOND</th>\n",
              "      <th>PdDistrict_SOUTHERN</th>\n",
              "      <th>PdDistrict_TARAVAL</th>\n",
              "      <th>PdDistrict_TENDERLOIN</th>\n",
              "    </tr>\n",
              "  </thead>\n",
              "  <tbody>\n",
              "    <tr>\n",
              "      <th>1041060</th>\n",
              "      <td>VANNESS AV / BUSH ST</td>\n",
              "      <td>-122.421949</td>\n",
              "      <td>37.788488</td>\n",
              "      <td>5</td>\n",
              "      <td>31</td>\n",
              "      <td>13</td>\n",
              "      <td>30</td>\n",
              "      <td>0</td>\n",
              "      <td>1</td>\n",
              "      <td>0</td>\n",
              "      <td>0</td>\n",
              "      <td>0</td>\n",
              "      <td>0</td>\n",
              "      <td>0</td>\n",
              "      <td>0</td>\n",
              "      <td>0</td>\n",
              "      <td>0</td>\n",
              "      <td>0</td>\n",
              "      <td>1</td>\n",
              "      <td>0</td>\n",
              "      <td>0</td>\n",
              "      <td>0</td>\n",
              "      <td>0</td>\n",
              "      <td>0</td>\n",
              "    </tr>\n",
              "    <tr>\n",
              "      <th>578101</th>\n",
              "      <td>2600 Block of MISSION ST</td>\n",
              "      <td>-122.418600</td>\n",
              "      <td>37.754626</td>\n",
              "      <td>10</td>\n",
              "      <td>14</td>\n",
              "      <td>13</td>\n",
              "      <td>0</td>\n",
              "      <td>1</td>\n",
              "      <td>0</td>\n",
              "      <td>0</td>\n",
              "      <td>0</td>\n",
              "      <td>0</td>\n",
              "      <td>0</td>\n",
              "      <td>0</td>\n",
              "      <td>0</td>\n",
              "      <td>0</td>\n",
              "      <td>0</td>\n",
              "      <td>1</td>\n",
              "      <td>0</td>\n",
              "      <td>0</td>\n",
              "      <td>0</td>\n",
              "      <td>0</td>\n",
              "      <td>0</td>\n",
              "      <td>0</td>\n",
              "    </tr>\n",
              "    <tr>\n",
              "      <th>324260</th>\n",
              "      <td>LARKIN ST / SUTTER ST</td>\n",
              "      <td>-122.418468</td>\n",
              "      <td>37.787965</td>\n",
              "      <td>9</td>\n",
              "      <td>24</td>\n",
              "      <td>1</td>\n",
              "      <td>39</td>\n",
              "      <td>0</td>\n",
              "      <td>0</td>\n",
              "      <td>0</td>\n",
              "      <td>0</td>\n",
              "      <td>0</td>\n",
              "      <td>0</td>\n",
              "      <td>1</td>\n",
              "      <td>0</td>\n",
              "      <td>1</td>\n",
              "      <td>0</td>\n",
              "      <td>0</td>\n",
              "      <td>0</td>\n",
              "      <td>0</td>\n",
              "      <td>0</td>\n",
              "      <td>0</td>\n",
              "      <td>0</td>\n",
              "      <td>0</td>\n",
              "    </tr>\n",
              "    <tr>\n",
              "      <th>1404604</th>\n",
              "      <td>900 Block of HAMILTON ST</td>\n",
              "      <td>-122.406894</td>\n",
              "      <td>37.719578</td>\n",
              "      <td>10</td>\n",
              "      <td>12</td>\n",
              "      <td>23</td>\n",
              "      <td>0</td>\n",
              "      <td>0</td>\n",
              "      <td>0</td>\n",
              "      <td>0</td>\n",
              "      <td>1</td>\n",
              "      <td>0</td>\n",
              "      <td>0</td>\n",
              "      <td>0</td>\n",
              "      <td>0</td>\n",
              "      <td>0</td>\n",
              "      <td>1</td>\n",
              "      <td>0</td>\n",
              "      <td>0</td>\n",
              "      <td>0</td>\n",
              "      <td>0</td>\n",
              "      <td>0</td>\n",
              "      <td>0</td>\n",
              "      <td>0</td>\n",
              "    </tr>\n",
              "    <tr>\n",
              "      <th>1357958</th>\n",
              "      <td>2200 Block of GEARY BL</td>\n",
              "      <td>-122.440341</td>\n",
              "      <td>37.783324</td>\n",
              "      <td>1</td>\n",
              "      <td>7</td>\n",
              "      <td>10</td>\n",
              "      <td>42</td>\n",
              "      <td>0</td>\n",
              "      <td>0</td>\n",
              "      <td>0</td>\n",
              "      <td>0</td>\n",
              "      <td>0</td>\n",
              "      <td>0</td>\n",
              "      <td>1</td>\n",
              "      <td>0</td>\n",
              "      <td>0</td>\n",
              "      <td>0</td>\n",
              "      <td>0</td>\n",
              "      <td>0</td>\n",
              "      <td>1</td>\n",
              "      <td>0</td>\n",
              "      <td>0</td>\n",
              "      <td>0</td>\n",
              "      <td>0</td>\n",
              "    </tr>\n",
              "  </tbody>\n",
              "</table>\n",
              "</div>"
            ],
            "text/plain": [
              "                          Address  ...  PdDistrict_TENDERLOIN\n",
              "1041060      VANNESS AV / BUSH ST  ...                      0\n",
              "578101   2600 Block of MISSION ST  ...                      0\n",
              "324260      LARKIN ST / SUTTER ST  ...                      0\n",
              "1404604  900 Block of HAMILTON ST  ...                      0\n",
              "1357958    2200 Block of GEARY BL  ...                      0\n",
              "\n",
              "[5 rows x 24 columns]"
            ]
          },
          "metadata": {
            "tags": []
          },
          "execution_count": 35
        }
      ]
    },
    {
      "cell_type": "code",
      "metadata": {
        "id": "YzzoMG46sjsA",
        "colab_type": "code",
        "outputId": "b9786aed-9e95-459a-f004-1d7932c81dc9",
        "colab": {
          "base_uri": "https://localhost:8080/",
          "height": 226
        }
      },
      "source": [
        "test_data.head()"
      ],
      "execution_count": 0,
      "outputs": [
        {
          "output_type": "execute_result",
          "data": {
            "text/html": [
              "<div>\n",
              "<style scoped>\n",
              "    .dataframe tbody tr th:only-of-type {\n",
              "        vertical-align: middle;\n",
              "    }\n",
              "\n",
              "    .dataframe tbody tr th {\n",
              "        vertical-align: top;\n",
              "    }\n",
              "\n",
              "    .dataframe thead th {\n",
              "        text-align: right;\n",
              "    }\n",
              "</style>\n",
              "<table border=\"1\" class=\"dataframe\">\n",
              "  <thead>\n",
              "    <tr style=\"text-align: right;\">\n",
              "      <th></th>\n",
              "      <th>X</th>\n",
              "      <th>Y</th>\n",
              "      <th>Month</th>\n",
              "      <th>Day</th>\n",
              "      <th>Hour</th>\n",
              "      <th>Minute</th>\n",
              "      <th>DayOfWeek_Friday</th>\n",
              "      <th>DayOfWeek_Monday</th>\n",
              "      <th>DayOfWeek_Saturday</th>\n",
              "      <th>DayOfWeek_Sunday</th>\n",
              "      <th>DayOfWeek_Thursday</th>\n",
              "      <th>DayOfWeek_Tuesday</th>\n",
              "      <th>DayOfWeek_Wednesday</th>\n",
              "      <th>PdDistrict_BAYVIEW</th>\n",
              "      <th>PdDistrict_CENTRAL</th>\n",
              "      <th>PdDistrict_INGLESIDE</th>\n",
              "      <th>PdDistrict_MISSION</th>\n",
              "      <th>PdDistrict_NORTHERN</th>\n",
              "      <th>PdDistrict_PARK</th>\n",
              "      <th>PdDistrict_RICHMOND</th>\n",
              "      <th>PdDistrict_SOUTHERN</th>\n",
              "      <th>PdDistrict_TARAVAL</th>\n",
              "      <th>PdDistrict_TENDERLOIN</th>\n",
              "    </tr>\n",
              "  </thead>\n",
              "  <tbody>\n",
              "    <tr>\n",
              "      <th>1041060</th>\n",
              "      <td>-122.421949</td>\n",
              "      <td>37.788488</td>\n",
              "      <td>5</td>\n",
              "      <td>31</td>\n",
              "      <td>13</td>\n",
              "      <td>30</td>\n",
              "      <td>0</td>\n",
              "      <td>1</td>\n",
              "      <td>0</td>\n",
              "      <td>0</td>\n",
              "      <td>0</td>\n",
              "      <td>0</td>\n",
              "      <td>0</td>\n",
              "      <td>0</td>\n",
              "      <td>0</td>\n",
              "      <td>0</td>\n",
              "      <td>0</td>\n",
              "      <td>1</td>\n",
              "      <td>0</td>\n",
              "      <td>0</td>\n",
              "      <td>0</td>\n",
              "      <td>0</td>\n",
              "      <td>0</td>\n",
              "    </tr>\n",
              "    <tr>\n",
              "      <th>578101</th>\n",
              "      <td>-122.418600</td>\n",
              "      <td>37.754626</td>\n",
              "      <td>10</td>\n",
              "      <td>14</td>\n",
              "      <td>13</td>\n",
              "      <td>0</td>\n",
              "      <td>1</td>\n",
              "      <td>0</td>\n",
              "      <td>0</td>\n",
              "      <td>0</td>\n",
              "      <td>0</td>\n",
              "      <td>0</td>\n",
              "      <td>0</td>\n",
              "      <td>0</td>\n",
              "      <td>0</td>\n",
              "      <td>0</td>\n",
              "      <td>1</td>\n",
              "      <td>0</td>\n",
              "      <td>0</td>\n",
              "      <td>0</td>\n",
              "      <td>0</td>\n",
              "      <td>0</td>\n",
              "      <td>0</td>\n",
              "    </tr>\n",
              "    <tr>\n",
              "      <th>324260</th>\n",
              "      <td>-122.418468</td>\n",
              "      <td>37.787965</td>\n",
              "      <td>9</td>\n",
              "      <td>24</td>\n",
              "      <td>1</td>\n",
              "      <td>39</td>\n",
              "      <td>0</td>\n",
              "      <td>0</td>\n",
              "      <td>0</td>\n",
              "      <td>0</td>\n",
              "      <td>0</td>\n",
              "      <td>0</td>\n",
              "      <td>1</td>\n",
              "      <td>0</td>\n",
              "      <td>1</td>\n",
              "      <td>0</td>\n",
              "      <td>0</td>\n",
              "      <td>0</td>\n",
              "      <td>0</td>\n",
              "      <td>0</td>\n",
              "      <td>0</td>\n",
              "      <td>0</td>\n",
              "      <td>0</td>\n",
              "    </tr>\n",
              "    <tr>\n",
              "      <th>1404604</th>\n",
              "      <td>-122.406894</td>\n",
              "      <td>37.719578</td>\n",
              "      <td>10</td>\n",
              "      <td>12</td>\n",
              "      <td>23</td>\n",
              "      <td>0</td>\n",
              "      <td>0</td>\n",
              "      <td>0</td>\n",
              "      <td>0</td>\n",
              "      <td>1</td>\n",
              "      <td>0</td>\n",
              "      <td>0</td>\n",
              "      <td>0</td>\n",
              "      <td>0</td>\n",
              "      <td>0</td>\n",
              "      <td>1</td>\n",
              "      <td>0</td>\n",
              "      <td>0</td>\n",
              "      <td>0</td>\n",
              "      <td>0</td>\n",
              "      <td>0</td>\n",
              "      <td>0</td>\n",
              "      <td>0</td>\n",
              "    </tr>\n",
              "    <tr>\n",
              "      <th>1357958</th>\n",
              "      <td>-122.440341</td>\n",
              "      <td>37.783324</td>\n",
              "      <td>1</td>\n",
              "      <td>7</td>\n",
              "      <td>10</td>\n",
              "      <td>42</td>\n",
              "      <td>0</td>\n",
              "      <td>0</td>\n",
              "      <td>0</td>\n",
              "      <td>0</td>\n",
              "      <td>0</td>\n",
              "      <td>0</td>\n",
              "      <td>1</td>\n",
              "      <td>0</td>\n",
              "      <td>0</td>\n",
              "      <td>0</td>\n",
              "      <td>0</td>\n",
              "      <td>0</td>\n",
              "      <td>1</td>\n",
              "      <td>0</td>\n",
              "      <td>0</td>\n",
              "      <td>0</td>\n",
              "      <td>0</td>\n",
              "    </tr>\n",
              "  </tbody>\n",
              "</table>\n",
              "</div>"
            ],
            "text/plain": [
              "                  X          Y  ...  PdDistrict_TARAVAL  PdDistrict_TENDERLOIN\n",
              "1041060 -122.421949  37.788488  ...                   0                      0\n",
              "578101  -122.418600  37.754626  ...                   0                      0\n",
              "324260  -122.418468  37.787965  ...                   0                      0\n",
              "1404604 -122.406894  37.719578  ...                   0                      0\n",
              "1357958 -122.440341  37.783324  ...                   0                      0\n",
              "\n",
              "[5 rows x 23 columns]"
            ]
          },
          "metadata": {
            "tags": []
          },
          "execution_count": 39
        }
      ]
    },
    {
      "cell_type": "code",
      "metadata": {
        "id": "_3VBxES9lTpr",
        "colab_type": "code",
        "colab": {}
      },
      "source": [
        "y_pred_proba = rf.predict_proba(test_data)"
      ],
      "execution_count": 0,
      "outputs": []
    },
    {
      "cell_type": "code",
      "metadata": {
        "id": "Wp5dSZyqlXCU",
        "colab_type": "code",
        "outputId": "3cbf6af6-8cb9-47a0-ff99-c9c1ca8038b0",
        "colab": {
          "base_uri": "https://localhost:8080/",
          "height": 496
        }
      },
      "source": [
        "colmn = [\"ARSON\",\"ASSAULT\",\"BAD CHECKS\",\"BRIBERY\",\"BURGLARY\",\"DISORDERLY CONDUCT\",\"DRIVING UNDER THE INFLUENCE\",\"DRUG/NARCOTIC\",\"DRUNKENNESS\",\"EMBEZZLEMENT\",\"EXTORTION\",\"FAMILY OFFENSES\",\"FORGERY/COUNTERFEITING\",\"FRAUD\",\"GAMBLING\",\"KIDNAPPING\",\"LARCENY/THEFT\",\"LIQUOR LAWS\",\"LOITERING\",\"MISSING PERSON\",\"NON-CRIMINAL\",\"OTHER OFFENSES\",\"PORNOGRAPHY/OBSCENE MAT\",\"PROSTITUTION\",\"RECOVERED VEHICLE\",\"ROBBERY\",\"RUNAWAY\",\"SECONDARY CODES\",\"SEX OFFENSES FORCIBLE\",\"SEX OFFENSES NON FORCIBLE\",\"STOLEN PROPERTY\",\"SUICIDE\",\"SUSPICIOUS OCC\",\"TREA\",\"TRESPASS\",\"VANDALISM\",\"VEHICLE THEFT\",\"WARRANTS\",\"WEAPON LAWS\"]\n",
        "result = pd.DataFrame(y_pred_proba, columns=colmn)\n",
        "result"
      ],
      "execution_count": 0,
      "outputs": [
        {
          "output_type": "execute_result",
          "data": {
            "text/html": [
              "<div>\n",
              "<style scoped>\n",
              "    .dataframe tbody tr th:only-of-type {\n",
              "        vertical-align: middle;\n",
              "    }\n",
              "\n",
              "    .dataframe tbody tr th {\n",
              "        vertical-align: top;\n",
              "    }\n",
              "\n",
              "    .dataframe thead th {\n",
              "        text-align: right;\n",
              "    }\n",
              "</style>\n",
              "<table border=\"1\" class=\"dataframe\">\n",
              "  <thead>\n",
              "    <tr style=\"text-align: right;\">\n",
              "      <th></th>\n",
              "      <th>ARSON</th>\n",
              "      <th>ASSAULT</th>\n",
              "      <th>BAD CHECKS</th>\n",
              "      <th>BRIBERY</th>\n",
              "      <th>BURGLARY</th>\n",
              "      <th>DISORDERLY CONDUCT</th>\n",
              "      <th>DRIVING UNDER THE INFLUENCE</th>\n",
              "      <th>DRUG/NARCOTIC</th>\n",
              "      <th>DRUNKENNESS</th>\n",
              "      <th>EMBEZZLEMENT</th>\n",
              "      <th>EXTORTION</th>\n",
              "      <th>FAMILY OFFENSES</th>\n",
              "      <th>FORGERY/COUNTERFEITING</th>\n",
              "      <th>FRAUD</th>\n",
              "      <th>GAMBLING</th>\n",
              "      <th>KIDNAPPING</th>\n",
              "      <th>LARCENY/THEFT</th>\n",
              "      <th>LIQUOR LAWS</th>\n",
              "      <th>LOITERING</th>\n",
              "      <th>MISSING PERSON</th>\n",
              "      <th>NON-CRIMINAL</th>\n",
              "      <th>OTHER OFFENSES</th>\n",
              "      <th>PORNOGRAPHY/OBSCENE MAT</th>\n",
              "      <th>PROSTITUTION</th>\n",
              "      <th>RECOVERED VEHICLE</th>\n",
              "      <th>ROBBERY</th>\n",
              "      <th>RUNAWAY</th>\n",
              "      <th>SECONDARY CODES</th>\n",
              "      <th>SEX OFFENSES FORCIBLE</th>\n",
              "      <th>SEX OFFENSES NON FORCIBLE</th>\n",
              "      <th>STOLEN PROPERTY</th>\n",
              "      <th>SUICIDE</th>\n",
              "      <th>SUSPICIOUS OCC</th>\n",
              "      <th>TREA</th>\n",
              "      <th>TRESPASS</th>\n",
              "      <th>VANDALISM</th>\n",
              "      <th>VEHICLE THEFT</th>\n",
              "      <th>WARRANTS</th>\n",
              "      <th>WEAPON LAWS</th>\n",
              "    </tr>\n",
              "  </thead>\n",
              "  <tbody>\n",
              "    <tr>\n",
              "      <th>0</th>\n",
              "      <td>0.000979</td>\n",
              "      <td>0.071527</td>\n",
              "      <td>0.000419</td>\n",
              "      <td>0.000166</td>\n",
              "      <td>0.056284</td>\n",
              "      <td>0.003305</td>\n",
              "      <td>0.001468</td>\n",
              "      <td>0.032273</td>\n",
              "      <td>0.002364</td>\n",
              "      <td>0.001112</td>\n",
              "      <td>0.000344</td>\n",
              "      <td>0.000190</td>\n",
              "      <td>0.012224</td>\n",
              "      <td>0.020021</td>\n",
              "      <td>0.000053</td>\n",
              "      <td>0.001623</td>\n",
              "      <td>0.323230</td>\n",
              "      <td>0.000990</td>\n",
              "      <td>0.001484</td>\n",
              "      <td>0.017039</td>\n",
              "      <td>0.102691</td>\n",
              "      <td>0.108661</td>\n",
              "      <td>0.000023</td>\n",
              "      <td>0.010606</td>\n",
              "      <td>0.003792</td>\n",
              "      <td>0.022538</td>\n",
              "      <td>0.000647</td>\n",
              "      <td>0.007711</td>\n",
              "      <td>0.003397</td>\n",
              "      <td>0.000123</td>\n",
              "      <td>0.007971</td>\n",
              "      <td>0.000587</td>\n",
              "      <td>0.034059</td>\n",
              "      <td>1.486466e-06</td>\n",
              "      <td>0.008561</td>\n",
              "      <td>0.045049</td>\n",
              "      <td>0.050309</td>\n",
              "      <td>0.039317</td>\n",
              "      <td>0.006862</td>\n",
              "    </tr>\n",
              "    <tr>\n",
              "      <th>1</th>\n",
              "      <td>0.001105</td>\n",
              "      <td>0.080840</td>\n",
              "      <td>0.001291</td>\n",
              "      <td>0.000647</td>\n",
              "      <td>0.044910</td>\n",
              "      <td>0.003883</td>\n",
              "      <td>0.000572</td>\n",
              "      <td>0.026516</td>\n",
              "      <td>0.001580</td>\n",
              "      <td>0.002278</td>\n",
              "      <td>0.000358</td>\n",
              "      <td>0.001464</td>\n",
              "      <td>0.019642</td>\n",
              "      <td>0.027506</td>\n",
              "      <td>0.000148</td>\n",
              "      <td>0.003213</td>\n",
              "      <td>0.203134</td>\n",
              "      <td>0.001216</td>\n",
              "      <td>0.000734</td>\n",
              "      <td>0.055775</td>\n",
              "      <td>0.145371</td>\n",
              "      <td>0.111142</td>\n",
              "      <td>0.000011</td>\n",
              "      <td>0.007345</td>\n",
              "      <td>0.001359</td>\n",
              "      <td>0.023329</td>\n",
              "      <td>0.002206</td>\n",
              "      <td>0.011566</td>\n",
              "      <td>0.008252</td>\n",
              "      <td>0.000291</td>\n",
              "      <td>0.002728</td>\n",
              "      <td>0.000522</td>\n",
              "      <td>0.037210</td>\n",
              "      <td>1.813992e-07</td>\n",
              "      <td>0.005124</td>\n",
              "      <td>0.052334</td>\n",
              "      <td>0.090118</td>\n",
              "      <td>0.018910</td>\n",
              "      <td>0.005370</td>\n",
              "    </tr>\n",
              "    <tr>\n",
              "      <th>2</th>\n",
              "      <td>0.002911</td>\n",
              "      <td>0.102309</td>\n",
              "      <td>0.000147</td>\n",
              "      <td>0.000149</td>\n",
              "      <td>0.050403</td>\n",
              "      <td>0.012411</td>\n",
              "      <td>0.006297</td>\n",
              "      <td>0.042364</td>\n",
              "      <td>0.008377</td>\n",
              "      <td>0.000825</td>\n",
              "      <td>0.000215</td>\n",
              "      <td>0.000242</td>\n",
              "      <td>0.005992</td>\n",
              "      <td>0.015034</td>\n",
              "      <td>0.000087</td>\n",
              "      <td>0.002239</td>\n",
              "      <td>0.146991</td>\n",
              "      <td>0.001138</td>\n",
              "      <td>0.006140</td>\n",
              "      <td>0.012987</td>\n",
              "      <td>0.089011</td>\n",
              "      <td>0.140251</td>\n",
              "      <td>0.000005</td>\n",
              "      <td>0.087707</td>\n",
              "      <td>0.004139</td>\n",
              "      <td>0.036163</td>\n",
              "      <td>0.000234</td>\n",
              "      <td>0.009641</td>\n",
              "      <td>0.005065</td>\n",
              "      <td>0.000040</td>\n",
              "      <td>0.008108</td>\n",
              "      <td>0.000492</td>\n",
              "      <td>0.035947</td>\n",
              "      <td>1.126735e-06</td>\n",
              "      <td>0.012038</td>\n",
              "      <td>0.052903</td>\n",
              "      <td>0.024923</td>\n",
              "      <td>0.066343</td>\n",
              "      <td>0.009731</td>\n",
              "    </tr>\n",
              "    <tr>\n",
              "      <th>3</th>\n",
              "      <td>0.001733</td>\n",
              "      <td>0.086308</td>\n",
              "      <td>0.000211</td>\n",
              "      <td>0.000453</td>\n",
              "      <td>0.041927</td>\n",
              "      <td>0.001364</td>\n",
              "      <td>0.000576</td>\n",
              "      <td>0.009323</td>\n",
              "      <td>0.001139</td>\n",
              "      <td>0.000932</td>\n",
              "      <td>0.000221</td>\n",
              "      <td>0.001346</td>\n",
              "      <td>0.007186</td>\n",
              "      <td>0.010995</td>\n",
              "      <td>0.000042</td>\n",
              "      <td>0.004561</td>\n",
              "      <td>0.186334</td>\n",
              "      <td>0.000439</td>\n",
              "      <td>0.000040</td>\n",
              "      <td>0.046079</td>\n",
              "      <td>0.064587</td>\n",
              "      <td>0.090859</td>\n",
              "      <td>0.000030</td>\n",
              "      <td>0.000630</td>\n",
              "      <td>0.001703</td>\n",
              "      <td>0.021450</td>\n",
              "      <td>0.002452</td>\n",
              "      <td>0.014397</td>\n",
              "      <td>0.009118</td>\n",
              "      <td>0.000480</td>\n",
              "      <td>0.002837</td>\n",
              "      <td>0.000441</td>\n",
              "      <td>0.025464</td>\n",
              "      <td>2.036308e-07</td>\n",
              "      <td>0.002965</td>\n",
              "      <td>0.104783</td>\n",
              "      <td>0.238616</td>\n",
              "      <td>0.010962</td>\n",
              "      <td>0.007016</td>\n",
              "    </tr>\n",
              "    <tr>\n",
              "      <th>4</th>\n",
              "      <td>0.001166</td>\n",
              "      <td>0.087168</td>\n",
              "      <td>0.000261</td>\n",
              "      <td>0.000422</td>\n",
              "      <td>0.039123</td>\n",
              "      <td>0.003507</td>\n",
              "      <td>0.003891</td>\n",
              "      <td>0.051670</td>\n",
              "      <td>0.004564</td>\n",
              "      <td>0.001380</td>\n",
              "      <td>0.000217</td>\n",
              "      <td>0.000332</td>\n",
              "      <td>0.009158</td>\n",
              "      <td>0.016200</td>\n",
              "      <td>0.000075</td>\n",
              "      <td>0.002028</td>\n",
              "      <td>0.231415</td>\n",
              "      <td>0.001955</td>\n",
              "      <td>0.000740</td>\n",
              "      <td>0.030668</td>\n",
              "      <td>0.116309</td>\n",
              "      <td>0.151784</td>\n",
              "      <td>0.000139</td>\n",
              "      <td>0.002716</td>\n",
              "      <td>0.003853</td>\n",
              "      <td>0.028544</td>\n",
              "      <td>0.003923</td>\n",
              "      <td>0.011006</td>\n",
              "      <td>0.003330</td>\n",
              "      <td>0.000101</td>\n",
              "      <td>0.007234</td>\n",
              "      <td>0.000596</td>\n",
              "      <td>0.038286</td>\n",
              "      <td>2.960077e-06</td>\n",
              "      <td>0.008941</td>\n",
              "      <td>0.040573</td>\n",
              "      <td>0.034355</td>\n",
              "      <td>0.052335</td>\n",
              "      <td>0.010032</td>\n",
              "    </tr>\n",
              "    <tr>\n",
              "      <th>...</th>\n",
              "      <td>...</td>\n",
              "      <td>...</td>\n",
              "      <td>...</td>\n",
              "      <td>...</td>\n",
              "      <td>...</td>\n",
              "      <td>...</td>\n",
              "      <td>...</td>\n",
              "      <td>...</td>\n",
              "      <td>...</td>\n",
              "      <td>...</td>\n",
              "      <td>...</td>\n",
              "      <td>...</td>\n",
              "      <td>...</td>\n",
              "      <td>...</td>\n",
              "      <td>...</td>\n",
              "      <td>...</td>\n",
              "      <td>...</td>\n",
              "      <td>...</td>\n",
              "      <td>...</td>\n",
              "      <td>...</td>\n",
              "      <td>...</td>\n",
              "      <td>...</td>\n",
              "      <td>...</td>\n",
              "      <td>...</td>\n",
              "      <td>...</td>\n",
              "      <td>...</td>\n",
              "      <td>...</td>\n",
              "      <td>...</td>\n",
              "      <td>...</td>\n",
              "      <td>...</td>\n",
              "      <td>...</td>\n",
              "      <td>...</td>\n",
              "      <td>...</td>\n",
              "      <td>...</td>\n",
              "      <td>...</td>\n",
              "      <td>...</td>\n",
              "      <td>...</td>\n",
              "      <td>...</td>\n",
              "      <td>...</td>\n",
              "    </tr>\n",
              "    <tr>\n",
              "      <th>730953</th>\n",
              "      <td>0.001239</td>\n",
              "      <td>0.096869</td>\n",
              "      <td>0.000320</td>\n",
              "      <td>0.000179</td>\n",
              "      <td>0.029811</td>\n",
              "      <td>0.005587</td>\n",
              "      <td>0.001899</td>\n",
              "      <td>0.086292</td>\n",
              "      <td>0.004329</td>\n",
              "      <td>0.000798</td>\n",
              "      <td>0.000246</td>\n",
              "      <td>0.000213</td>\n",
              "      <td>0.010917</td>\n",
              "      <td>0.014522</td>\n",
              "      <td>0.000152</td>\n",
              "      <td>0.001614</td>\n",
              "      <td>0.210341</td>\n",
              "      <td>0.001900</td>\n",
              "      <td>0.001962</td>\n",
              "      <td>0.013877</td>\n",
              "      <td>0.107859</td>\n",
              "      <td>0.138861</td>\n",
              "      <td>0.000034</td>\n",
              "      <td>0.024446</td>\n",
              "      <td>0.004097</td>\n",
              "      <td>0.026439</td>\n",
              "      <td>0.000532</td>\n",
              "      <td>0.008524</td>\n",
              "      <td>0.003877</td>\n",
              "      <td>0.000085</td>\n",
              "      <td>0.008138</td>\n",
              "      <td>0.000626</td>\n",
              "      <td>0.034028</td>\n",
              "      <td>2.361030e-06</td>\n",
              "      <td>0.010242</td>\n",
              "      <td>0.037706</td>\n",
              "      <td>0.029054</td>\n",
              "      <td>0.072531</td>\n",
              "      <td>0.009851</td>\n",
              "    </tr>\n",
              "    <tr>\n",
              "      <th>730954</th>\n",
              "      <td>0.001416</td>\n",
              "      <td>0.088688</td>\n",
              "      <td>0.000076</td>\n",
              "      <td>0.000370</td>\n",
              "      <td>0.014654</td>\n",
              "      <td>0.008346</td>\n",
              "      <td>0.002276</td>\n",
              "      <td>0.174470</td>\n",
              "      <td>0.006061</td>\n",
              "      <td>0.000577</td>\n",
              "      <td>0.000082</td>\n",
              "      <td>0.000515</td>\n",
              "      <td>0.007244</td>\n",
              "      <td>0.012244</td>\n",
              "      <td>0.000189</td>\n",
              "      <td>0.001735</td>\n",
              "      <td>0.103611</td>\n",
              "      <td>0.004037</td>\n",
              "      <td>0.002009</td>\n",
              "      <td>0.014482</td>\n",
              "      <td>0.082335</td>\n",
              "      <td>0.217965</td>\n",
              "      <td>0.000016</td>\n",
              "      <td>0.018372</td>\n",
              "      <td>0.003369</td>\n",
              "      <td>0.027110</td>\n",
              "      <td>0.000985</td>\n",
              "      <td>0.009347</td>\n",
              "      <td>0.003538</td>\n",
              "      <td>0.000144</td>\n",
              "      <td>0.005742</td>\n",
              "      <td>0.000485</td>\n",
              "      <td>0.029333</td>\n",
              "      <td>1.738336e-06</td>\n",
              "      <td>0.008083</td>\n",
              "      <td>0.027468</td>\n",
              "      <td>0.020847</td>\n",
              "      <td>0.088718</td>\n",
              "      <td>0.013061</td>\n",
              "    </tr>\n",
              "    <tr>\n",
              "      <th>730955</th>\n",
              "      <td>0.000742</td>\n",
              "      <td>0.050235</td>\n",
              "      <td>0.000342</td>\n",
              "      <td>0.000406</td>\n",
              "      <td>0.058665</td>\n",
              "      <td>0.001012</td>\n",
              "      <td>0.000614</td>\n",
              "      <td>0.012475</td>\n",
              "      <td>0.001150</td>\n",
              "      <td>0.000896</td>\n",
              "      <td>0.000290</td>\n",
              "      <td>0.000273</td>\n",
              "      <td>0.006504</td>\n",
              "      <td>0.015787</td>\n",
              "      <td>0.000032</td>\n",
              "      <td>0.001849</td>\n",
              "      <td>0.421919</td>\n",
              "      <td>0.000413</td>\n",
              "      <td>0.000498</td>\n",
              "      <td>0.021837</td>\n",
              "      <td>0.083626</td>\n",
              "      <td>0.056986</td>\n",
              "      <td>0.000010</td>\n",
              "      <td>0.002767</td>\n",
              "      <td>0.000573</td>\n",
              "      <td>0.014241</td>\n",
              "      <td>0.001309</td>\n",
              "      <td>0.008743</td>\n",
              "      <td>0.004161</td>\n",
              "      <td>0.000102</td>\n",
              "      <td>0.003378</td>\n",
              "      <td>0.000356</td>\n",
              "      <td>0.020200</td>\n",
              "      <td>0.000000e+00</td>\n",
              "      <td>0.003713</td>\n",
              "      <td>0.083959</td>\n",
              "      <td>0.105522</td>\n",
              "      <td>0.011259</td>\n",
              "      <td>0.003157</td>\n",
              "    </tr>\n",
              "    <tr>\n",
              "      <th>730956</th>\n",
              "      <td>0.001370</td>\n",
              "      <td>0.097813</td>\n",
              "      <td>0.000111</td>\n",
              "      <td>0.000508</td>\n",
              "      <td>0.022244</td>\n",
              "      <td>0.012988</td>\n",
              "      <td>0.006146</td>\n",
              "      <td>0.077619</td>\n",
              "      <td>0.006559</td>\n",
              "      <td>0.000841</td>\n",
              "      <td>0.000120</td>\n",
              "      <td>0.000667</td>\n",
              "      <td>0.006529</td>\n",
              "      <td>0.012605</td>\n",
              "      <td>0.000134</td>\n",
              "      <td>0.002258</td>\n",
              "      <td>0.125373</td>\n",
              "      <td>0.004780</td>\n",
              "      <td>0.002773</td>\n",
              "      <td>0.017464</td>\n",
              "      <td>0.089353</td>\n",
              "      <td>0.188247</td>\n",
              "      <td>0.000011</td>\n",
              "      <td>0.061577</td>\n",
              "      <td>0.003211</td>\n",
              "      <td>0.032256</td>\n",
              "      <td>0.001270</td>\n",
              "      <td>0.010950</td>\n",
              "      <td>0.004945</td>\n",
              "      <td>0.000368</td>\n",
              "      <td>0.004926</td>\n",
              "      <td>0.000594</td>\n",
              "      <td>0.035682</td>\n",
              "      <td>2.062484e-06</td>\n",
              "      <td>0.009131</td>\n",
              "      <td>0.039352</td>\n",
              "      <td>0.039289</td>\n",
              "      <td>0.065110</td>\n",
              "      <td>0.014824</td>\n",
              "    </tr>\n",
              "    <tr>\n",
              "      <th>730957</th>\n",
              "      <td>0.001931</td>\n",
              "      <td>0.106754</td>\n",
              "      <td>0.000110</td>\n",
              "      <td>0.000159</td>\n",
              "      <td>0.014774</td>\n",
              "      <td>0.049629</td>\n",
              "      <td>0.001653</td>\n",
              "      <td>0.168104</td>\n",
              "      <td>0.005888</td>\n",
              "      <td>0.000280</td>\n",
              "      <td>0.000142</td>\n",
              "      <td>0.000192</td>\n",
              "      <td>0.003711</td>\n",
              "      <td>0.009202</td>\n",
              "      <td>0.000122</td>\n",
              "      <td>0.002305</td>\n",
              "      <td>0.053948</td>\n",
              "      <td>0.002201</td>\n",
              "      <td>0.010986</td>\n",
              "      <td>0.007145</td>\n",
              "      <td>0.091574</td>\n",
              "      <td>0.179754</td>\n",
              "      <td>0.000065</td>\n",
              "      <td>0.009048</td>\n",
              "      <td>0.004358</td>\n",
              "      <td>0.033911</td>\n",
              "      <td>0.000205</td>\n",
              "      <td>0.012199</td>\n",
              "      <td>0.003877</td>\n",
              "      <td>0.000014</td>\n",
              "      <td>0.003646</td>\n",
              "      <td>0.000489</td>\n",
              "      <td>0.032050</td>\n",
              "      <td>5.316157e-07</td>\n",
              "      <td>0.050316</td>\n",
              "      <td>0.024620</td>\n",
              "      <td>0.009018</td>\n",
              "      <td>0.093712</td>\n",
              "      <td>0.011908</td>\n",
              "    </tr>\n",
              "  </tbody>\n",
              "</table>\n",
              "<p>730958 rows × 39 columns</p>\n",
              "</div>"
            ],
            "text/plain": [
              "           ARSON   ASSAULT  BAD CHECKS  ...  VEHICLE THEFT  WARRANTS  WEAPON LAWS\n",
              "0       0.000979  0.071527    0.000419  ...       0.050309  0.039317     0.006862\n",
              "1       0.001105  0.080840    0.001291  ...       0.090118  0.018910     0.005370\n",
              "2       0.002911  0.102309    0.000147  ...       0.024923  0.066343     0.009731\n",
              "3       0.001733  0.086308    0.000211  ...       0.238616  0.010962     0.007016\n",
              "4       0.001166  0.087168    0.000261  ...       0.034355  0.052335     0.010032\n",
              "...          ...       ...         ...  ...            ...       ...          ...\n",
              "730953  0.001239  0.096869    0.000320  ...       0.029054  0.072531     0.009851\n",
              "730954  0.001416  0.088688    0.000076  ...       0.020847  0.088718     0.013061\n",
              "730955  0.000742  0.050235    0.000342  ...       0.105522  0.011259     0.003157\n",
              "730956  0.001370  0.097813    0.000111  ...       0.039289  0.065110     0.014824\n",
              "730957  0.001931  0.106754    0.000110  ...       0.009018  0.093712     0.011908\n",
              "\n",
              "[730958 rows x 39 columns]"
            ]
          },
          "metadata": {
            "tags": []
          },
          "execution_count": 41
        }
      ]
    }
  ]
}
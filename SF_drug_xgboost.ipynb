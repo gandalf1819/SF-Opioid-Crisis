{
  "nbformat": 4,
  "nbformat_minor": 0,
  "metadata": {
    "colab": {
      "name": "SF-drug-xgboost.ipynb",
      "provenance": [],
      "include_colab_link": true
    },
    "kernelspec": {
      "name": "python3",
      "display_name": "Python 3"
    }
  },
  "cells": [
    {
      "cell_type": "markdown",
      "metadata": {
        "id": "view-in-github",
        "colab_type": "text"
      },
      "source": [
        "<a href=\"https://colab.research.google.com/github/gandalf1819/SF-Opioid-Crisis/blob/master/SF_drug_xgboost.ipynb\" target=\"_parent\"><img src=\"https://colab.research.google.com/assets/colab-badge.svg\" alt=\"Open In Colab\"/></a>"
      ]
    },
    {
      "cell_type": "code",
      "metadata": {
        "id": "juhzH9xLfr9K",
        "colab_type": "code",
        "colab": {
          "base_uri": "https://localhost:8080/",
          "height": 124
        },
        "outputId": "7127a9c8-4b2d-4b77-84f4-41f431d06783"
      },
      "source": [
        "from google.colab import drive\n",
        "drive.mount('/content/gdrive')"
      ],
      "execution_count": 1,
      "outputs": [
        {
          "output_type": "stream",
          "text": [
            "Go to this URL in a browser: https://accounts.google.com/o/oauth2/auth?client_id=947318989803-6bn6qk8qdgf4n4g3pfee6491hc0brc4i.apps.googleusercontent.com&redirect_uri=urn%3aietf%3awg%3aoauth%3a2.0%3aoob&response_type=code&scope=email%20https%3a%2f%2fwww.googleapis.com%2fauth%2fdocs.test%20https%3a%2f%2fwww.googleapis.com%2fauth%2fdrive%20https%3a%2f%2fwww.googleapis.com%2fauth%2fdrive.photos.readonly%20https%3a%2f%2fwww.googleapis.com%2fauth%2fpeopleapi.readonly\n",
            "\n",
            "Enter your authorization code:\n",
            "··········\n",
            "Mounted at /content/gdrive\n"
          ],
          "name": "stdout"
        }
      ]
    },
    {
      "cell_type": "code",
      "metadata": {
        "id": "lJCfd2KLfybe",
        "colab_type": "code",
        "colab": {}
      },
      "source": [
        "import sys,os\n",
        "import pandas as pd\n",
        "import numpy as np\n",
        "import matplotlib\n",
        "import matplotlib.pyplot as plt \n",
        "import seaborn as sns\n",
        "%matplotlib inline\n",
        "sns.set()"
      ],
      "execution_count": 0,
      "outputs": []
    },
    {
      "cell_type": "code",
      "metadata": {
        "id": "VSAgLsuXf6Ba",
        "colab_type": "code",
        "colab": {
          "base_uri": "https://localhost:8080/",
          "height": 69
        },
        "outputId": "a9f0cb11-fcd3-44de-9d79-4b657d3ad85e"
      },
      "source": [
        "d_crime = pd.read_csv(\"/content/gdrive/My Drive/SF dataset/Police_Department_Incident_Reports__Historical_2003_to_May_2018.csv\")\n",
        "d_crime.columns"
      ],
      "execution_count": 9,
      "outputs": [
        {
          "output_type": "execute_result",
          "data": {
            "text/plain": [
              "Index(['IncidntNum', 'Category', 'Descript', 'DayOfWeek', 'Date', 'Time',\n",
              "       'PdDistrict', 'Resolution', 'Address', 'X', 'Y', 'Location', 'PdId'],\n",
              "      dtype='object')"
            ]
          },
          "metadata": {
            "tags": []
          },
          "execution_count": 9
        }
      ]
    },
    {
      "cell_type": "code",
      "metadata": {
        "id": "-vbcSl5nf7dm",
        "colab_type": "code",
        "colab": {}
      },
      "source": [
        "np.random.seed(100)\n",
        "random_d_crime=d_crime.sample(2215024)\n",
        "train_size=int(0.67 *2215024)\n",
        "train_df=random_d_crime[:train_size]\n",
        "test_df=random_d_crime[train_size:]"
      ],
      "execution_count": 0,
      "outputs": []
    },
    {
      "cell_type": "code",
      "metadata": {
        "id": "6dxMgUVZf_LY",
        "colab_type": "code",
        "colab": {
          "base_uri": "https://localhost:8080/",
          "height": 69
        },
        "outputId": "436f316c-8800-41e0-bf88-804b8cc28f21"
      },
      "source": [
        "train_df.columns"
      ],
      "execution_count": 5,
      "outputs": [
        {
          "output_type": "execute_result",
          "data": {
            "text/plain": [
              "Index(['IncidntNum', 'Category', 'Descript', 'DayOfWeek', 'Date', 'Time',\n",
              "       'PdDistrict', 'Resolution', 'Address', 'X', 'Y', 'Location', 'PdId'],\n",
              "      dtype='object')"
            ]
          },
          "metadata": {
            "tags": []
          },
          "execution_count": 5
        }
      ]
    },
    {
      "cell_type": "code",
      "metadata": {
        "id": "We4kT_HOgBIg",
        "colab_type": "code",
        "colab": {
          "base_uri": "https://localhost:8080/",
          "height": 69
        },
        "outputId": "34a6024c-c39e-4956-a2db-016e10aff915"
      },
      "source": [
        "test_df.columns"
      ],
      "execution_count": 6,
      "outputs": [
        {
          "output_type": "execute_result",
          "data": {
            "text/plain": [
              "Index(['IncidntNum', 'Category', 'Descript', 'DayOfWeek', 'Date', 'Time',\n",
              "       'PdDistrict', 'Resolution', 'Address', 'X', 'Y', 'Location', 'PdId'],\n",
              "      dtype='object')"
            ]
          },
          "metadata": {
            "tags": []
          },
          "execution_count": 6
        }
      ]
    },
    {
      "cell_type": "code",
      "metadata": {
        "id": "hqNEIQwZgCle",
        "colab_type": "code",
        "colab": {}
      },
      "source": [
        "train_df=train_df.drop(['IncidntNum', 'PdId', 'Location'], axis=1)"
      ],
      "execution_count": 0,
      "outputs": []
    },
    {
      "cell_type": "code",
      "metadata": {
        "id": "4KaYZNhugJR_",
        "colab_type": "code",
        "colab": {
          "base_uri": "https://localhost:8080/",
          "height": 293
        },
        "outputId": "e7cf59e6-20c4-4f40-d8e7-063ae9bded28"
      },
      "source": [
        "train_df.sample(5)"
      ],
      "execution_count": 11,
      "outputs": [
        {
          "output_type": "execute_result",
          "data": {
            "text/html": [
              "<div>\n",
              "<style scoped>\n",
              "    .dataframe tbody tr th:only-of-type {\n",
              "        vertical-align: middle;\n",
              "    }\n",
              "\n",
              "    .dataframe tbody tr th {\n",
              "        vertical-align: top;\n",
              "    }\n",
              "\n",
              "    .dataframe thead th {\n",
              "        text-align: right;\n",
              "    }\n",
              "</style>\n",
              "<table border=\"1\" class=\"dataframe\">\n",
              "  <thead>\n",
              "    <tr style=\"text-align: right;\">\n",
              "      <th></th>\n",
              "      <th>Category</th>\n",
              "      <th>Descript</th>\n",
              "      <th>DayOfWeek</th>\n",
              "      <th>Date</th>\n",
              "      <th>Time</th>\n",
              "      <th>PdDistrict</th>\n",
              "      <th>Resolution</th>\n",
              "      <th>Address</th>\n",
              "      <th>X</th>\n",
              "      <th>Y</th>\n",
              "    </tr>\n",
              "  </thead>\n",
              "  <tbody>\n",
              "    <tr>\n",
              "      <th>971892</th>\n",
              "      <td>OTHER OFFENSES</td>\n",
              "      <td>VIOLATION OF MUNICIPAL CODE</td>\n",
              "      <td>Saturday</td>\n",
              "      <td>10/18/2008</td>\n",
              "      <td>09:31</td>\n",
              "      <td>SOUTHERN</td>\n",
              "      <td>ARREST, CITED</td>\n",
              "      <td>HOWARD ST / 5TH ST</td>\n",
              "      <td>-122.404934</td>\n",
              "      <td>37.781499</td>\n",
              "    </tr>\n",
              "    <tr>\n",
              "      <th>2198930</th>\n",
              "      <td>BURGLARY</td>\n",
              "      <td>BURGLARY,STORE UNDER CONSTRUCTION, UNLAWFUL ENTRY</td>\n",
              "      <td>Tuesday</td>\n",
              "      <td>05/31/2016</td>\n",
              "      <td>12:00</td>\n",
              "      <td>SOUTHERN</td>\n",
              "      <td>NONE</td>\n",
              "      <td>1400 Block of FOLSOM ST</td>\n",
              "      <td>-122.413171</td>\n",
              "      <td>37.772616</td>\n",
              "    </tr>\n",
              "    <tr>\n",
              "      <th>2173105</th>\n",
              "      <td>ASSAULT</td>\n",
              "      <td>BATTERY, FORMER SPOUSE OR DATING RELATIONSHIP</td>\n",
              "      <td>Monday</td>\n",
              "      <td>12/05/2016</td>\n",
              "      <td>02:15</td>\n",
              "      <td>BAYVIEW</td>\n",
              "      <td>ARREST, BOOKED</td>\n",
              "      <td>100 Block of JERROLD AV</td>\n",
              "      <td>-122.371625</td>\n",
              "      <td>37.728777</td>\n",
              "    </tr>\n",
              "    <tr>\n",
              "      <th>2125091</th>\n",
              "      <td>VEHICLE THEFT</td>\n",
              "      <td>STOLEN AUTOMOBILE</td>\n",
              "      <td>Tuesday</td>\n",
              "      <td>05/09/2017</td>\n",
              "      <td>14:00</td>\n",
              "      <td>CENTRAL</td>\n",
              "      <td>NONE</td>\n",
              "      <td>500 Block of VALLEJO ST</td>\n",
              "      <td>-122.406658</td>\n",
              "      <td>37.798900</td>\n",
              "    </tr>\n",
              "    <tr>\n",
              "      <th>2122271</th>\n",
              "      <td>SUSPICIOUS OCC</td>\n",
              "      <td>INVESTIGATIVE DETENTION</td>\n",
              "      <td>Saturday</td>\n",
              "      <td>10/29/2016</td>\n",
              "      <td>11:46</td>\n",
              "      <td>BAYVIEW</td>\n",
              "      <td>NONE</td>\n",
              "      <td>WILLIAMS AV / PHELPS ST</td>\n",
              "      <td>-122.399869</td>\n",
              "      <td>37.730293</td>\n",
              "    </tr>\n",
              "  </tbody>\n",
              "</table>\n",
              "</div>"
            ],
            "text/plain": [
              "               Category  ...          Y\n",
              "971892   OTHER OFFENSES  ...  37.781499\n",
              "2198930        BURGLARY  ...  37.772616\n",
              "2173105         ASSAULT  ...  37.728777\n",
              "2125091   VEHICLE THEFT  ...  37.798900\n",
              "2122271  SUSPICIOUS OCC  ...  37.730293\n",
              "\n",
              "[5 rows x 10 columns]"
            ]
          },
          "metadata": {
            "tags": []
          },
          "execution_count": 11
        }
      ]
    },
    {
      "cell_type": "code",
      "metadata": {
        "id": "tI-sVzbegMqw",
        "colab_type": "code",
        "colab": {}
      },
      "source": [
        "test_df['Id']=test_df.index\n",
        "test_df=test_df.drop(['IncidntNum', 'PdId', 'days', 'Location'], axis=1)"
      ],
      "execution_count": 0,
      "outputs": []
    }
  ]
}
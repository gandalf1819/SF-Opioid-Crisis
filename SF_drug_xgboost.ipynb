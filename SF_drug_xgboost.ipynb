{
  "nbformat": 4,
  "nbformat_minor": 0,
  "metadata": {
    "colab": {
      "name": "SF-drug-xgboost.ipynb",
      "provenance": [],
      "collapsed_sections": [],
      "include_colab_link": true
    },
    "kernelspec": {
      "name": "python3",
      "display_name": "Python 3"
    }
  },
  "cells": [
    {
      "cell_type": "markdown",
      "metadata": {
        "id": "view-in-github",
        "colab_type": "text"
      },
      "source": [
        "<a href=\"https://colab.research.google.com/github/gandalf1819/SF-Opioid-Crisis/blob/master/SF_drug_xgboost.ipynb\" target=\"_parent\"><img src=\"https://colab.research.google.com/assets/colab-badge.svg\" alt=\"Open In Colab\"/></a>"
      ]
    },
    {
      "cell_type": "code",
      "metadata": {
        "id": "juhzH9xLfr9K",
        "colab_type": "code",
        "outputId": "fdeffad7-695d-436e-9471-20061700ca1f",
        "colab": {
          "base_uri": "https://localhost:8080/",
          "height": 34
        }
      },
      "source": [
        "from google.colab import drive\n",
        "drive.mount('/content/gdrive')"
      ],
      "execution_count": 14,
      "outputs": [
        {
          "output_type": "stream",
          "text": [
            "Drive already mounted at /content/gdrive; to attempt to forcibly remount, call drive.mount(\"/content/gdrive\", force_remount=True).\n"
          ],
          "name": "stdout"
        }
      ]
    },
    {
      "cell_type": "code",
      "metadata": {
        "id": "lJCfd2KLfybe",
        "colab_type": "code",
        "colab": {}
      },
      "source": [
        "import sys,os\n",
        "import pandas as pd\n",
        "import numpy as np\n",
        "import matplotlib\n",
        "import matplotlib.pyplot as plt \n",
        "import seaborn as sns\n",
        "%matplotlib inline\n",
        "sns.set()"
      ],
      "execution_count": 0,
      "outputs": []
    },
    {
      "cell_type": "code",
      "metadata": {
        "id": "VSAgLsuXf6Ba",
        "colab_type": "code",
        "colab": {
          "base_uri": "https://localhost:8080/",
          "height": 69
        },
        "outputId": "23bc55eb-7efa-446c-99c9-e19384414891"
      },
      "source": [
        "d_crime = pd.read_csv(\"/content/gdrive/My Drive/SF dataset/Police_Department_Incident_Reports__Historical_2003_to_May_2018.csv\")\n",
        "d_crime.columns"
      ],
      "execution_count": 16,
      "outputs": [
        {
          "output_type": "execute_result",
          "data": {
            "text/plain": [
              "Index(['IncidntNum', 'Category', 'Descript', 'DayOfWeek', 'Date', 'Time',\n",
              "       'PdDistrict', 'Resolution', 'Address', 'X', 'Y', 'Location', 'PdId'],\n",
              "      dtype='object')"
            ]
          },
          "metadata": {
            "tags": []
          },
          "execution_count": 16
        }
      ]
    },
    {
      "cell_type": "code",
      "metadata": {
        "id": "-vbcSl5nf7dm",
        "colab_type": "code",
        "colab": {}
      },
      "source": [
        "np.random.seed(100)\n",
        "random_d_crime=d_crime.sample(2215024)\n",
        "train_size=int(0.67 *2215024)\n",
        "train_df=random_d_crime[:train_size]\n",
        "test_df=random_d_crime[train_size:]"
      ],
      "execution_count": 0,
      "outputs": []
    },
    {
      "cell_type": "code",
      "metadata": {
        "id": "6dxMgUVZf_LY",
        "colab_type": "code",
        "outputId": "6ddf8059-dffc-47d5-b98e-69b11ff6fd26",
        "colab": {
          "base_uri": "https://localhost:8080/",
          "height": 69
        }
      },
      "source": [
        "train_df.columns"
      ],
      "execution_count": 42,
      "outputs": [
        {
          "output_type": "execute_result",
          "data": {
            "text/plain": [
              "Index(['IncidntNum', 'Category', 'Descript', 'DayOfWeek', 'Date', 'Time',\n",
              "       'PdDistrict', 'Resolution', 'Address', 'X', 'Y', 'Location', 'PdId'],\n",
              "      dtype='object')"
            ]
          },
          "metadata": {
            "tags": []
          },
          "execution_count": 42
        }
      ]
    },
    {
      "cell_type": "code",
      "metadata": {
        "id": "We4kT_HOgBIg",
        "colab_type": "code",
        "outputId": "1ebc9106-58c8-48a0-c142-6d4d1743d583",
        "colab": {
          "base_uri": "https://localhost:8080/",
          "height": 69
        }
      },
      "source": [
        "test_df.columns"
      ],
      "execution_count": 43,
      "outputs": [
        {
          "output_type": "execute_result",
          "data": {
            "text/plain": [
              "Index(['IncidntNum', 'Category', 'Descript', 'DayOfWeek', 'Date', 'Time',\n",
              "       'PdDistrict', 'Resolution', 'Address', 'X', 'Y', 'Location', 'PdId'],\n",
              "      dtype='object')"
            ]
          },
          "metadata": {
            "tags": []
          },
          "execution_count": 43
        }
      ]
    },
    {
      "cell_type": "code",
      "metadata": {
        "id": "VM7T8BEIfi6y",
        "colab_type": "code",
        "colab": {}
      },
      "source": [
        "test_df['Id'] = test_df.index"
      ],
      "execution_count": 0,
      "outputs": []
    },
    {
      "cell_type": "code",
      "metadata": {
        "id": "hqNEIQwZgCle",
        "colab_type": "code",
        "colab": {}
      },
      "source": [
        "train_df=train_df.drop(['IncidntNum', 'PdId', 'Location'], axis=1)"
      ],
      "execution_count": 0,
      "outputs": []
    },
    {
      "cell_type": "code",
      "metadata": {
        "id": "4KaYZNhugJR_",
        "colab_type": "code",
        "outputId": "ae44fc7a-c9ed-4610-9abf-55083c4bb2fa",
        "colab": {
          "base_uri": "https://localhost:8080/",
          "height": 206
        }
      },
      "source": [
        "train_df.sample(5)"
      ],
      "execution_count": 45,
      "outputs": [
        {
          "output_type": "execute_result",
          "data": {
            "text/html": [
              "<div>\n",
              "<style scoped>\n",
              "    .dataframe tbody tr th:only-of-type {\n",
              "        vertical-align: middle;\n",
              "    }\n",
              "\n",
              "    .dataframe tbody tr th {\n",
              "        vertical-align: top;\n",
              "    }\n",
              "\n",
              "    .dataframe thead th {\n",
              "        text-align: right;\n",
              "    }\n",
              "</style>\n",
              "<table border=\"1\" class=\"dataframe\">\n",
              "  <thead>\n",
              "    <tr style=\"text-align: right;\">\n",
              "      <th></th>\n",
              "      <th>Category</th>\n",
              "      <th>Descript</th>\n",
              "      <th>DayOfWeek</th>\n",
              "      <th>Date</th>\n",
              "      <th>Time</th>\n",
              "      <th>PdDistrict</th>\n",
              "      <th>Resolution</th>\n",
              "      <th>Address</th>\n",
              "      <th>X</th>\n",
              "      <th>Y</th>\n",
              "    </tr>\n",
              "  </thead>\n",
              "  <tbody>\n",
              "    <tr>\n",
              "      <th>1987620</th>\n",
              "      <td>SUSPICIOUS OCC</td>\n",
              "      <td>INVESTIGATIVE DETENTION</td>\n",
              "      <td>Friday</td>\n",
              "      <td>01/01/2016</td>\n",
              "      <td>04:20</td>\n",
              "      <td>CENTRAL</td>\n",
              "      <td>ARREST, BOOKED</td>\n",
              "      <td>200 Block of POST ST</td>\n",
              "      <td>-122.406022</td>\n",
              "      <td>37.788649</td>\n",
              "    </tr>\n",
              "    <tr>\n",
              "      <th>892776</th>\n",
              "      <td>OTHER OFFENSES</td>\n",
              "      <td>RESISTING ARREST</td>\n",
              "      <td>Sunday</td>\n",
              "      <td>06/13/2004</td>\n",
              "      <td>11:30</td>\n",
              "      <td>CENTRAL</td>\n",
              "      <td>ARREST, BOOKED</td>\n",
              "      <td>BROADWAY ST / GRANT AV</td>\n",
              "      <td>-122.407018</td>\n",
              "      <td>37.797823</td>\n",
              "    </tr>\n",
              "    <tr>\n",
              "      <th>187188</th>\n",
              "      <td>BURGLARY</td>\n",
              "      <td>BURGLARY, FORCIBLE ENTRY</td>\n",
              "      <td>Saturday</td>\n",
              "      <td>05/09/2015</td>\n",
              "      <td>10:22</td>\n",
              "      <td>CENTRAL</td>\n",
              "      <td>NONE</td>\n",
              "      <td>200 Block of SUTTER ST</td>\n",
              "      <td>-122.404828</td>\n",
              "      <td>37.789760</td>\n",
              "    </tr>\n",
              "    <tr>\n",
              "      <th>24997</th>\n",
              "      <td>OTHER OFFENSES</td>\n",
              "      <td>RESISTING ARREST</td>\n",
              "      <td>Thursday</td>\n",
              "      <td>03/06/2014</td>\n",
              "      <td>09:39</td>\n",
              "      <td>BAYVIEW</td>\n",
              "      <td>ARREST, BOOKED</td>\n",
              "      <td>REVERE AV / GRIFFITH ST</td>\n",
              "      <td>-122.380820</td>\n",
              "      <td>37.726365</td>\n",
              "    </tr>\n",
              "    <tr>\n",
              "      <th>669340</th>\n",
              "      <td>LARCENY/THEFT</td>\n",
              "      <td>GRAND THEFT FROM LOCKED AUTO</td>\n",
              "      <td>Friday</td>\n",
              "      <td>08/17/2007</td>\n",
              "      <td>14:45</td>\n",
              "      <td>SOUTHERN</td>\n",
              "      <td>NONE</td>\n",
              "      <td>0 Block of BEALE ST</td>\n",
              "      <td>-122.396648</td>\n",
              "      <td>37.791740</td>\n",
              "    </tr>\n",
              "  </tbody>\n",
              "</table>\n",
              "</div>"
            ],
            "text/plain": [
              "               Category                      Descript  ...           X          Y\n",
              "1987620  SUSPICIOUS OCC       INVESTIGATIVE DETENTION  ... -122.406022  37.788649\n",
              "892776   OTHER OFFENSES              RESISTING ARREST  ... -122.407018  37.797823\n",
              "187188         BURGLARY      BURGLARY, FORCIBLE ENTRY  ... -122.404828  37.789760\n",
              "24997    OTHER OFFENSES              RESISTING ARREST  ... -122.380820  37.726365\n",
              "669340    LARCENY/THEFT  GRAND THEFT FROM LOCKED AUTO  ... -122.396648  37.791740\n",
              "\n",
              "[5 rows x 10 columns]"
            ]
          },
          "metadata": {
            "tags": []
          },
          "execution_count": 45
        }
      ]
    },
    {
      "cell_type": "code",
      "metadata": {
        "id": "tI-sVzbegMqw",
        "colab_type": "code",
        "colab": {}
      },
      "source": [
        "test_df=test_df.drop(['IncidntNum', 'PdId', 'Location'], axis=1)"
      ],
      "execution_count": 0,
      "outputs": []
    },
    {
      "cell_type": "code",
      "metadata": {
        "id": "xJQ-qYrAhbUs",
        "colab_type": "code",
        "outputId": "990b4051-5c44-4309-80b4-6adc932d82b7",
        "colab": {
          "base_uri": "https://localhost:8080/",
          "height": 293
        }
      },
      "source": [
        "test_df.sample(5)"
      ],
      "execution_count": 47,
      "outputs": [
        {
          "output_type": "execute_result",
          "data": {
            "text/html": [
              "<div>\n",
              "<style scoped>\n",
              "    .dataframe tbody tr th:only-of-type {\n",
              "        vertical-align: middle;\n",
              "    }\n",
              "\n",
              "    .dataframe tbody tr th {\n",
              "        vertical-align: top;\n",
              "    }\n",
              "\n",
              "    .dataframe thead th {\n",
              "        text-align: right;\n",
              "    }\n",
              "</style>\n",
              "<table border=\"1\" class=\"dataframe\">\n",
              "  <thead>\n",
              "    <tr style=\"text-align: right;\">\n",
              "      <th></th>\n",
              "      <th>Category</th>\n",
              "      <th>Descript</th>\n",
              "      <th>DayOfWeek</th>\n",
              "      <th>Date</th>\n",
              "      <th>Time</th>\n",
              "      <th>PdDistrict</th>\n",
              "      <th>Resolution</th>\n",
              "      <th>Address</th>\n",
              "      <th>X</th>\n",
              "      <th>Y</th>\n",
              "    </tr>\n",
              "  </thead>\n",
              "  <tbody>\n",
              "    <tr>\n",
              "      <th>94105</th>\n",
              "      <td>OTHER OFFENSES</td>\n",
              "      <td>TRAFFIC VIOLATION</td>\n",
              "      <td>Sunday</td>\n",
              "      <td>05/18/2014</td>\n",
              "      <td>13:48</td>\n",
              "      <td>MISSION</td>\n",
              "      <td>ARREST, CITED</td>\n",
              "      <td>1000 Block of POTRERO AV</td>\n",
              "      <td>-122.406681</td>\n",
              "      <td>37.755343</td>\n",
              "    </tr>\n",
              "    <tr>\n",
              "      <th>1512870</th>\n",
              "      <td>DRUG/NARCOTIC</td>\n",
              "      <td>POSSESSION OF MARIJUANA</td>\n",
              "      <td>Tuesday</td>\n",
              "      <td>05/03/2005</td>\n",
              "      <td>14:20</td>\n",
              "      <td>PARK</td>\n",
              "      <td>ARREST, BOOKED</td>\n",
              "      <td>ASHBURY ST / FELL ST</td>\n",
              "      <td>-122.447498</td>\n",
              "      <td>37.772791</td>\n",
              "    </tr>\n",
              "    <tr>\n",
              "      <th>497923</th>\n",
              "      <td>OTHER OFFENSES</td>\n",
              "      <td>PROBATION VIOLATION</td>\n",
              "      <td>Monday</td>\n",
              "      <td>02/16/2004</td>\n",
              "      <td>12:52</td>\n",
              "      <td>BAYVIEW</td>\n",
              "      <td>ARREST, BOOKED</td>\n",
              "      <td>1500 Block of MC KINNON AV</td>\n",
              "      <td>-122.388278</td>\n",
              "      <td>37.735395</td>\n",
              "    </tr>\n",
              "    <tr>\n",
              "      <th>188903</th>\n",
              "      <td>BURGLARY</td>\n",
              "      <td>BURGLARY,STORE UNDER CONSTRUCTION, FORCIBLE ENTRY</td>\n",
              "      <td>Friday</td>\n",
              "      <td>05/15/2015</td>\n",
              "      <td>23:00</td>\n",
              "      <td>INGLESIDE</td>\n",
              "      <td>NONE</td>\n",
              "      <td>1600 Block of CHURCH ST</td>\n",
              "      <td>-122.426639</td>\n",
              "      <td>37.744103</td>\n",
              "    </tr>\n",
              "    <tr>\n",
              "      <th>1451444</th>\n",
              "      <td>BURGLARY</td>\n",
              "      <td>BURGLARY OF APARTMENT HOUSE, UNLAWFUL ENTRY</td>\n",
              "      <td>Friday</td>\n",
              "      <td>02/06/2009</td>\n",
              "      <td>14:17</td>\n",
              "      <td>PARK</td>\n",
              "      <td>ARREST, BOOKED</td>\n",
              "      <td>1600 Block of GOLDEN GATE AV</td>\n",
              "      <td>-122.437307</td>\n",
              "      <td>37.778939</td>\n",
              "    </tr>\n",
              "  </tbody>\n",
              "</table>\n",
              "</div>"
            ],
            "text/plain": [
              "               Category  ...          Y\n",
              "94105    OTHER OFFENSES  ...  37.755343\n",
              "1512870   DRUG/NARCOTIC  ...  37.772791\n",
              "497923   OTHER OFFENSES  ...  37.735395\n",
              "188903         BURGLARY  ...  37.744103\n",
              "1451444        BURGLARY  ...  37.778939\n",
              "\n",
              "[5 rows x 10 columns]"
            ]
          },
          "metadata": {
            "tags": []
          },
          "execution_count": 47
        }
      ]
    },
    {
      "cell_type": "code",
      "metadata": {
        "id": "lLAi6i9HRCoO",
        "colab_type": "code",
        "colab": {
          "base_uri": "https://localhost:8080/",
          "height": 69
        },
        "outputId": "b3e50c6f-45b4-40df-d9da-47cd6f24ad80"
      },
      "source": [
        "train_df.columns"
      ],
      "execution_count": 48,
      "outputs": [
        {
          "output_type": "execute_result",
          "data": {
            "text/plain": [
              "Index(['Category', 'Descript', 'DayOfWeek', 'Date', 'Time', 'PdDistrict',\n",
              "       'Resolution', 'Address', 'X', 'Y'],\n",
              "      dtype='object')"
            ]
          },
          "metadata": {
            "tags": []
          },
          "execution_count": 48
        }
      ]
    },
    {
      "cell_type": "markdown",
      "metadata": {
        "id": "-gIrWbWi0vRP",
        "colab_type": "text"
      },
      "source": [
        "**Convert 'Date' and 'Time' columns to 'DateTime' columns to identify crimes across different times of the day**"
      ]
    },
    {
      "cell_type": "code",
      "metadata": {
        "id": "smXnYNivTr0L",
        "colab_type": "code",
        "colab": {}
      },
      "source": [
        "train_df['DateTime'] = train_df.Date + \" \" + train_df.Time\n",
        "train_df['DateTime'] = pd.to_datetime(train_df['DateTime'], format='%m/%d/%Y %H:%M')\n",
        "\n",
        "test_df['DateTime'] = test_df.Date + \" \" + test_df.Time\n",
        "test_df['DateTime'] = pd.to_datetime(test_df['DateTime'], format='%m/%d/%Y %H:%M')"
      ],
      "execution_count": 0,
      "outputs": []
    },
    {
      "cell_type": "code",
      "metadata": {
        "id": "1ODXP_OtzOYk",
        "colab_type": "code",
        "colab": {}
      },
      "source": [
        "train_df = train_df.drop(['Date', 'Time'], axis=1)\n",
        "test_df = test_df.drop(['Date', 'Time'], axis=1)"
      ],
      "execution_count": 0,
      "outputs": []
    },
    {
      "cell_type": "markdown",
      "metadata": {
        "id": "YpXoyTUG1cVd",
        "colab_type": "text"
      },
      "source": [
        "Develop a feature **'IsDay'** to identify whether the crime was committed during day or night"
      ]
    },
    {
      "cell_type": "code",
      "metadata": {
        "id": "1FcdojCs0pZ6",
        "colab_type": "code",
        "colab": {
          "base_uri": "https://localhost:8080/",
          "height": 196
        },
        "outputId": "83857eb0-dd0f-49d6-d8a9-237405be72d9"
      },
      "source": [
        "train_df['IsDay'] = 0\n",
        "train_df.loc[ (train_df.DateTime.dt.hour > 6) & (train_df.DateTime.dt.hour < 20), 'IsDay' ] = 1\n",
        "test_df['IsDay'] = 0\n",
        "test_df.loc[ (test_df.DateTime.dt.hour > 6) & (test_df.DateTime.dt.hour < 20), 'IsDay' ] = 1\n",
        "\n",
        "train_df.sample(3)"
      ],
      "execution_count": 58,
      "outputs": [
        {
          "output_type": "execute_result",
          "data": {
            "text/html": [
              "<div>\n",
              "<style scoped>\n",
              "    .dataframe tbody tr th:only-of-type {\n",
              "        vertical-align: middle;\n",
              "    }\n",
              "\n",
              "    .dataframe tbody tr th {\n",
              "        vertical-align: top;\n",
              "    }\n",
              "\n",
              "    .dataframe thead th {\n",
              "        text-align: right;\n",
              "    }\n",
              "</style>\n",
              "<table border=\"1\" class=\"dataframe\">\n",
              "  <thead>\n",
              "    <tr style=\"text-align: right;\">\n",
              "      <th></th>\n",
              "      <th>Category</th>\n",
              "      <th>Descript</th>\n",
              "      <th>DayOfWeek</th>\n",
              "      <th>PdDistrict</th>\n",
              "      <th>Resolution</th>\n",
              "      <th>Address</th>\n",
              "      <th>X</th>\n",
              "      <th>Y</th>\n",
              "      <th>DateTime</th>\n",
              "      <th>IsDay</th>\n",
              "    </tr>\n",
              "  </thead>\n",
              "  <tbody>\n",
              "    <tr>\n",
              "      <th>1436649</th>\n",
              "      <td>WARRANTS</td>\n",
              "      <td>ENROUTE TO DEPARTMENT OF CORRECTIONS</td>\n",
              "      <td>Wednesday</td>\n",
              "      <td>NORTHERN</td>\n",
              "      <td>ARREST, BOOKED</td>\n",
              "      <td>1400 Block of POLK ST</td>\n",
              "      <td>-122.420661</td>\n",
              "      <td>37.790100</td>\n",
              "      <td>2006-08-09 17:14:00</td>\n",
              "      <td>1</td>\n",
              "    </tr>\n",
              "    <tr>\n",
              "      <th>1508667</th>\n",
              "      <td>WARRANTS</td>\n",
              "      <td>WARRANT ARREST</td>\n",
              "      <td>Saturday</td>\n",
              "      <td>TARAVAL</td>\n",
              "      <td>ARREST, BOOKED</td>\n",
              "      <td>JUDAH ST / LA PLAYA ST</td>\n",
              "      <td>-122.509139</td>\n",
              "      <td>37.760279</td>\n",
              "      <td>2004-12-04 10:05:00</td>\n",
              "      <td>1</td>\n",
              "    </tr>\n",
              "    <tr>\n",
              "      <th>1976663</th>\n",
              "      <td>ASSAULT</td>\n",
              "      <td>BATTERY WITH SERIOUS INJURIES</td>\n",
              "      <td>Friday</td>\n",
              "      <td>SOUTHERN</td>\n",
              "      <td>NONE</td>\n",
              "      <td>5TH ST / HOWARD ST</td>\n",
              "      <td>-122.404934</td>\n",
              "      <td>37.781499</td>\n",
              "      <td>2017-01-20 02:00:00</td>\n",
              "      <td>0</td>\n",
              "    </tr>\n",
              "  </tbody>\n",
              "</table>\n",
              "</div>"
            ],
            "text/plain": [
              "         Category  ... IsDay\n",
              "1436649  WARRANTS  ...     1\n",
              "1508667  WARRANTS  ...     1\n",
              "1976663   ASSAULT  ...     0\n",
              "\n",
              "[3 rows x 10 columns]"
            ]
          },
          "metadata": {
            "tags": []
          },
          "execution_count": 58
        }
      ]
    },
    {
      "cell_type": "markdown",
      "metadata": {
        "id": "PvYcBXBVSTBA",
        "colab_type": "text"
      },
      "source": [
        "\n",
        "Create **'Month'**, **'Year'** and **'DayOfWeekInt'** columns"
      ]
    },
    {
      "cell_type": "markdown",
      "metadata": {
        "id": "OKYa1Ay9SYiT",
        "colab_type": "text"
      },
      "source": [
        "\n",
        "Map 'DayOfWeek' to Integer"
      ]
    },
    {
      "cell_type": "code",
      "metadata": {
        "id": "rMf3Yfeg1X3J",
        "colab_type": "code",
        "colab": {
          "base_uri": "https://localhost:8080/",
          "height": 34
        },
        "outputId": "7afa4c2d-e7b6-4657-9a67-8c407fb68a34"
      },
      "source": [
        "days_to_int_dic = {\n",
        "        'Monday': 1,\n",
        "        'Tuesday': 2,\n",
        "        'Wednesday': 3,\n",
        "        'Thursday': 4,\n",
        "        'Friday': 5,\n",
        "        'Saturday': 6,\n",
        "        'Sunday': 7,\n",
        "}\n",
        "train_df['DayOfWeek'] = train_df['DayOfWeek'].map(days_to_int_dic)\n",
        "test_df ['DayOfWeek'] = test_df ['DayOfWeek'].map(days_to_int_dic)\n",
        "\n",
        "train_df.DayOfWeek.unique()"
      ],
      "execution_count": 59,
      "outputs": [
        {
          "output_type": "execute_result",
          "data": {
            "text/plain": [
              "array([5, 6, 7, 3, 1, 2, 4])"
            ]
          },
          "metadata": {
            "tags": []
          },
          "execution_count": 59
        }
      ]
    },
    {
      "cell_type": "markdown",
      "metadata": {
        "id": "2FM0q2MZSir5",
        "colab_type": "text"
      },
      "source": [
        "Create Hour, Month and Year Columns"
      ]
    },
    {
      "cell_type": "code",
      "metadata": {
        "id": "l6IF-P1WSde5",
        "colab_type": "code",
        "colab": {
          "base_uri": "https://localhost:8080/",
          "height": 98
        },
        "outputId": "47660231-ab6c-49f0-eb22-8cb0d109a2b8"
      },
      "source": [
        "train_df['Hour'] = train_df.DateTime.dt.hour\n",
        "train_df['Month'] = train_df.DateTime.dt.month\n",
        "train_df['Year'] = train_df.DateTime.dt.year\n",
        "train_df['Year'] = train_df['Year'] - 2000 # The Algorithm doesn't know the difference\n",
        "\n",
        "test_df['Hour'] = test_df.DateTime.dt.hour\n",
        "test_df['Month'] = test_df.DateTime.dt.month\n",
        "test_df['Year'] = test_df.DateTime.dt.year\n",
        "test_df['Year'] = test_df['Year'] - 2000 # The Algorithm doesn't know the difference\n",
        "\n",
        "train_df.sample(1)"
      ],
      "execution_count": 61,
      "outputs": [
        {
          "output_type": "execute_result",
          "data": {
            "text/html": [
              "<div>\n",
              "<style scoped>\n",
              "    .dataframe tbody tr th:only-of-type {\n",
              "        vertical-align: middle;\n",
              "    }\n",
              "\n",
              "    .dataframe tbody tr th {\n",
              "        vertical-align: top;\n",
              "    }\n",
              "\n",
              "    .dataframe thead th {\n",
              "        text-align: right;\n",
              "    }\n",
              "</style>\n",
              "<table border=\"1\" class=\"dataframe\">\n",
              "  <thead>\n",
              "    <tr style=\"text-align: right;\">\n",
              "      <th></th>\n",
              "      <th>Category</th>\n",
              "      <th>Descript</th>\n",
              "      <th>DayOfWeek</th>\n",
              "      <th>PdDistrict</th>\n",
              "      <th>Resolution</th>\n",
              "      <th>Address</th>\n",
              "      <th>X</th>\n",
              "      <th>Y</th>\n",
              "      <th>DateTime</th>\n",
              "      <th>IsDay</th>\n",
              "      <th>Hour</th>\n",
              "      <th>Month</th>\n",
              "      <th>Year</th>\n",
              "    </tr>\n",
              "  </thead>\n",
              "  <tbody>\n",
              "    <tr>\n",
              "      <th>714500</th>\n",
              "      <td>OTHER OFFENSES</td>\n",
              "      <td>PAROLE VIOLATION</td>\n",
              "      <td>5</td>\n",
              "      <td>PARK</td>\n",
              "      <td>ARREST, BOOKED</td>\n",
              "      <td>100 Block of JOHNFKENNEDY DR</td>\n",
              "      <td>-122.457508</td>\n",
              "      <td>37.771133</td>\n",
              "      <td>2012-06-29 17:53:00</td>\n",
              "      <td>1</td>\n",
              "      <td>17</td>\n",
              "      <td>6</td>\n",
              "      <td>12</td>\n",
              "    </tr>\n",
              "  </tbody>\n",
              "</table>\n",
              "</div>"
            ],
            "text/plain": [
              "              Category          Descript  DayOfWeek  ... Hour Month Year\n",
              "714500  OTHER OFFENSES  PAROLE VIOLATION          5  ...   17     6   12\n",
              "\n",
              "[1 rows x 13 columns]"
            ]
          },
          "metadata": {
            "tags": []
          },
          "execution_count": 61
        }
      ]
    },
    {
      "cell_type": "markdown",
      "metadata": {
        "id": "-cxNRY9bSztw",
        "colab_type": "text"
      },
      "source": [
        "\n",
        "Deal with the cyclic characteristic of Months and Days of Week"
      ]
    },
    {
      "cell_type": "code",
      "metadata": {
        "id": "0OD65Yr8SjaZ",
        "colab_type": "code",
        "colab": {
          "base_uri": "https://localhost:8080/",
          "height": 153
        },
        "outputId": "ae3ef518-454e-4074-aa73-c65e2ab33230"
      },
      "source": [
        "train_df['HourCos'] = np.cos((train_df['Hour']*2*np.pi)/24 )\n",
        "train_df['DayOfWeekCos'] = np.cos((train_df['DayOfWeek']*2*np.pi)/7 )\n",
        "train_df['MonthCos'] = np.cos((train_df['Month']*2*np.pi)/12 )\n",
        "\n",
        "test_df['HourCos'] = np.cos((test_df['Hour']*2*np.pi)/24 )\n",
        "test_df['DayOfWeekCos'] = np.cos((test_df['DayOfWeek']*2*np.pi)/7 )\n",
        "test_df['MonthCos'] = np.cos((test_df['Month']*2*np.pi)/12 )\n",
        "\n",
        "train_df.sample(1)"
      ],
      "execution_count": 62,
      "outputs": [
        {
          "output_type": "execute_result",
          "data": {
            "text/html": [
              "<div>\n",
              "<style scoped>\n",
              "    .dataframe tbody tr th:only-of-type {\n",
              "        vertical-align: middle;\n",
              "    }\n",
              "\n",
              "    .dataframe tbody tr th {\n",
              "        vertical-align: top;\n",
              "    }\n",
              "\n",
              "    .dataframe thead th {\n",
              "        text-align: right;\n",
              "    }\n",
              "</style>\n",
              "<table border=\"1\" class=\"dataframe\">\n",
              "  <thead>\n",
              "    <tr style=\"text-align: right;\">\n",
              "      <th></th>\n",
              "      <th>Category</th>\n",
              "      <th>Descript</th>\n",
              "      <th>DayOfWeek</th>\n",
              "      <th>PdDistrict</th>\n",
              "      <th>Resolution</th>\n",
              "      <th>Address</th>\n",
              "      <th>X</th>\n",
              "      <th>Y</th>\n",
              "      <th>DateTime</th>\n",
              "      <th>IsDay</th>\n",
              "      <th>Hour</th>\n",
              "      <th>Month</th>\n",
              "      <th>Year</th>\n",
              "      <th>HourCos</th>\n",
              "      <th>DayOfWeekCos</th>\n",
              "      <th>MonthCos</th>\n",
              "    </tr>\n",
              "  </thead>\n",
              "  <tbody>\n",
              "    <tr>\n",
              "      <th>751684</th>\n",
              "      <td>DRUG/NARCOTIC</td>\n",
              "      <td>POSSESSION OF NARCOTICS PARAPHERNALIA</td>\n",
              "      <td>5</td>\n",
              "      <td>TENDERLOIN</td>\n",
              "      <td>ARREST, BOOKED</td>\n",
              "      <td>400 Block of JONES ST</td>\n",
              "      <td>-122.412857</td>\n",
              "      <td>37.78558</td>\n",
              "      <td>2003-10-03 23:29:00</td>\n",
              "      <td>0</td>\n",
              "      <td>23</td>\n",
              "      <td>10</td>\n",
              "      <td>3</td>\n",
              "      <td>0.965926</td>\n",
              "      <td>-0.222521</td>\n",
              "      <td>0.5</td>\n",
              "    </tr>\n",
              "  </tbody>\n",
              "</table>\n",
              "</div>"
            ],
            "text/plain": [
              "             Category  ... MonthCos\n",
              "751684  DRUG/NARCOTIC  ...      0.5\n",
              "\n",
              "[1 rows x 16 columns]"
            ]
          },
          "metadata": {
            "tags": []
          },
          "execution_count": 62
        }
      ]
    },
    {
      "cell_type": "markdown",
      "metadata": {
        "id": "AvRISMS8S8CH",
        "colab_type": "text"
      },
      "source": [
        "\n",
        "Dummy Encoding of 'PdDistrict'"
      ]
    },
    {
      "cell_type": "code",
      "metadata": {
        "id": "GqKXAmt1S_9b",
        "colab_type": "code",
        "colab": {
          "base_uri": "https://localhost:8080/",
          "height": 219
        },
        "outputId": "70566482-f3a0-40a9-8314-9701d701bc2e"
      },
      "source": [
        "train_df = pd.get_dummies(train_df, columns=['PdDistrict'])\n",
        "test_df  = pd.get_dummies(test_df,  columns=['PdDistrict'])\n",
        "train_df.sample(2)"
      ],
      "execution_count": 63,
      "outputs": [
        {
          "output_type": "execute_result",
          "data": {
            "text/html": [
              "<div>\n",
              "<style scoped>\n",
              "    .dataframe tbody tr th:only-of-type {\n",
              "        vertical-align: middle;\n",
              "    }\n",
              "\n",
              "    .dataframe tbody tr th {\n",
              "        vertical-align: top;\n",
              "    }\n",
              "\n",
              "    .dataframe thead th {\n",
              "        text-align: right;\n",
              "    }\n",
              "</style>\n",
              "<table border=\"1\" class=\"dataframe\">\n",
              "  <thead>\n",
              "    <tr style=\"text-align: right;\">\n",
              "      <th></th>\n",
              "      <th>Category</th>\n",
              "      <th>Descript</th>\n",
              "      <th>DayOfWeek</th>\n",
              "      <th>Resolution</th>\n",
              "      <th>Address</th>\n",
              "      <th>X</th>\n",
              "      <th>Y</th>\n",
              "      <th>DateTime</th>\n",
              "      <th>IsDay</th>\n",
              "      <th>Hour</th>\n",
              "      <th>Month</th>\n",
              "      <th>Year</th>\n",
              "      <th>HourCos</th>\n",
              "      <th>DayOfWeekCos</th>\n",
              "      <th>MonthCos</th>\n",
              "      <th>PdDistrict_BAYVIEW</th>\n",
              "      <th>PdDistrict_CENTRAL</th>\n",
              "      <th>PdDistrict_INGLESIDE</th>\n",
              "      <th>PdDistrict_MISSION</th>\n",
              "      <th>PdDistrict_NORTHERN</th>\n",
              "      <th>PdDistrict_PARK</th>\n",
              "      <th>PdDistrict_RICHMOND</th>\n",
              "      <th>PdDistrict_SOUTHERN</th>\n",
              "      <th>PdDistrict_TARAVAL</th>\n",
              "      <th>PdDistrict_TENDERLOIN</th>\n",
              "    </tr>\n",
              "  </thead>\n",
              "  <tbody>\n",
              "    <tr>\n",
              "      <th>1766593</th>\n",
              "      <td>FORGERY/COUNTERFEITING</td>\n",
              "      <td>CHECKS, MAKE OR PASS FICTITIOUS</td>\n",
              "      <td>5</td>\n",
              "      <td>NONE</td>\n",
              "      <td>SILVER AV / REVERE AV</td>\n",
              "      <td>-122.398556</td>\n",
              "      <td>37.736434</td>\n",
              "      <td>2006-05-05 06:40:00</td>\n",
              "      <td>0</td>\n",
              "      <td>6</td>\n",
              "      <td>5</td>\n",
              "      <td>6</td>\n",
              "      <td>6.123234e-17</td>\n",
              "      <td>-0.222521</td>\n",
              "      <td>-0.866025</td>\n",
              "      <td>1</td>\n",
              "      <td>0</td>\n",
              "      <td>0</td>\n",
              "      <td>0</td>\n",
              "      <td>0</td>\n",
              "      <td>0</td>\n",
              "      <td>0</td>\n",
              "      <td>0</td>\n",
              "      <td>0</td>\n",
              "      <td>0</td>\n",
              "    </tr>\n",
              "    <tr>\n",
              "      <th>1796478</th>\n",
              "      <td>SUSPICIOUS OCC</td>\n",
              "      <td>SUSPICIOUS PERSON</td>\n",
              "      <td>3</td>\n",
              "      <td>NONE</td>\n",
              "      <td>0 Block of SOUTHPARK AV</td>\n",
              "      <td>-122.393093</td>\n",
              "      <td>37.782336</td>\n",
              "      <td>2006-01-04 18:10:00</td>\n",
              "      <td>1</td>\n",
              "      <td>18</td>\n",
              "      <td>1</td>\n",
              "      <td>6</td>\n",
              "      <td>-1.836970e-16</td>\n",
              "      <td>-0.900969</td>\n",
              "      <td>0.866025</td>\n",
              "      <td>0</td>\n",
              "      <td>0</td>\n",
              "      <td>0</td>\n",
              "      <td>0</td>\n",
              "      <td>0</td>\n",
              "      <td>0</td>\n",
              "      <td>0</td>\n",
              "      <td>1</td>\n",
              "      <td>0</td>\n",
              "      <td>0</td>\n",
              "    </tr>\n",
              "  </tbody>\n",
              "</table>\n",
              "</div>"
            ],
            "text/plain": [
              "                       Category  ... PdDistrict_TENDERLOIN\n",
              "1766593  FORGERY/COUNTERFEITING  ...                     0\n",
              "1796478          SUSPICIOUS OCC  ...                     0\n",
              "\n",
              "[2 rows x 25 columns]"
            ]
          },
          "metadata": {
            "tags": []
          },
          "execution_count": 63
        }
      ]
    },
    {
      "cell_type": "markdown",
      "metadata": {
        "id": "rEEZ7AZbTJkI",
        "colab_type": "text"
      },
      "source": [
        "Label Encoding of **'Category'**"
      ]
    },
    {
      "cell_type": "code",
      "metadata": {
        "id": "On-ydvTCTLUP",
        "colab_type": "code",
        "colab": {
          "base_uri": "https://localhost:8080/",
          "height": 435
        },
        "outputId": "9f7d3e3c-0cbe-4e0f-ecae-add32825ea5a"
      },
      "source": [
        "from sklearn.preprocessing import LabelEncoder\n",
        "\n",
        "cat_le = LabelEncoder()\n",
        "train_df['CategoryInt'] = pd.Series(cat_le.fit_transform(train_df.Category))\n",
        "train_df.sample(5)"
      ],
      "execution_count": 64,
      "outputs": [
        {
          "output_type": "execute_result",
          "data": {
            "text/html": [
              "<div>\n",
              "<style scoped>\n",
              "    .dataframe tbody tr th:only-of-type {\n",
              "        vertical-align: middle;\n",
              "    }\n",
              "\n",
              "    .dataframe tbody tr th {\n",
              "        vertical-align: top;\n",
              "    }\n",
              "\n",
              "    .dataframe thead th {\n",
              "        text-align: right;\n",
              "    }\n",
              "</style>\n",
              "<table border=\"1\" class=\"dataframe\">\n",
              "  <thead>\n",
              "    <tr style=\"text-align: right;\">\n",
              "      <th></th>\n",
              "      <th>Category</th>\n",
              "      <th>Descript</th>\n",
              "      <th>DayOfWeek</th>\n",
              "      <th>Resolution</th>\n",
              "      <th>Address</th>\n",
              "      <th>X</th>\n",
              "      <th>Y</th>\n",
              "      <th>DateTime</th>\n",
              "      <th>IsDay</th>\n",
              "      <th>Hour</th>\n",
              "      <th>Month</th>\n",
              "      <th>Year</th>\n",
              "      <th>HourCos</th>\n",
              "      <th>DayOfWeekCos</th>\n",
              "      <th>MonthCos</th>\n",
              "      <th>PdDistrict_BAYVIEW</th>\n",
              "      <th>PdDistrict_CENTRAL</th>\n",
              "      <th>PdDistrict_INGLESIDE</th>\n",
              "      <th>PdDistrict_MISSION</th>\n",
              "      <th>PdDistrict_NORTHERN</th>\n",
              "      <th>PdDistrict_PARK</th>\n",
              "      <th>PdDistrict_RICHMOND</th>\n",
              "      <th>PdDistrict_SOUTHERN</th>\n",
              "      <th>PdDistrict_TARAVAL</th>\n",
              "      <th>PdDistrict_TENDERLOIN</th>\n",
              "      <th>CategoryInt</th>\n",
              "    </tr>\n",
              "  </thead>\n",
              "  <tbody>\n",
              "    <tr>\n",
              "      <th>1638162</th>\n",
              "      <td>NON-CRIMINAL</td>\n",
              "      <td>AIDED CASE, MENTAL DISTURBED</td>\n",
              "      <td>6</td>\n",
              "      <td>PSYCHOPATHIC CASE</td>\n",
              "      <td>800 Block of DUBOCE AV</td>\n",
              "      <td>-122.437112</td>\n",
              "      <td>37.769018</td>\n",
              "      <td>2012-09-29 01:10:00</td>\n",
              "      <td>0</td>\n",
              "      <td>1</td>\n",
              "      <td>9</td>\n",
              "      <td>12</td>\n",
              "      <td>0.965926</td>\n",
              "      <td>0.623490</td>\n",
              "      <td>-1.836970e-16</td>\n",
              "      <td>0</td>\n",
              "      <td>0</td>\n",
              "      <td>0</td>\n",
              "      <td>0</td>\n",
              "      <td>0</td>\n",
              "      <td>1</td>\n",
              "      <td>0</td>\n",
              "      <td>0</td>\n",
              "      <td>0</td>\n",
              "      <td>0</td>\n",
              "      <td>NaN</td>\n",
              "    </tr>\n",
              "    <tr>\n",
              "      <th>1911474</th>\n",
              "      <td>VANDALISM</td>\n",
              "      <td>MALICIOUS MISCHIEF, VANDALISM</td>\n",
              "      <td>7</td>\n",
              "      <td>NONE</td>\n",
              "      <td>3600 Block of SACRAMENTO ST</td>\n",
              "      <td>-122.452774</td>\n",
              "      <td>37.787392</td>\n",
              "      <td>2017-09-10 20:00:00</td>\n",
              "      <td>0</td>\n",
              "      <td>20</td>\n",
              "      <td>9</td>\n",
              "      <td>17</td>\n",
              "      <td>0.500000</td>\n",
              "      <td>1.000000</td>\n",
              "      <td>-1.836970e-16</td>\n",
              "      <td>0</td>\n",
              "      <td>0</td>\n",
              "      <td>0</td>\n",
              "      <td>0</td>\n",
              "      <td>0</td>\n",
              "      <td>0</td>\n",
              "      <td>1</td>\n",
              "      <td>0</td>\n",
              "      <td>0</td>\n",
              "      <td>0</td>\n",
              "      <td>NaN</td>\n",
              "    </tr>\n",
              "    <tr>\n",
              "      <th>256130</th>\n",
              "      <td>DRUG/NARCOTIC</td>\n",
              "      <td>POSSESSION OF BASE/ROCK COCAINE</td>\n",
              "      <td>2</td>\n",
              "      <td>NONE</td>\n",
              "      <td>OFARRELL ST / HYDE ST</td>\n",
              "      <td>-122.416262</td>\n",
              "      <td>37.785375</td>\n",
              "      <td>2010-03-30 22:50:00</td>\n",
              "      <td>0</td>\n",
              "      <td>22</td>\n",
              "      <td>3</td>\n",
              "      <td>10</td>\n",
              "      <td>0.866025</td>\n",
              "      <td>-0.222521</td>\n",
              "      <td>6.123234e-17</td>\n",
              "      <td>0</td>\n",
              "      <td>0</td>\n",
              "      <td>0</td>\n",
              "      <td>0</td>\n",
              "      <td>0</td>\n",
              "      <td>0</td>\n",
              "      <td>0</td>\n",
              "      <td>0</td>\n",
              "      <td>0</td>\n",
              "      <td>1</td>\n",
              "      <td>16.0</td>\n",
              "    </tr>\n",
              "    <tr>\n",
              "      <th>1491366</th>\n",
              "      <td>BURGLARY</td>\n",
              "      <td>BURGLARY,STORE UNDER CONSTRUCTION, UNLAWFUL ENTRY</td>\n",
              "      <td>3</td>\n",
              "      <td>NONE</td>\n",
              "      <td>500 Block of SUTTER ST</td>\n",
              "      <td>-122.409424</td>\n",
              "      <td>37.789065</td>\n",
              "      <td>2004-12-08 01:45:00</td>\n",
              "      <td>0</td>\n",
              "      <td>1</td>\n",
              "      <td>12</td>\n",
              "      <td>4</td>\n",
              "      <td>0.965926</td>\n",
              "      <td>-0.900969</td>\n",
              "      <td>1.000000e+00</td>\n",
              "      <td>0</td>\n",
              "      <td>1</td>\n",
              "      <td>0</td>\n",
              "      <td>0</td>\n",
              "      <td>0</td>\n",
              "      <td>0</td>\n",
              "      <td>0</td>\n",
              "      <td>0</td>\n",
              "      <td>0</td>\n",
              "      <td>0</td>\n",
              "      <td>NaN</td>\n",
              "    </tr>\n",
              "    <tr>\n",
              "      <th>2010495</th>\n",
              "      <td>LARCENY/THEFT</td>\n",
              "      <td>GRAND THEFT FROM LOCKED AUTO</td>\n",
              "      <td>7</td>\n",
              "      <td>NONE</td>\n",
              "      <td>700 Block of GREAT HY</td>\n",
              "      <td>-122.511079</td>\n",
              "      <td>37.773992</td>\n",
              "      <td>2016-04-24 14:30:00</td>\n",
              "      <td>1</td>\n",
              "      <td>14</td>\n",
              "      <td>4</td>\n",
              "      <td>16</td>\n",
              "      <td>-0.866025</td>\n",
              "      <td>1.000000</td>\n",
              "      <td>-5.000000e-01</td>\n",
              "      <td>0</td>\n",
              "      <td>0</td>\n",
              "      <td>0</td>\n",
              "      <td>0</td>\n",
              "      <td>0</td>\n",
              "      <td>0</td>\n",
              "      <td>1</td>\n",
              "      <td>0</td>\n",
              "      <td>0</td>\n",
              "      <td>0</td>\n",
              "      <td>NaN</td>\n",
              "    </tr>\n",
              "  </tbody>\n",
              "</table>\n",
              "</div>"
            ],
            "text/plain": [
              "              Category  ... CategoryInt\n",
              "1638162   NON-CRIMINAL  ...         NaN\n",
              "1911474      VANDALISM  ...         NaN\n",
              "256130   DRUG/NARCOTIC  ...        16.0\n",
              "1491366       BURGLARY  ...         NaN\n",
              "2010495  LARCENY/THEFT  ...         NaN\n",
              "\n",
              "[5 rows x 26 columns]"
            ]
          },
          "metadata": {
            "tags": []
          },
          "execution_count": 64
        }
      ]
    },
    {
      "cell_type": "code",
      "metadata": {
        "id": "V_scCUlPTPTC",
        "colab_type": "code",
        "colab": {}
      },
      "source": [
        "train_df['InIntersection'] = 1\n",
        "train_df.loc[train_df.Address.str.contains('Block'), 'InIntersection'] = 0\n",
        "\n",
        "test_df['InIntersection'] = 1\n",
        "test_df.loc[test_df.Address.str.contains('Block'), 'InIntersection'] = 0"
      ],
      "execution_count": 0,
      "outputs": []
    },
    {
      "cell_type": "code",
      "metadata": {
        "id": "GsFgshPzXeiG",
        "colab_type": "code",
        "colab": {
          "base_uri": "https://localhost:8080/",
          "height": 852
        },
        "outputId": "d577fd7c-6808-46b0-a9ec-9d14a2c12c11"
      },
      "source": [
        "train_df.sample(10)"
      ],
      "execution_count": 66,
      "outputs": [
        {
          "output_type": "execute_result",
          "data": {
            "text/html": [
              "<div>\n",
              "<style scoped>\n",
              "    .dataframe tbody tr th:only-of-type {\n",
              "        vertical-align: middle;\n",
              "    }\n",
              "\n",
              "    .dataframe tbody tr th {\n",
              "        vertical-align: top;\n",
              "    }\n",
              "\n",
              "    .dataframe thead th {\n",
              "        text-align: right;\n",
              "    }\n",
              "</style>\n",
              "<table border=\"1\" class=\"dataframe\">\n",
              "  <thead>\n",
              "    <tr style=\"text-align: right;\">\n",
              "      <th></th>\n",
              "      <th>Category</th>\n",
              "      <th>Descript</th>\n",
              "      <th>DayOfWeek</th>\n",
              "      <th>Resolution</th>\n",
              "      <th>Address</th>\n",
              "      <th>X</th>\n",
              "      <th>Y</th>\n",
              "      <th>DateTime</th>\n",
              "      <th>IsDay</th>\n",
              "      <th>Hour</th>\n",
              "      <th>Month</th>\n",
              "      <th>Year</th>\n",
              "      <th>HourCos</th>\n",
              "      <th>DayOfWeekCos</th>\n",
              "      <th>MonthCos</th>\n",
              "      <th>PdDistrict_BAYVIEW</th>\n",
              "      <th>PdDistrict_CENTRAL</th>\n",
              "      <th>PdDistrict_INGLESIDE</th>\n",
              "      <th>PdDistrict_MISSION</th>\n",
              "      <th>PdDistrict_NORTHERN</th>\n",
              "      <th>PdDistrict_PARK</th>\n",
              "      <th>PdDistrict_RICHMOND</th>\n",
              "      <th>PdDistrict_SOUTHERN</th>\n",
              "      <th>PdDistrict_TARAVAL</th>\n",
              "      <th>PdDistrict_TENDERLOIN</th>\n",
              "      <th>CategoryInt</th>\n",
              "      <th>InIntersection</th>\n",
              "    </tr>\n",
              "  </thead>\n",
              "  <tbody>\n",
              "    <tr>\n",
              "      <th>122704</th>\n",
              "      <td>DRUG/NARCOTIC</td>\n",
              "      <td>POSSESSION OF CONTROLLED SUBSTANCE</td>\n",
              "      <td>2</td>\n",
              "      <td>ARREST, BOOKED</td>\n",
              "      <td>200 Block of GOLDEN GATE AV</td>\n",
              "      <td>-122.415121</td>\n",
              "      <td>37.781759</td>\n",
              "      <td>2014-09-09 14:04:00</td>\n",
              "      <td>1</td>\n",
              "      <td>14</td>\n",
              "      <td>9</td>\n",
              "      <td>14</td>\n",
              "      <td>-8.660254e-01</td>\n",
              "      <td>-0.222521</td>\n",
              "      <td>-1.836970e-16</td>\n",
              "      <td>0</td>\n",
              "      <td>0</td>\n",
              "      <td>0</td>\n",
              "      <td>0</td>\n",
              "      <td>0</td>\n",
              "      <td>0</td>\n",
              "      <td>0</td>\n",
              "      <td>0</td>\n",
              "      <td>0</td>\n",
              "      <td>1</td>\n",
              "      <td>21.0</td>\n",
              "      <td>0</td>\n",
              "    </tr>\n",
              "    <tr>\n",
              "      <th>1157645</th>\n",
              "      <td>VEHICLE THEFT</td>\n",
              "      <td>VEHICLE, RECOVERED, AUTO</td>\n",
              "      <td>6</td>\n",
              "      <td>NONE</td>\n",
              "      <td>3300 Block of OCTAVIA ST</td>\n",
              "      <td>-122.430020</td>\n",
              "      <td>37.803051</td>\n",
              "      <td>2003-08-16 08:00:00</td>\n",
              "      <td>1</td>\n",
              "      <td>8</td>\n",
              "      <td>8</td>\n",
              "      <td>3</td>\n",
              "      <td>-5.000000e-01</td>\n",
              "      <td>0.623490</td>\n",
              "      <td>-5.000000e-01</td>\n",
              "      <td>0</td>\n",
              "      <td>0</td>\n",
              "      <td>0</td>\n",
              "      <td>0</td>\n",
              "      <td>1</td>\n",
              "      <td>0</td>\n",
              "      <td>0</td>\n",
              "      <td>0</td>\n",
              "      <td>0</td>\n",
              "      <td>0</td>\n",
              "      <td>16.0</td>\n",
              "      <td>0</td>\n",
              "    </tr>\n",
              "    <tr>\n",
              "      <th>726120</th>\n",
              "      <td>WARRANTS</td>\n",
              "      <td>ENROUTE TO DEPARTMENT OF CORRECTIONS</td>\n",
              "      <td>6</td>\n",
              "      <td>ARREST, BOOKED</td>\n",
              "      <td>300 Block of EDDY ST</td>\n",
              "      <td>-122.412931</td>\n",
              "      <td>37.783834</td>\n",
              "      <td>2010-09-11 23:25:00</td>\n",
              "      <td>0</td>\n",
              "      <td>23</td>\n",
              "      <td>9</td>\n",
              "      <td>10</td>\n",
              "      <td>9.659258e-01</td>\n",
              "      <td>0.623490</td>\n",
              "      <td>-1.836970e-16</td>\n",
              "      <td>0</td>\n",
              "      <td>0</td>\n",
              "      <td>0</td>\n",
              "      <td>0</td>\n",
              "      <td>0</td>\n",
              "      <td>0</td>\n",
              "      <td>0</td>\n",
              "      <td>0</td>\n",
              "      <td>0</td>\n",
              "      <td>1</td>\n",
              "      <td>37.0</td>\n",
              "      <td>0</td>\n",
              "    </tr>\n",
              "    <tr>\n",
              "      <th>2118978</th>\n",
              "      <td>OTHER OFFENSES</td>\n",
              "      <td>TRAFFIC VIOLATION</td>\n",
              "      <td>1</td>\n",
              "      <td>ARREST, BOOKED</td>\n",
              "      <td>24TH ST / ALABAMA ST</td>\n",
              "      <td>-122.410963</td>\n",
              "      <td>37.752685</td>\n",
              "      <td>2016-05-30 18:51:00</td>\n",
              "      <td>1</td>\n",
              "      <td>18</td>\n",
              "      <td>5</td>\n",
              "      <td>16</td>\n",
              "      <td>-1.836970e-16</td>\n",
              "      <td>0.623490</td>\n",
              "      <td>-8.660254e-01</td>\n",
              "      <td>0</td>\n",
              "      <td>0</td>\n",
              "      <td>0</td>\n",
              "      <td>1</td>\n",
              "      <td>0</td>\n",
              "      <td>0</td>\n",
              "      <td>0</td>\n",
              "      <td>0</td>\n",
              "      <td>0</td>\n",
              "      <td>0</td>\n",
              "      <td>NaN</td>\n",
              "      <td>1</td>\n",
              "    </tr>\n",
              "    <tr>\n",
              "      <th>1214220</th>\n",
              "      <td>OTHER OFFENSES</td>\n",
              "      <td>DRIVERS LICENSE, SUSPENDED OR REVOKED</td>\n",
              "      <td>5</td>\n",
              "      <td>ARREST, CITED</td>\n",
              "      <td>KEITH ST / REVERE AV</td>\n",
              "      <td>-122.388295</td>\n",
              "      <td>37.730608</td>\n",
              "      <td>2008-03-07 16:15:00</td>\n",
              "      <td>1</td>\n",
              "      <td>16</td>\n",
              "      <td>3</td>\n",
              "      <td>8</td>\n",
              "      <td>-5.000000e-01</td>\n",
              "      <td>-0.222521</td>\n",
              "      <td>6.123234e-17</td>\n",
              "      <td>1</td>\n",
              "      <td>0</td>\n",
              "      <td>0</td>\n",
              "      <td>0</td>\n",
              "      <td>0</td>\n",
              "      <td>0</td>\n",
              "      <td>0</td>\n",
              "      <td>0</td>\n",
              "      <td>0</td>\n",
              "      <td>0</td>\n",
              "      <td>7.0</td>\n",
              "      <td>1</td>\n",
              "    </tr>\n",
              "    <tr>\n",
              "      <th>1479990</th>\n",
              "      <td>VEHICLE THEFT</td>\n",
              "      <td>STOLEN AUTOMOBILE</td>\n",
              "      <td>7</td>\n",
              "      <td>NONE</td>\n",
              "      <td>28TH ST / SANCHEZ ST</td>\n",
              "      <td>-122.429038</td>\n",
              "      <td>37.745166</td>\n",
              "      <td>2012-07-29 20:00:00</td>\n",
              "      <td>0</td>\n",
              "      <td>20</td>\n",
              "      <td>7</td>\n",
              "      <td>12</td>\n",
              "      <td>5.000000e-01</td>\n",
              "      <td>1.000000</td>\n",
              "      <td>-8.660254e-01</td>\n",
              "      <td>0</td>\n",
              "      <td>0</td>\n",
              "      <td>1</td>\n",
              "      <td>0</td>\n",
              "      <td>0</td>\n",
              "      <td>0</td>\n",
              "      <td>0</td>\n",
              "      <td>0</td>\n",
              "      <td>0</td>\n",
              "      <td>0</td>\n",
              "      <td>21.0</td>\n",
              "      <td>1</td>\n",
              "    </tr>\n",
              "    <tr>\n",
              "      <th>1738608</th>\n",
              "      <td>LARCENY/THEFT</td>\n",
              "      <td>PETTY THEFT FROM LOCKED AUTO</td>\n",
              "      <td>5</td>\n",
              "      <td>NONE</td>\n",
              "      <td>ALMA ST / COLE ST</td>\n",
              "      <td>-122.449433</td>\n",
              "      <td>37.763199</td>\n",
              "      <td>2008-02-22 18:00:00</td>\n",
              "      <td>1</td>\n",
              "      <td>18</td>\n",
              "      <td>2</td>\n",
              "      <td>8</td>\n",
              "      <td>-1.836970e-16</td>\n",
              "      <td>-0.222521</td>\n",
              "      <td>5.000000e-01</td>\n",
              "      <td>0</td>\n",
              "      <td>0</td>\n",
              "      <td>0</td>\n",
              "      <td>0</td>\n",
              "      <td>0</td>\n",
              "      <td>1</td>\n",
              "      <td>0</td>\n",
              "      <td>0</td>\n",
              "      <td>0</td>\n",
              "      <td>0</td>\n",
              "      <td>NaN</td>\n",
              "      <td>1</td>\n",
              "    </tr>\n",
              "    <tr>\n",
              "      <th>1246293</th>\n",
              "      <td>DRUG/NARCOTIC</td>\n",
              "      <td>POSSESSION OF BASE/ROCK COCAINE</td>\n",
              "      <td>1</td>\n",
              "      <td>ARREST, BOOKED</td>\n",
              "      <td>400 Block of JONES ST</td>\n",
              "      <td>-122.412857</td>\n",
              "      <td>37.785580</td>\n",
              "      <td>2006-10-16 23:05:00</td>\n",
              "      <td>0</td>\n",
              "      <td>23</td>\n",
              "      <td>10</td>\n",
              "      <td>6</td>\n",
              "      <td>9.659258e-01</td>\n",
              "      <td>0.623490</td>\n",
              "      <td>5.000000e-01</td>\n",
              "      <td>0</td>\n",
              "      <td>0</td>\n",
              "      <td>0</td>\n",
              "      <td>0</td>\n",
              "      <td>0</td>\n",
              "      <td>0</td>\n",
              "      <td>0</td>\n",
              "      <td>0</td>\n",
              "      <td>0</td>\n",
              "      <td>1</td>\n",
              "      <td>21.0</td>\n",
              "      <td>0</td>\n",
              "    </tr>\n",
              "    <tr>\n",
              "      <th>2062811</th>\n",
              "      <td>OTHER OFFENSES</td>\n",
              "      <td>CONSPIRACY</td>\n",
              "      <td>3</td>\n",
              "      <td>JUVENILE BOOKED</td>\n",
              "      <td>1000 Block of HAYES ST</td>\n",
              "      <td>-122.433661</td>\n",
              "      <td>37.775465</td>\n",
              "      <td>2017-11-15 13:15:00</td>\n",
              "      <td>1</td>\n",
              "      <td>13</td>\n",
              "      <td>11</td>\n",
              "      <td>17</td>\n",
              "      <td>-9.659258e-01</td>\n",
              "      <td>-0.900969</td>\n",
              "      <td>8.660254e-01</td>\n",
              "      <td>0</td>\n",
              "      <td>0</td>\n",
              "      <td>0</td>\n",
              "      <td>0</td>\n",
              "      <td>0</td>\n",
              "      <td>1</td>\n",
              "      <td>0</td>\n",
              "      <td>0</td>\n",
              "      <td>0</td>\n",
              "      <td>0</td>\n",
              "      <td>NaN</td>\n",
              "      <td>0</td>\n",
              "    </tr>\n",
              "    <tr>\n",
              "      <th>1293057</th>\n",
              "      <td>LARCENY/THEFT</td>\n",
              "      <td>PETTY THEFT FROM A BUILDING</td>\n",
              "      <td>1</td>\n",
              "      <td>NONE</td>\n",
              "      <td>1000 Block of PALOU AV</td>\n",
              "      <td>-122.380738</td>\n",
              "      <td>37.728276</td>\n",
              "      <td>2012-01-16 22:00:00</td>\n",
              "      <td>0</td>\n",
              "      <td>22</td>\n",
              "      <td>1</td>\n",
              "      <td>12</td>\n",
              "      <td>8.660254e-01</td>\n",
              "      <td>0.623490</td>\n",
              "      <td>8.660254e-01</td>\n",
              "      <td>1</td>\n",
              "      <td>0</td>\n",
              "      <td>0</td>\n",
              "      <td>0</td>\n",
              "      <td>0</td>\n",
              "      <td>0</td>\n",
              "      <td>0</td>\n",
              "      <td>0</td>\n",
              "      <td>0</td>\n",
              "      <td>0</td>\n",
              "      <td>1.0</td>\n",
              "      <td>0</td>\n",
              "    </tr>\n",
              "  </tbody>\n",
              "</table>\n",
              "</div>"
            ],
            "text/plain": [
              "               Category  ... InIntersection\n",
              "122704    DRUG/NARCOTIC  ...              0\n",
              "1157645   VEHICLE THEFT  ...              0\n",
              "726120         WARRANTS  ...              0\n",
              "2118978  OTHER OFFENSES  ...              1\n",
              "1214220  OTHER OFFENSES  ...              1\n",
              "1479990   VEHICLE THEFT  ...              1\n",
              "1738608   LARCENY/THEFT  ...              1\n",
              "1246293   DRUG/NARCOTIC  ...              0\n",
              "2062811  OTHER OFFENSES  ...              0\n",
              "1293057   LARCENY/THEFT  ...              0\n",
              "\n",
              "[10 rows x 27 columns]"
            ]
          },
          "metadata": {
            "tags": []
          },
          "execution_count": 66
        }
      ]
    },
    {
      "cell_type": "markdown",
      "metadata": {
        "id": "qHck6gBIXpfL",
        "colab_type": "text"
      },
      "source": [
        "### **Feature Selection**"
      ]
    },
    {
      "cell_type": "code",
      "metadata": {
        "id": "V5yrVqyjXvPE",
        "colab_type": "code",
        "colab": {
          "base_uri": "https://localhost:8080/",
          "height": 156
        },
        "outputId": "f471a017-bfce-4bab-8024-26914baed223"
      },
      "source": [
        "train_df.columns"
      ],
      "execution_count": 67,
      "outputs": [
        {
          "output_type": "execute_result",
          "data": {
            "text/plain": [
              "Index(['Category', 'Descript', 'DayOfWeek', 'Resolution', 'Address', 'X', 'Y',\n",
              "       'DateTime', 'IsDay', 'Hour', 'Month', 'Year', 'HourCos', 'DayOfWeekCos',\n",
              "       'MonthCos', 'PdDistrict_BAYVIEW', 'PdDistrict_CENTRAL',\n",
              "       'PdDistrict_INGLESIDE', 'PdDistrict_MISSION', 'PdDistrict_NORTHERN',\n",
              "       'PdDistrict_PARK', 'PdDistrict_RICHMOND', 'PdDistrict_SOUTHERN',\n",
              "       'PdDistrict_TARAVAL', 'PdDistrict_TENDERLOIN', 'CategoryInt',\n",
              "       'InIntersection'],\n",
              "      dtype='object')"
            ]
          },
          "metadata": {
            "tags": []
          },
          "execution_count": 67
        }
      ]
    },
    {
      "cell_type": "code",
      "metadata": {
        "id": "tzm2KDZeXx42",
        "colab_type": "code",
        "colab": {}
      },
      "source": [
        "feature_cols = ['X', 'Y', 'IsDay', 'DayOfWeek', 'Month', 'Hour', 'Year', 'InIntersection',\n",
        "                'PdDistrict_BAYVIEW', 'PdDistrict_CENTRAL', 'PdDistrict_INGLESIDE',\n",
        "                'PdDistrict_MISSION', 'PdDistrict_NORTHERN', 'PdDistrict_PARK',\n",
        "                'PdDistrict_RICHMOND', 'PdDistrict_SOUTHERN', 'PdDistrict_TARAVAL', 'PdDistrict_TENDERLOIN']\n",
        "target_col = 'CategoryInt'\n",
        "\n",
        "train_x = train_df[feature_cols]\n",
        "train_y = train_df[target_col]\n",
        "\n",
        "test_ids = test_df['Id']\n",
        "test_x = test_df[feature_cols]\n"
      ],
      "execution_count": 0,
      "outputs": []
    },
    {
      "cell_type": "code",
      "metadata": {
        "id": "k6vmA0qDXzoA",
        "colab_type": "code",
        "colab": {
          "base_uri": "https://localhost:8080/",
          "height": 101
        },
        "outputId": "b619e2e1-14ce-4c59-bb4f-1bf865beb025"
      },
      "source": [
        "train_x.sample(1)"
      ],
      "execution_count": 82,
      "outputs": [
        {
          "output_type": "execute_result",
          "data": {
            "text/html": [
              "<div>\n",
              "<style scoped>\n",
              "    .dataframe tbody tr th:only-of-type {\n",
              "        vertical-align: middle;\n",
              "    }\n",
              "\n",
              "    .dataframe tbody tr th {\n",
              "        vertical-align: top;\n",
              "    }\n",
              "\n",
              "    .dataframe thead th {\n",
              "        text-align: right;\n",
              "    }\n",
              "</style>\n",
              "<table border=\"1\" class=\"dataframe\">\n",
              "  <thead>\n",
              "    <tr style=\"text-align: right;\">\n",
              "      <th></th>\n",
              "      <th>X</th>\n",
              "      <th>Y</th>\n",
              "      <th>IsDay</th>\n",
              "      <th>DayOfWeek</th>\n",
              "      <th>Month</th>\n",
              "      <th>Hour</th>\n",
              "      <th>Year</th>\n",
              "      <th>InIntersection</th>\n",
              "      <th>PdDistrict_BAYVIEW</th>\n",
              "      <th>PdDistrict_CENTRAL</th>\n",
              "      <th>PdDistrict_INGLESIDE</th>\n",
              "      <th>PdDistrict_MISSION</th>\n",
              "      <th>PdDistrict_NORTHERN</th>\n",
              "      <th>PdDistrict_PARK</th>\n",
              "      <th>PdDistrict_RICHMOND</th>\n",
              "      <th>PdDistrict_SOUTHERN</th>\n",
              "      <th>PdDistrict_TARAVAL</th>\n",
              "      <th>PdDistrict_TENDERLOIN</th>\n",
              "    </tr>\n",
              "  </thead>\n",
              "  <tbody>\n",
              "    <tr>\n",
              "      <th>982092</th>\n",
              "      <td>-122.487669</td>\n",
              "      <td>37.775202</td>\n",
              "      <td>1</td>\n",
              "      <td>4</td>\n",
              "      <td>9</td>\n",
              "      <td>18</td>\n",
              "      <td>10</td>\n",
              "      <td>0</td>\n",
              "      <td>0</td>\n",
              "      <td>0</td>\n",
              "      <td>0</td>\n",
              "      <td>0</td>\n",
              "      <td>0</td>\n",
              "      <td>0</td>\n",
              "      <td>1</td>\n",
              "      <td>0</td>\n",
              "      <td>0</td>\n",
              "      <td>0</td>\n",
              "    </tr>\n",
              "  </tbody>\n",
              "</table>\n",
              "</div>"
            ],
            "text/plain": [
              "                 X          Y  ...  PdDistrict_TARAVAL  PdDistrict_TENDERLOIN\n",
              "982092 -122.487669  37.775202  ...                   0                      0\n",
              "\n",
              "[1 rows x 18 columns]"
            ]
          },
          "metadata": {
            "tags": []
          },
          "execution_count": 82
        }
      ]
    },
    {
      "cell_type": "code",
      "metadata": {
        "id": "zSvVd_y8X8yx",
        "colab_type": "code",
        "colab": {
          "base_uri": "https://localhost:8080/",
          "height": 101
        },
        "outputId": "8f0893b8-4ab6-4e96-a7a2-b2cb13d61e58"
      },
      "source": [
        "test_x.sample(1)"
      ],
      "execution_count": 83,
      "outputs": [
        {
          "output_type": "execute_result",
          "data": {
            "text/html": [
              "<div>\n",
              "<style scoped>\n",
              "    .dataframe tbody tr th:only-of-type {\n",
              "        vertical-align: middle;\n",
              "    }\n",
              "\n",
              "    .dataframe tbody tr th {\n",
              "        vertical-align: top;\n",
              "    }\n",
              "\n",
              "    .dataframe thead th {\n",
              "        text-align: right;\n",
              "    }\n",
              "</style>\n",
              "<table border=\"1\" class=\"dataframe\">\n",
              "  <thead>\n",
              "    <tr style=\"text-align: right;\">\n",
              "      <th></th>\n",
              "      <th>X</th>\n",
              "      <th>Y</th>\n",
              "      <th>IsDay</th>\n",
              "      <th>DayOfWeek</th>\n",
              "      <th>Month</th>\n",
              "      <th>Hour</th>\n",
              "      <th>Year</th>\n",
              "      <th>InIntersection</th>\n",
              "      <th>PdDistrict_BAYVIEW</th>\n",
              "      <th>PdDistrict_CENTRAL</th>\n",
              "      <th>PdDistrict_INGLESIDE</th>\n",
              "      <th>PdDistrict_MISSION</th>\n",
              "      <th>PdDistrict_NORTHERN</th>\n",
              "      <th>PdDistrict_PARK</th>\n",
              "      <th>PdDistrict_RICHMOND</th>\n",
              "      <th>PdDistrict_SOUTHERN</th>\n",
              "      <th>PdDistrict_TARAVAL</th>\n",
              "      <th>PdDistrict_TENDERLOIN</th>\n",
              "    </tr>\n",
              "  </thead>\n",
              "  <tbody>\n",
              "    <tr>\n",
              "      <th>1874601</th>\n",
              "      <td>-122.509139</td>\n",
              "      <td>37.760279</td>\n",
              "      <td>1</td>\n",
              "      <td>7</td>\n",
              "      <td>6</td>\n",
              "      <td>17</td>\n",
              "      <td>17</td>\n",
              "      <td>1</td>\n",
              "      <td>0</td>\n",
              "      <td>0</td>\n",
              "      <td>0</td>\n",
              "      <td>0</td>\n",
              "      <td>0</td>\n",
              "      <td>0</td>\n",
              "      <td>0</td>\n",
              "      <td>0</td>\n",
              "      <td>1</td>\n",
              "      <td>0</td>\n",
              "    </tr>\n",
              "  </tbody>\n",
              "</table>\n",
              "</div>"
            ],
            "text/plain": [
              "                  X          Y  ...  PdDistrict_TARAVAL  PdDistrict_TENDERLOIN\n",
              "1874601 -122.509139  37.760279  ...                   1                      0\n",
              "\n",
              "[1 rows x 18 columns]"
            ]
          },
          "metadata": {
            "tags": []
          },
          "execution_count": 83
        }
      ]
    },
    {
      "cell_type": "markdown",
      "metadata": {
        "id": "Xj-Kd0jyYH8t",
        "colab_type": "text"
      },
      "source": [
        "#### **XGBOOST Training (Cross-Validation)**"
      ]
    },
    {
      "cell_type": "code",
      "metadata": {
        "id": "nvL9-jYIYLV4",
        "colab_type": "code",
        "colab": {
          "base_uri": "https://localhost:8080/",
          "height": 34
        },
        "outputId": "66e442d0-775d-4418-8e59-f6eec6ba3470"
      },
      "source": [
        "type(train_x), type(train_y)"
      ],
      "execution_count": 84,
      "outputs": [
        {
          "output_type": "execute_result",
          "data": {
            "text/plain": [
              "(pandas.core.frame.DataFrame, pandas.core.series.Series)"
            ]
          },
          "metadata": {
            "tags": []
          },
          "execution_count": 84
        }
      ]
    },
    {
      "cell_type": "markdown",
      "metadata": {
        "id": "b15rFmLpYRU_",
        "colab_type": "text"
      },
      "source": [
        "Import XGBoost and create the DMatrices"
      ]
    },
    {
      "cell_type": "code",
      "metadata": {
        "id": "slaG4w5wYOi4",
        "colab_type": "code",
        "colab": {
          "base_uri": "https://localhost:8080/",
          "height": 86
        },
        "outputId": "5dbaf0f0-9b2b-47c5-cd67-c943f61164a8"
      },
      "source": [
        "import xgboost as xgb\n",
        "train_xgb = xgb.DMatrix(train_x, label=train_y)\n",
        "test_xgb  = xgb.DMatrix(test_x)"
      ],
      "execution_count": 85,
      "outputs": [
        {
          "output_type": "stream",
          "text": [
            "/usr/local/lib/python3.6/dist-packages/xgboost/core.py:587: FutureWarning: Series.base is deprecated and will be removed in a future version\n",
            "  if getattr(data, 'base', None) is not None and \\\n",
            "/usr/local/lib/python3.6/dist-packages/xgboost/core.py:588: FutureWarning: Series.base is deprecated and will be removed in a future version\n",
            "  data.base is not None and isinstance(data, np.ndarray) \\\n"
          ],
          "name": "stderr"
        }
      ]
    },
    {
      "cell_type": "markdown",
      "metadata": {
        "id": "_pUb718XYXSF",
        "colab_type": "text"
      },
      "source": [
        "Perform Cross-Validation"
      ]
    },
    {
      "cell_type": "code",
      "metadata": {
        "id": "CHFmbgPCYSdh",
        "colab_type": "code",
        "colab": {}
      },
      "source": [
        "params = {\n",
        "    'max_depth': 4,  # the maximum depth of each tree\n",
        "    'eta': 0.3,  # the training step for each iteration\n",
        "    'silent': 1,  # logging mode - quiet\n",
        "    'objective': 'multi:softprob',  # error evaluation for multiclass training\n",
        "    'num_class': 39,\n",
        "}"
      ],
      "execution_count": 0,
      "outputs": []
    },
    {
      "cell_type": "code",
      "metadata": {
        "id": "AdXCW1qmYa88",
        "colab_type": "code",
        "colab": {}
      },
      "source": [
        "CROSS_VAL = False\n",
        "if CROSS_VAL:\n",
        "    print('Doing Cross-validation ...')\n",
        "    cv = xgb.cv(params, train_xgb, nfold=3, early_stopping_rounds=10, metrics='mlogloss', verbose_eval=True)\n",
        "    cv"
      ],
      "execution_count": 0,
      "outputs": []
    },
    {
      "cell_type": "markdown",
      "metadata": {
        "id": "NZcaPlYJYfKR",
        "colab_type": "text"
      },
      "source": [
        "\n",
        "Fit the model and make the predictions"
      ]
    },
    {
      "cell_type": "code",
      "metadata": {
        "id": "XECJ-_4LYdPv",
        "colab_type": "code",
        "colab": {
          "base_uri": "https://localhost:8080/",
          "height": 156
        },
        "outputId": "cb5f16ca-3d8d-4f41-846f-56aba580a379"
      },
      "source": [
        "SUBMIT = not CROSS_VAL\n",
        "if SUBMIT:\n",
        "    print('Fitting Model ...')\n",
        "    m = xgb.train(params, train_xgb, 10)\n",
        "    res = m.predict(test_xgb)\n",
        "    cols = ['Id'] + cat_le.classes_\n",
        "    submission = pd.DataFrame(res, columns=cat_le.classes_)\n",
        "    submission.insert(0, 'Id', test_ids)\n",
        "    submission.to_csv('submission.csv', index=False)\n",
        "    print('Done Outputing !')\n",
        "    print(submission.sample(3))\n",
        "else:\n",
        "    print('NOT SUBMITING')"
      ],
      "execution_count": 88,
      "outputs": [
        {
          "output_type": "stream",
          "text": [
            "Fitting Model ...\n",
            "Done Outputing !\n",
            "        Id     ARSON   ASSAULT  ...  VEHICLE THEFT  WARRANTS  WEAPON LAWS\n",
            "425470 NaN  0.008206  0.070925  ...       0.047714  0.039373     0.013816\n",
            "37332  NaN  0.008201  0.070654  ...       0.047740  0.039473     0.013807\n",
            "459415 NaN  0.008258  0.070668  ...       0.048046  0.039108     0.013810\n",
            "\n",
            "[3 rows x 40 columns]\n"
          ],
          "name": "stdout"
        }
      ]
    },
    {
      "cell_type": "code",
      "metadata": {
        "id": "8spL73jkf4XE",
        "colab_type": "code",
        "colab": {}
      },
      "source": [
        ""
      ],
      "execution_count": 0,
      "outputs": []
    }
  ]
}
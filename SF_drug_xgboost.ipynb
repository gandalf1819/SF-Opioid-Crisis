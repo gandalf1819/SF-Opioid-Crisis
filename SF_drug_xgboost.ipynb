{
  "nbformat": 4,
  "nbformat_minor": 0,
  "metadata": {
    "colab": {
      "name": "SF-drug-xgboost.ipynb",
      "provenance": [],
      "collapsed_sections": [],
      "include_colab_link": true
    },
    "kernelspec": {
      "name": "python3",
      "display_name": "Python 3"
    }
  },
  "cells": [
    {
      "cell_type": "markdown",
      "metadata": {
        "id": "view-in-github",
        "colab_type": "text"
      },
      "source": [
        "<a href=\"https://colab.research.google.com/github/gandalf1819/SF-Opioid-Crisis/blob/master/SF_drug_xgboost.ipynb\" target=\"_parent\"><img src=\"https://colab.research.google.com/assets/colab-badge.svg\" alt=\"Open In Colab\"/></a>"
      ]
    },
    {
      "cell_type": "code",
      "metadata": {
        "id": "juhzH9xLfr9K",
        "colab_type": "code",
        "outputId": "6b95f225-42ff-484a-bc00-ef9bf684bbd7",
        "colab": {
          "base_uri": "https://localhost:8080/",
          "height": 34
        }
      },
      "source": [
        "from google.colab import drive\n",
        "drive.mount('/content/gdrive')"
      ],
      "execution_count": 1,
      "outputs": [
        {
          "output_type": "stream",
          "text": [
            "Drive already mounted at /content/gdrive; to attempt to forcibly remount, call drive.mount(\"/content/gdrive\", force_remount=True).\n"
          ],
          "name": "stdout"
        }
      ]
    },
    {
      "cell_type": "code",
      "metadata": {
        "id": "lJCfd2KLfybe",
        "colab_type": "code",
        "colab": {}
      },
      "source": [
        "import sys,os\n",
        "import pandas as pd\n",
        "import numpy as np\n",
        "import matplotlib\n",
        "import matplotlib.pyplot as plt \n",
        "import seaborn as sns\n",
        "%matplotlib inline\n",
        "sns.set()"
      ],
      "execution_count": 0,
      "outputs": []
    },
    {
      "cell_type": "code",
      "metadata": {
        "id": "VSAgLsuXf6Ba",
        "colab_type": "code",
        "outputId": "ad368d25-b54f-4bfb-8835-b6a8c708c511",
        "colab": {
          "base_uri": "https://localhost:8080/",
          "height": 68
        }
      },
      "source": [
        "d_crime = pd.read_csv(\"/content/gdrive/My Drive/SF dataset/Police_Department_Incident_Reports__Historical_2003_to_May_2018.csv\")\n",
        "d_crime.columns"
      ],
      "execution_count": 3,
      "outputs": [
        {
          "output_type": "execute_result",
          "data": {
            "text/plain": [
              "Index(['IncidntNum', 'Category', 'Descript', 'DayOfWeek', 'Date', 'Time',\n",
              "       'PdDistrict', 'Resolution', 'Address', 'X', 'Y', 'Location', 'PdId'],\n",
              "      dtype='object')"
            ]
          },
          "metadata": {
            "tags": []
          },
          "execution_count": 3
        }
      ]
    },
    {
      "cell_type": "code",
      "metadata": {
        "id": "-vbcSl5nf7dm",
        "colab_type": "code",
        "colab": {}
      },
      "source": [
        "np.random.seed(100)\n",
        "random_d_crime=d_crime.sample(2215024)\n",
        "train_size=int(0.67 *2215024)\n",
        "train_df=random_d_crime[:train_size]\n",
        "test_df=random_d_crime[train_size:]"
      ],
      "execution_count": 0,
      "outputs": []
    },
    {
      "cell_type": "code",
      "metadata": {
        "id": "6dxMgUVZf_LY",
        "colab_type": "code",
        "outputId": "0c6cbbb1-c78e-4f39-f4ba-9f7688c0f461",
        "colab": {
          "base_uri": "https://localhost:8080/",
          "height": 68
        }
      },
      "source": [
        "train_df.columns"
      ],
      "execution_count": 5,
      "outputs": [
        {
          "output_type": "execute_result",
          "data": {
            "text/plain": [
              "Index(['IncidntNum', 'Category', 'Descript', 'DayOfWeek', 'Date', 'Time',\n",
              "       'PdDistrict', 'Resolution', 'Address', 'X', 'Y', 'Location', 'PdId'],\n",
              "      dtype='object')"
            ]
          },
          "metadata": {
            "tags": []
          },
          "execution_count": 5
        }
      ]
    },
    {
      "cell_type": "code",
      "metadata": {
        "id": "We4kT_HOgBIg",
        "colab_type": "code",
        "outputId": "8d5a7b6a-e43d-42e9-ef3e-b6b879539f23",
        "colab": {
          "base_uri": "https://localhost:8080/",
          "height": 68
        }
      },
      "source": [
        "test_df.columns"
      ],
      "execution_count": 6,
      "outputs": [
        {
          "output_type": "execute_result",
          "data": {
            "text/plain": [
              "Index(['IncidntNum', 'Category', 'Descript', 'DayOfWeek', 'Date', 'Time',\n",
              "       'PdDistrict', 'Resolution', 'Address', 'X', 'Y', 'Location', 'PdId'],\n",
              "      dtype='object')"
            ]
          },
          "metadata": {
            "tags": []
          },
          "execution_count": 6
        }
      ]
    },
    {
      "cell_type": "code",
      "metadata": {
        "id": "VM7T8BEIfi6y",
        "colab_type": "code",
        "outputId": "1c6e10af-1bab-4acf-f1b0-cd7c04ed5c60",
        "colab": {
          "base_uri": "https://localhost:8080/",
          "height": 119
        }
      },
      "source": [
        "test_df['Id'] = test_df.index"
      ],
      "execution_count": 7,
      "outputs": [
        {
          "output_type": "stream",
          "text": [
            "/usr/local/lib/python3.6/dist-packages/ipykernel_launcher.py:1: SettingWithCopyWarning: \n",
            "A value is trying to be set on a copy of a slice from a DataFrame.\n",
            "Try using .loc[row_indexer,col_indexer] = value instead\n",
            "\n",
            "See the caveats in the documentation: http://pandas.pydata.org/pandas-docs/stable/user_guide/indexing.html#returning-a-view-versus-a-copy\n",
            "  \"\"\"Entry point for launching an IPython kernel.\n"
          ],
          "name": "stderr"
        }
      ]
    },
    {
      "cell_type": "code",
      "metadata": {
        "id": "hqNEIQwZgCle",
        "colab_type": "code",
        "colab": {}
      },
      "source": [
        "train_df=train_df.drop(['IncidntNum', 'PdId', 'Location'], axis=1)"
      ],
      "execution_count": 0,
      "outputs": []
    },
    {
      "cell_type": "code",
      "metadata": {
        "id": "4KaYZNhugJR_",
        "colab_type": "code",
        "outputId": "93bc2f39-1331-497f-fbf8-a8d3c740c716",
        "colab": {
          "base_uri": "https://localhost:8080/",
          "height": 255
        }
      },
      "source": [
        "train_df.sample(5)"
      ],
      "execution_count": 9,
      "outputs": [
        {
          "output_type": "execute_result",
          "data": {
            "text/html": [
              "<div>\n",
              "<style scoped>\n",
              "    .dataframe tbody tr th:only-of-type {\n",
              "        vertical-align: middle;\n",
              "    }\n",
              "\n",
              "    .dataframe tbody tr th {\n",
              "        vertical-align: top;\n",
              "    }\n",
              "\n",
              "    .dataframe thead th {\n",
              "        text-align: right;\n",
              "    }\n",
              "</style>\n",
              "<table border=\"1\" class=\"dataframe\">\n",
              "  <thead>\n",
              "    <tr style=\"text-align: right;\">\n",
              "      <th></th>\n",
              "      <th>Category</th>\n",
              "      <th>Descript</th>\n",
              "      <th>DayOfWeek</th>\n",
              "      <th>Date</th>\n",
              "      <th>Time</th>\n",
              "      <th>PdDistrict</th>\n",
              "      <th>Resolution</th>\n",
              "      <th>Address</th>\n",
              "      <th>X</th>\n",
              "      <th>Y</th>\n",
              "    </tr>\n",
              "  </thead>\n",
              "  <tbody>\n",
              "    <tr>\n",
              "      <th>1987620</th>\n",
              "      <td>SUSPICIOUS OCC</td>\n",
              "      <td>INVESTIGATIVE DETENTION</td>\n",
              "      <td>Friday</td>\n",
              "      <td>01/01/2016</td>\n",
              "      <td>04:20</td>\n",
              "      <td>CENTRAL</td>\n",
              "      <td>ARREST, BOOKED</td>\n",
              "      <td>200 Block of POST ST</td>\n",
              "      <td>-122.406022</td>\n",
              "      <td>37.788649</td>\n",
              "    </tr>\n",
              "    <tr>\n",
              "      <th>892776</th>\n",
              "      <td>OTHER OFFENSES</td>\n",
              "      <td>RESISTING ARREST</td>\n",
              "      <td>Sunday</td>\n",
              "      <td>06/13/2004</td>\n",
              "      <td>11:30</td>\n",
              "      <td>CENTRAL</td>\n",
              "      <td>ARREST, BOOKED</td>\n",
              "      <td>BROADWAY ST / GRANT AV</td>\n",
              "      <td>-122.407018</td>\n",
              "      <td>37.797823</td>\n",
              "    </tr>\n",
              "    <tr>\n",
              "      <th>187188</th>\n",
              "      <td>BURGLARY</td>\n",
              "      <td>BURGLARY, FORCIBLE ENTRY</td>\n",
              "      <td>Saturday</td>\n",
              "      <td>05/09/2015</td>\n",
              "      <td>10:22</td>\n",
              "      <td>CENTRAL</td>\n",
              "      <td>NONE</td>\n",
              "      <td>200 Block of SUTTER ST</td>\n",
              "      <td>-122.404828</td>\n",
              "      <td>37.789760</td>\n",
              "    </tr>\n",
              "    <tr>\n",
              "      <th>24997</th>\n",
              "      <td>OTHER OFFENSES</td>\n",
              "      <td>RESISTING ARREST</td>\n",
              "      <td>Thursday</td>\n",
              "      <td>03/06/2014</td>\n",
              "      <td>09:39</td>\n",
              "      <td>BAYVIEW</td>\n",
              "      <td>ARREST, BOOKED</td>\n",
              "      <td>REVERE AV / GRIFFITH ST</td>\n",
              "      <td>-122.380820</td>\n",
              "      <td>37.726365</td>\n",
              "    </tr>\n",
              "    <tr>\n",
              "      <th>669340</th>\n",
              "      <td>LARCENY/THEFT</td>\n",
              "      <td>GRAND THEFT FROM LOCKED AUTO</td>\n",
              "      <td>Friday</td>\n",
              "      <td>08/17/2007</td>\n",
              "      <td>14:45</td>\n",
              "      <td>SOUTHERN</td>\n",
              "      <td>NONE</td>\n",
              "      <td>0 Block of BEALE ST</td>\n",
              "      <td>-122.396648</td>\n",
              "      <td>37.791740</td>\n",
              "    </tr>\n",
              "  </tbody>\n",
              "</table>\n",
              "</div>"
            ],
            "text/plain": [
              "               Category                      Descript  ...           X          Y\n",
              "1987620  SUSPICIOUS OCC       INVESTIGATIVE DETENTION  ... -122.406022  37.788649\n",
              "892776   OTHER OFFENSES              RESISTING ARREST  ... -122.407018  37.797823\n",
              "187188         BURGLARY      BURGLARY, FORCIBLE ENTRY  ... -122.404828  37.789760\n",
              "24997    OTHER OFFENSES              RESISTING ARREST  ... -122.380820  37.726365\n",
              "669340    LARCENY/THEFT  GRAND THEFT FROM LOCKED AUTO  ... -122.396648  37.791740\n",
              "\n",
              "[5 rows x 10 columns]"
            ]
          },
          "metadata": {
            "tags": []
          },
          "execution_count": 9
        }
      ]
    },
    {
      "cell_type": "code",
      "metadata": {
        "id": "tI-sVzbegMqw",
        "colab_type": "code",
        "colab": {}
      },
      "source": [
        "test_df=test_df.drop(['IncidntNum', 'PdId', 'Location'], axis=1)"
      ],
      "execution_count": 0,
      "outputs": []
    },
    {
      "cell_type": "code",
      "metadata": {
        "id": "xJQ-qYrAhbUs",
        "colab_type": "code",
        "outputId": "e5675f34-d3b5-4878-e5ec-b55dae126463",
        "colab": {
          "base_uri": "https://localhost:8080/",
          "height": 289
        }
      },
      "source": [
        "test_df.sample(5)"
      ],
      "execution_count": 11,
      "outputs": [
        {
          "output_type": "execute_result",
          "data": {
            "text/html": [
              "<div>\n",
              "<style scoped>\n",
              "    .dataframe tbody tr th:only-of-type {\n",
              "        vertical-align: middle;\n",
              "    }\n",
              "\n",
              "    .dataframe tbody tr th {\n",
              "        vertical-align: top;\n",
              "    }\n",
              "\n",
              "    .dataframe thead th {\n",
              "        text-align: right;\n",
              "    }\n",
              "</style>\n",
              "<table border=\"1\" class=\"dataframe\">\n",
              "  <thead>\n",
              "    <tr style=\"text-align: right;\">\n",
              "      <th></th>\n",
              "      <th>Category</th>\n",
              "      <th>Descript</th>\n",
              "      <th>DayOfWeek</th>\n",
              "      <th>Date</th>\n",
              "      <th>Time</th>\n",
              "      <th>PdDistrict</th>\n",
              "      <th>Resolution</th>\n",
              "      <th>Address</th>\n",
              "      <th>X</th>\n",
              "      <th>Y</th>\n",
              "      <th>Id</th>\n",
              "    </tr>\n",
              "  </thead>\n",
              "  <tbody>\n",
              "    <tr>\n",
              "      <th>94105</th>\n",
              "      <td>OTHER OFFENSES</td>\n",
              "      <td>TRAFFIC VIOLATION</td>\n",
              "      <td>Sunday</td>\n",
              "      <td>05/18/2014</td>\n",
              "      <td>13:48</td>\n",
              "      <td>MISSION</td>\n",
              "      <td>ARREST, CITED</td>\n",
              "      <td>1000 Block of POTRERO AV</td>\n",
              "      <td>-122.406681</td>\n",
              "      <td>37.755343</td>\n",
              "      <td>94105</td>\n",
              "    </tr>\n",
              "    <tr>\n",
              "      <th>1512870</th>\n",
              "      <td>DRUG/NARCOTIC</td>\n",
              "      <td>POSSESSION OF MARIJUANA</td>\n",
              "      <td>Tuesday</td>\n",
              "      <td>05/03/2005</td>\n",
              "      <td>14:20</td>\n",
              "      <td>PARK</td>\n",
              "      <td>ARREST, BOOKED</td>\n",
              "      <td>ASHBURY ST / FELL ST</td>\n",
              "      <td>-122.447498</td>\n",
              "      <td>37.772791</td>\n",
              "      <td>1512870</td>\n",
              "    </tr>\n",
              "    <tr>\n",
              "      <th>497923</th>\n",
              "      <td>OTHER OFFENSES</td>\n",
              "      <td>PROBATION VIOLATION</td>\n",
              "      <td>Monday</td>\n",
              "      <td>02/16/2004</td>\n",
              "      <td>12:52</td>\n",
              "      <td>BAYVIEW</td>\n",
              "      <td>ARREST, BOOKED</td>\n",
              "      <td>1500 Block of MC KINNON AV</td>\n",
              "      <td>-122.388278</td>\n",
              "      <td>37.735395</td>\n",
              "      <td>497923</td>\n",
              "    </tr>\n",
              "    <tr>\n",
              "      <th>188903</th>\n",
              "      <td>BURGLARY</td>\n",
              "      <td>BURGLARY,STORE UNDER CONSTRUCTION, FORCIBLE ENTRY</td>\n",
              "      <td>Friday</td>\n",
              "      <td>05/15/2015</td>\n",
              "      <td>23:00</td>\n",
              "      <td>INGLESIDE</td>\n",
              "      <td>NONE</td>\n",
              "      <td>1600 Block of CHURCH ST</td>\n",
              "      <td>-122.426639</td>\n",
              "      <td>37.744103</td>\n",
              "      <td>188903</td>\n",
              "    </tr>\n",
              "    <tr>\n",
              "      <th>1451444</th>\n",
              "      <td>BURGLARY</td>\n",
              "      <td>BURGLARY OF APARTMENT HOUSE, UNLAWFUL ENTRY</td>\n",
              "      <td>Friday</td>\n",
              "      <td>02/06/2009</td>\n",
              "      <td>14:17</td>\n",
              "      <td>PARK</td>\n",
              "      <td>ARREST, BOOKED</td>\n",
              "      <td>1600 Block of GOLDEN GATE AV</td>\n",
              "      <td>-122.437307</td>\n",
              "      <td>37.778939</td>\n",
              "      <td>1451444</td>\n",
              "    </tr>\n",
              "  </tbody>\n",
              "</table>\n",
              "</div>"
            ],
            "text/plain": [
              "               Category  ...       Id\n",
              "94105    OTHER OFFENSES  ...    94105\n",
              "1512870   DRUG/NARCOTIC  ...  1512870\n",
              "497923   OTHER OFFENSES  ...   497923\n",
              "188903         BURGLARY  ...   188903\n",
              "1451444        BURGLARY  ...  1451444\n",
              "\n",
              "[5 rows x 11 columns]"
            ]
          },
          "metadata": {
            "tags": []
          },
          "execution_count": 11
        }
      ]
    },
    {
      "cell_type": "code",
      "metadata": {
        "id": "lLAi6i9HRCoO",
        "colab_type": "code",
        "outputId": "458ac5b2-60b5-4289-e5df-1626f421a9f5",
        "colab": {
          "base_uri": "https://localhost:8080/",
          "height": 68
        }
      },
      "source": [
        "train_df.columns"
      ],
      "execution_count": 12,
      "outputs": [
        {
          "output_type": "execute_result",
          "data": {
            "text/plain": [
              "Index(['Category', 'Descript', 'DayOfWeek', 'Date', 'Time', 'PdDistrict',\n",
              "       'Resolution', 'Address', 'X', 'Y'],\n",
              "      dtype='object')"
            ]
          },
          "metadata": {
            "tags": []
          },
          "execution_count": 12
        }
      ]
    },
    {
      "cell_type": "markdown",
      "metadata": {
        "id": "-gIrWbWi0vRP",
        "colab_type": "text"
      },
      "source": [
        "**Convert 'Date' and 'Time' columns to 'DateTime' columns to identify crimes across different times of the day**"
      ]
    },
    {
      "cell_type": "code",
      "metadata": {
        "id": "smXnYNivTr0L",
        "colab_type": "code",
        "colab": {}
      },
      "source": [
        "train_df['DateTime'] = train_df.Date + \" \" + train_df.Time\n",
        "train_df['DateTime'] = pd.to_datetime(train_df['DateTime'], format='%m/%d/%Y %H:%M')\n",
        "\n",
        "test_df['DateTime'] = test_df.Date + \" \" + test_df.Time\n",
        "test_df['DateTime'] = pd.to_datetime(test_df['DateTime'], format='%m/%d/%Y %H:%M')"
      ],
      "execution_count": 0,
      "outputs": []
    },
    {
      "cell_type": "code",
      "metadata": {
        "id": "1ODXP_OtzOYk",
        "colab_type": "code",
        "colab": {}
      },
      "source": [
        "train_df = train_df.drop(['Date', 'Time'], axis=1)\n",
        "test_df = test_df.drop(['Date', 'Time'], axis=1)"
      ],
      "execution_count": 0,
      "outputs": []
    },
    {
      "cell_type": "markdown",
      "metadata": {
        "id": "YpXoyTUG1cVd",
        "colab_type": "text"
      },
      "source": [
        "Develop a feature **'IsDay'** to identify whether the crime was committed during day or night"
      ]
    },
    {
      "cell_type": "code",
      "metadata": {
        "id": "1FcdojCs0pZ6",
        "colab_type": "code",
        "outputId": "dcc98bfd-b4da-4ba5-f03b-ddc85f6538c9",
        "colab": {
          "base_uri": "https://localhost:8080/",
          "height": 193
        }
      },
      "source": [
        "train_df['IsDay'] = 0\n",
        "train_df.loc[ (train_df.DateTime.dt.hour > 6) & (train_df.DateTime.dt.hour < 20), 'IsDay' ] = 1\n",
        "test_df['IsDay'] = 0\n",
        "test_df.loc[ (test_df.DateTime.dt.hour > 6) & (test_df.DateTime.dt.hour < 20), 'IsDay' ] = 1\n",
        "\n",
        "train_df.sample(3)"
      ],
      "execution_count": 15,
      "outputs": [
        {
          "output_type": "execute_result",
          "data": {
            "text/html": [
              "<div>\n",
              "<style scoped>\n",
              "    .dataframe tbody tr th:only-of-type {\n",
              "        vertical-align: middle;\n",
              "    }\n",
              "\n",
              "    .dataframe tbody tr th {\n",
              "        vertical-align: top;\n",
              "    }\n",
              "\n",
              "    .dataframe thead th {\n",
              "        text-align: right;\n",
              "    }\n",
              "</style>\n",
              "<table border=\"1\" class=\"dataframe\">\n",
              "  <thead>\n",
              "    <tr style=\"text-align: right;\">\n",
              "      <th></th>\n",
              "      <th>Category</th>\n",
              "      <th>Descript</th>\n",
              "      <th>DayOfWeek</th>\n",
              "      <th>PdDistrict</th>\n",
              "      <th>Resolution</th>\n",
              "      <th>Address</th>\n",
              "      <th>X</th>\n",
              "      <th>Y</th>\n",
              "      <th>DateTime</th>\n",
              "      <th>IsDay</th>\n",
              "    </tr>\n",
              "  </thead>\n",
              "  <tbody>\n",
              "    <tr>\n",
              "      <th>1436649</th>\n",
              "      <td>WARRANTS</td>\n",
              "      <td>ENROUTE TO DEPARTMENT OF CORRECTIONS</td>\n",
              "      <td>Wednesday</td>\n",
              "      <td>NORTHERN</td>\n",
              "      <td>ARREST, BOOKED</td>\n",
              "      <td>1400 Block of POLK ST</td>\n",
              "      <td>-122.420661</td>\n",
              "      <td>37.790100</td>\n",
              "      <td>2006-08-09 17:14:00</td>\n",
              "      <td>1</td>\n",
              "    </tr>\n",
              "    <tr>\n",
              "      <th>1508667</th>\n",
              "      <td>WARRANTS</td>\n",
              "      <td>WARRANT ARREST</td>\n",
              "      <td>Saturday</td>\n",
              "      <td>TARAVAL</td>\n",
              "      <td>ARREST, BOOKED</td>\n",
              "      <td>JUDAH ST / LA PLAYA ST</td>\n",
              "      <td>-122.509139</td>\n",
              "      <td>37.760279</td>\n",
              "      <td>2004-12-04 10:05:00</td>\n",
              "      <td>1</td>\n",
              "    </tr>\n",
              "    <tr>\n",
              "      <th>1976663</th>\n",
              "      <td>ASSAULT</td>\n",
              "      <td>BATTERY WITH SERIOUS INJURIES</td>\n",
              "      <td>Friday</td>\n",
              "      <td>SOUTHERN</td>\n",
              "      <td>NONE</td>\n",
              "      <td>5TH ST / HOWARD ST</td>\n",
              "      <td>-122.404934</td>\n",
              "      <td>37.781499</td>\n",
              "      <td>2017-01-20 02:00:00</td>\n",
              "      <td>0</td>\n",
              "    </tr>\n",
              "  </tbody>\n",
              "</table>\n",
              "</div>"
            ],
            "text/plain": [
              "         Category  ... IsDay\n",
              "1436649  WARRANTS  ...     1\n",
              "1508667  WARRANTS  ...     1\n",
              "1976663   ASSAULT  ...     0\n",
              "\n",
              "[3 rows x 10 columns]"
            ]
          },
          "metadata": {
            "tags": []
          },
          "execution_count": 15
        }
      ]
    },
    {
      "cell_type": "markdown",
      "metadata": {
        "id": "PvYcBXBVSTBA",
        "colab_type": "text"
      },
      "source": [
        "\n",
        "Create **'Month'**, **'Year'** and **'DayOfWeekInt'** columns"
      ]
    },
    {
      "cell_type": "markdown",
      "metadata": {
        "id": "OKYa1Ay9SYiT",
        "colab_type": "text"
      },
      "source": [
        "\n",
        "Map 'DayOfWeek' to Integer"
      ]
    },
    {
      "cell_type": "code",
      "metadata": {
        "id": "rMf3Yfeg1X3J",
        "colab_type": "code",
        "outputId": "b05ce5c7-15ce-41a0-a928-65481ba1a2cd",
        "colab": {
          "base_uri": "https://localhost:8080/",
          "height": 34
        }
      },
      "source": [
        "days_to_int_dic = {\n",
        "        'Monday': 1,\n",
        "        'Tuesday': 2,\n",
        "        'Wednesday': 3,\n",
        "        'Thursday': 4,\n",
        "        'Friday': 5,\n",
        "        'Saturday': 6,\n",
        "        'Sunday': 7,\n",
        "}\n",
        "train_df['DayOfWeek'] = train_df['DayOfWeek'].map(days_to_int_dic)\n",
        "test_df ['DayOfWeek'] = test_df ['DayOfWeek'].map(days_to_int_dic)\n",
        "\n",
        "train_df.DayOfWeek.unique()"
      ],
      "execution_count": 16,
      "outputs": [
        {
          "output_type": "execute_result",
          "data": {
            "text/plain": [
              "array([5, 6, 7, 3, 1, 2, 4])"
            ]
          },
          "metadata": {
            "tags": []
          },
          "execution_count": 16
        }
      ]
    },
    {
      "cell_type": "markdown",
      "metadata": {
        "id": "2FM0q2MZSir5",
        "colab_type": "text"
      },
      "source": [
        "Create Hour, Month and Year Columns"
      ]
    },
    {
      "cell_type": "code",
      "metadata": {
        "id": "l6IF-P1WSde5",
        "colab_type": "code",
        "outputId": "744b5881-a323-4911-a39f-66d437806f83",
        "colab": {
          "base_uri": "https://localhost:8080/",
          "height": 97
        }
      },
      "source": [
        "train_df['Hour'] = train_df.DateTime.dt.hour\n",
        "train_df['Month'] = train_df.DateTime.dt.month\n",
        "train_df['Year'] = train_df.DateTime.dt.year\n",
        "train_df['Year'] = train_df['Year'] - 2000 # The Algorithm doesn't know the difference\n",
        "\n",
        "test_df['Hour'] = test_df.DateTime.dt.hour\n",
        "test_df['Month'] = test_df.DateTime.dt.month\n",
        "test_df['Year'] = test_df.DateTime.dt.year\n",
        "test_df['Year'] = test_df['Year'] - 2000 # The Algorithm doesn't know the difference\n",
        "\n",
        "train_df.sample(1)"
      ],
      "execution_count": 17,
      "outputs": [
        {
          "output_type": "execute_result",
          "data": {
            "text/html": [
              "<div>\n",
              "<style scoped>\n",
              "    .dataframe tbody tr th:only-of-type {\n",
              "        vertical-align: middle;\n",
              "    }\n",
              "\n",
              "    .dataframe tbody tr th {\n",
              "        vertical-align: top;\n",
              "    }\n",
              "\n",
              "    .dataframe thead th {\n",
              "        text-align: right;\n",
              "    }\n",
              "</style>\n",
              "<table border=\"1\" class=\"dataframe\">\n",
              "  <thead>\n",
              "    <tr style=\"text-align: right;\">\n",
              "      <th></th>\n",
              "      <th>Category</th>\n",
              "      <th>Descript</th>\n",
              "      <th>DayOfWeek</th>\n",
              "      <th>PdDistrict</th>\n",
              "      <th>Resolution</th>\n",
              "      <th>Address</th>\n",
              "      <th>X</th>\n",
              "      <th>Y</th>\n",
              "      <th>DateTime</th>\n",
              "      <th>IsDay</th>\n",
              "      <th>Hour</th>\n",
              "      <th>Month</th>\n",
              "      <th>Year</th>\n",
              "    </tr>\n",
              "  </thead>\n",
              "  <tbody>\n",
              "    <tr>\n",
              "      <th>714500</th>\n",
              "      <td>OTHER OFFENSES</td>\n",
              "      <td>PAROLE VIOLATION</td>\n",
              "      <td>5</td>\n",
              "      <td>PARK</td>\n",
              "      <td>ARREST, BOOKED</td>\n",
              "      <td>100 Block of JOHNFKENNEDY DR</td>\n",
              "      <td>-122.457508</td>\n",
              "      <td>37.771133</td>\n",
              "      <td>2012-06-29 17:53:00</td>\n",
              "      <td>1</td>\n",
              "      <td>17</td>\n",
              "      <td>6</td>\n",
              "      <td>12</td>\n",
              "    </tr>\n",
              "  </tbody>\n",
              "</table>\n",
              "</div>"
            ],
            "text/plain": [
              "              Category          Descript  DayOfWeek  ... Hour Month Year\n",
              "714500  OTHER OFFENSES  PAROLE VIOLATION          5  ...   17     6   12\n",
              "\n",
              "[1 rows x 13 columns]"
            ]
          },
          "metadata": {
            "tags": []
          },
          "execution_count": 17
        }
      ]
    },
    {
      "cell_type": "markdown",
      "metadata": {
        "id": "-cxNRY9bSztw",
        "colab_type": "text"
      },
      "source": [
        "\n",
        "Deal with the cyclic characteristic of Months and Days of Week"
      ]
    },
    {
      "cell_type": "code",
      "metadata": {
        "id": "0OD65Yr8SjaZ",
        "colab_type": "code",
        "outputId": "862dbe1b-27a2-48a0-8a1e-694cfb0b2f5a",
        "colab": {
          "base_uri": "https://localhost:8080/",
          "height": 151
        }
      },
      "source": [
        "train_df['HourCos'] = np.cos((train_df['Hour']*2*np.pi)/24 )\n",
        "train_df['DayOfWeekCos'] = np.cos((train_df['DayOfWeek']*2*np.pi)/7 )\n",
        "train_df['MonthCos'] = np.cos((train_df['Month']*2*np.pi)/12 )\n",
        "\n",
        "test_df['HourCos'] = np.cos((test_df['Hour']*2*np.pi)/24 )\n",
        "test_df['DayOfWeekCos'] = np.cos((test_df['DayOfWeek']*2*np.pi)/7 )\n",
        "test_df['MonthCos'] = np.cos((test_df['Month']*2*np.pi)/12 )\n",
        "\n",
        "train_df.sample(1)"
      ],
      "execution_count": 18,
      "outputs": [
        {
          "output_type": "execute_result",
          "data": {
            "text/html": [
              "<div>\n",
              "<style scoped>\n",
              "    .dataframe tbody tr th:only-of-type {\n",
              "        vertical-align: middle;\n",
              "    }\n",
              "\n",
              "    .dataframe tbody tr th {\n",
              "        vertical-align: top;\n",
              "    }\n",
              "\n",
              "    .dataframe thead th {\n",
              "        text-align: right;\n",
              "    }\n",
              "</style>\n",
              "<table border=\"1\" class=\"dataframe\">\n",
              "  <thead>\n",
              "    <tr style=\"text-align: right;\">\n",
              "      <th></th>\n",
              "      <th>Category</th>\n",
              "      <th>Descript</th>\n",
              "      <th>DayOfWeek</th>\n",
              "      <th>PdDistrict</th>\n",
              "      <th>Resolution</th>\n",
              "      <th>Address</th>\n",
              "      <th>X</th>\n",
              "      <th>Y</th>\n",
              "      <th>DateTime</th>\n",
              "      <th>IsDay</th>\n",
              "      <th>Hour</th>\n",
              "      <th>Month</th>\n",
              "      <th>Year</th>\n",
              "      <th>HourCos</th>\n",
              "      <th>DayOfWeekCos</th>\n",
              "      <th>MonthCos</th>\n",
              "    </tr>\n",
              "  </thead>\n",
              "  <tbody>\n",
              "    <tr>\n",
              "      <th>751684</th>\n",
              "      <td>DRUG/NARCOTIC</td>\n",
              "      <td>POSSESSION OF NARCOTICS PARAPHERNALIA</td>\n",
              "      <td>5</td>\n",
              "      <td>TENDERLOIN</td>\n",
              "      <td>ARREST, BOOKED</td>\n",
              "      <td>400 Block of JONES ST</td>\n",
              "      <td>-122.412857</td>\n",
              "      <td>37.78558</td>\n",
              "      <td>2003-10-03 23:29:00</td>\n",
              "      <td>0</td>\n",
              "      <td>23</td>\n",
              "      <td>10</td>\n",
              "      <td>3</td>\n",
              "      <td>0.965926</td>\n",
              "      <td>-0.222521</td>\n",
              "      <td>0.5</td>\n",
              "    </tr>\n",
              "  </tbody>\n",
              "</table>\n",
              "</div>"
            ],
            "text/plain": [
              "             Category  ... MonthCos\n",
              "751684  DRUG/NARCOTIC  ...      0.5\n",
              "\n",
              "[1 rows x 16 columns]"
            ]
          },
          "metadata": {
            "tags": []
          },
          "execution_count": 18
        }
      ]
    },
    {
      "cell_type": "markdown",
      "metadata": {
        "id": "AvRISMS8S8CH",
        "colab_type": "text"
      },
      "source": [
        "\n",
        "Dummy Encoding of 'PdDistrict'"
      ]
    },
    {
      "cell_type": "code",
      "metadata": {
        "id": "GqKXAmt1S_9b",
        "colab_type": "code",
        "outputId": "cd7d660b-0fab-4059-8eaa-3e31c9493153",
        "colab": {
          "base_uri": "https://localhost:8080/",
          "height": 216
        }
      },
      "source": [
        "train_df = pd.get_dummies(train_df, columns=['PdDistrict'])\n",
        "test_df  = pd.get_dummies(test_df,  columns=['PdDistrict'])\n",
        "train_df.sample(2)"
      ],
      "execution_count": 19,
      "outputs": [
        {
          "output_type": "execute_result",
          "data": {
            "text/html": [
              "<div>\n",
              "<style scoped>\n",
              "    .dataframe tbody tr th:only-of-type {\n",
              "        vertical-align: middle;\n",
              "    }\n",
              "\n",
              "    .dataframe tbody tr th {\n",
              "        vertical-align: top;\n",
              "    }\n",
              "\n",
              "    .dataframe thead th {\n",
              "        text-align: right;\n",
              "    }\n",
              "</style>\n",
              "<table border=\"1\" class=\"dataframe\">\n",
              "  <thead>\n",
              "    <tr style=\"text-align: right;\">\n",
              "      <th></th>\n",
              "      <th>Category</th>\n",
              "      <th>Descript</th>\n",
              "      <th>DayOfWeek</th>\n",
              "      <th>Resolution</th>\n",
              "      <th>Address</th>\n",
              "      <th>X</th>\n",
              "      <th>Y</th>\n",
              "      <th>DateTime</th>\n",
              "      <th>IsDay</th>\n",
              "      <th>Hour</th>\n",
              "      <th>Month</th>\n",
              "      <th>Year</th>\n",
              "      <th>HourCos</th>\n",
              "      <th>DayOfWeekCos</th>\n",
              "      <th>MonthCos</th>\n",
              "      <th>PdDistrict_BAYVIEW</th>\n",
              "      <th>PdDistrict_CENTRAL</th>\n",
              "      <th>PdDistrict_INGLESIDE</th>\n",
              "      <th>PdDistrict_MISSION</th>\n",
              "      <th>PdDistrict_NORTHERN</th>\n",
              "      <th>PdDistrict_PARK</th>\n",
              "      <th>PdDistrict_RICHMOND</th>\n",
              "      <th>PdDistrict_SOUTHERN</th>\n",
              "      <th>PdDistrict_TARAVAL</th>\n",
              "      <th>PdDistrict_TENDERLOIN</th>\n",
              "    </tr>\n",
              "  </thead>\n",
              "  <tbody>\n",
              "    <tr>\n",
              "      <th>1766593</th>\n",
              "      <td>FORGERY/COUNTERFEITING</td>\n",
              "      <td>CHECKS, MAKE OR PASS FICTITIOUS</td>\n",
              "      <td>5</td>\n",
              "      <td>NONE</td>\n",
              "      <td>SILVER AV / REVERE AV</td>\n",
              "      <td>-122.398556</td>\n",
              "      <td>37.736434</td>\n",
              "      <td>2006-05-05 06:40:00</td>\n",
              "      <td>0</td>\n",
              "      <td>6</td>\n",
              "      <td>5</td>\n",
              "      <td>6</td>\n",
              "      <td>6.123234e-17</td>\n",
              "      <td>-0.222521</td>\n",
              "      <td>-0.866025</td>\n",
              "      <td>1</td>\n",
              "      <td>0</td>\n",
              "      <td>0</td>\n",
              "      <td>0</td>\n",
              "      <td>0</td>\n",
              "      <td>0</td>\n",
              "      <td>0</td>\n",
              "      <td>0</td>\n",
              "      <td>0</td>\n",
              "      <td>0</td>\n",
              "    </tr>\n",
              "    <tr>\n",
              "      <th>1796478</th>\n",
              "      <td>SUSPICIOUS OCC</td>\n",
              "      <td>SUSPICIOUS PERSON</td>\n",
              "      <td>3</td>\n",
              "      <td>NONE</td>\n",
              "      <td>0 Block of SOUTHPARK AV</td>\n",
              "      <td>-122.393093</td>\n",
              "      <td>37.782336</td>\n",
              "      <td>2006-01-04 18:10:00</td>\n",
              "      <td>1</td>\n",
              "      <td>18</td>\n",
              "      <td>1</td>\n",
              "      <td>6</td>\n",
              "      <td>-1.836970e-16</td>\n",
              "      <td>-0.900969</td>\n",
              "      <td>0.866025</td>\n",
              "      <td>0</td>\n",
              "      <td>0</td>\n",
              "      <td>0</td>\n",
              "      <td>0</td>\n",
              "      <td>0</td>\n",
              "      <td>0</td>\n",
              "      <td>0</td>\n",
              "      <td>1</td>\n",
              "      <td>0</td>\n",
              "      <td>0</td>\n",
              "    </tr>\n",
              "  </tbody>\n",
              "</table>\n",
              "</div>"
            ],
            "text/plain": [
              "                       Category  ... PdDistrict_TENDERLOIN\n",
              "1766593  FORGERY/COUNTERFEITING  ...                     0\n",
              "1796478          SUSPICIOUS OCC  ...                     0\n",
              "\n",
              "[2 rows x 25 columns]"
            ]
          },
          "metadata": {
            "tags": []
          },
          "execution_count": 19
        }
      ]
    },
    {
      "cell_type": "markdown",
      "metadata": {
        "id": "rEEZ7AZbTJkI",
        "colab_type": "text"
      },
      "source": [
        "Label Encoding of **'Category'**"
      ]
    },
    {
      "cell_type": "code",
      "metadata": {
        "id": "On-ydvTCTLUP",
        "colab_type": "code",
        "outputId": "7a5e8760-9c8e-4985-a8c6-6e718a5bd628",
        "colab": {
          "base_uri": "https://localhost:8080/",
          "height": 428
        }
      },
      "source": [
        "from sklearn.preprocessing import LabelEncoder\n",
        "\n",
        "cat_le = LabelEncoder()\n",
        "train_df['CategoryInt'] = pd.Series(cat_le.fit_transform(train_df.Category))\n",
        "train_df.sample(5)"
      ],
      "execution_count": 20,
      "outputs": [
        {
          "output_type": "execute_result",
          "data": {
            "text/html": [
              "<div>\n",
              "<style scoped>\n",
              "    .dataframe tbody tr th:only-of-type {\n",
              "        vertical-align: middle;\n",
              "    }\n",
              "\n",
              "    .dataframe tbody tr th {\n",
              "        vertical-align: top;\n",
              "    }\n",
              "\n",
              "    .dataframe thead th {\n",
              "        text-align: right;\n",
              "    }\n",
              "</style>\n",
              "<table border=\"1\" class=\"dataframe\">\n",
              "  <thead>\n",
              "    <tr style=\"text-align: right;\">\n",
              "      <th></th>\n",
              "      <th>Category</th>\n",
              "      <th>Descript</th>\n",
              "      <th>DayOfWeek</th>\n",
              "      <th>Resolution</th>\n",
              "      <th>Address</th>\n",
              "      <th>X</th>\n",
              "      <th>Y</th>\n",
              "      <th>DateTime</th>\n",
              "      <th>IsDay</th>\n",
              "      <th>Hour</th>\n",
              "      <th>Month</th>\n",
              "      <th>Year</th>\n",
              "      <th>HourCos</th>\n",
              "      <th>DayOfWeekCos</th>\n",
              "      <th>MonthCos</th>\n",
              "      <th>PdDistrict_BAYVIEW</th>\n",
              "      <th>PdDistrict_CENTRAL</th>\n",
              "      <th>PdDistrict_INGLESIDE</th>\n",
              "      <th>PdDistrict_MISSION</th>\n",
              "      <th>PdDistrict_NORTHERN</th>\n",
              "      <th>PdDistrict_PARK</th>\n",
              "      <th>PdDistrict_RICHMOND</th>\n",
              "      <th>PdDistrict_SOUTHERN</th>\n",
              "      <th>PdDistrict_TARAVAL</th>\n",
              "      <th>PdDistrict_TENDERLOIN</th>\n",
              "      <th>CategoryInt</th>\n",
              "    </tr>\n",
              "  </thead>\n",
              "  <tbody>\n",
              "    <tr>\n",
              "      <th>1638162</th>\n",
              "      <td>NON-CRIMINAL</td>\n",
              "      <td>AIDED CASE, MENTAL DISTURBED</td>\n",
              "      <td>6</td>\n",
              "      <td>PSYCHOPATHIC CASE</td>\n",
              "      <td>800 Block of DUBOCE AV</td>\n",
              "      <td>-122.437112</td>\n",
              "      <td>37.769018</td>\n",
              "      <td>2012-09-29 01:10:00</td>\n",
              "      <td>0</td>\n",
              "      <td>1</td>\n",
              "      <td>9</td>\n",
              "      <td>12</td>\n",
              "      <td>0.965926</td>\n",
              "      <td>0.623490</td>\n",
              "      <td>-1.836970e-16</td>\n",
              "      <td>0</td>\n",
              "      <td>0</td>\n",
              "      <td>0</td>\n",
              "      <td>0</td>\n",
              "      <td>0</td>\n",
              "      <td>1</td>\n",
              "      <td>0</td>\n",
              "      <td>0</td>\n",
              "      <td>0</td>\n",
              "      <td>0</td>\n",
              "      <td>NaN</td>\n",
              "    </tr>\n",
              "    <tr>\n",
              "      <th>1911474</th>\n",
              "      <td>VANDALISM</td>\n",
              "      <td>MALICIOUS MISCHIEF, VANDALISM</td>\n",
              "      <td>7</td>\n",
              "      <td>NONE</td>\n",
              "      <td>3600 Block of SACRAMENTO ST</td>\n",
              "      <td>-122.452774</td>\n",
              "      <td>37.787392</td>\n",
              "      <td>2017-09-10 20:00:00</td>\n",
              "      <td>0</td>\n",
              "      <td>20</td>\n",
              "      <td>9</td>\n",
              "      <td>17</td>\n",
              "      <td>0.500000</td>\n",
              "      <td>1.000000</td>\n",
              "      <td>-1.836970e-16</td>\n",
              "      <td>0</td>\n",
              "      <td>0</td>\n",
              "      <td>0</td>\n",
              "      <td>0</td>\n",
              "      <td>0</td>\n",
              "      <td>0</td>\n",
              "      <td>1</td>\n",
              "      <td>0</td>\n",
              "      <td>0</td>\n",
              "      <td>0</td>\n",
              "      <td>NaN</td>\n",
              "    </tr>\n",
              "    <tr>\n",
              "      <th>256130</th>\n",
              "      <td>DRUG/NARCOTIC</td>\n",
              "      <td>POSSESSION OF BASE/ROCK COCAINE</td>\n",
              "      <td>2</td>\n",
              "      <td>NONE</td>\n",
              "      <td>OFARRELL ST / HYDE ST</td>\n",
              "      <td>-122.416262</td>\n",
              "      <td>37.785375</td>\n",
              "      <td>2010-03-30 22:50:00</td>\n",
              "      <td>0</td>\n",
              "      <td>22</td>\n",
              "      <td>3</td>\n",
              "      <td>10</td>\n",
              "      <td>0.866025</td>\n",
              "      <td>-0.222521</td>\n",
              "      <td>6.123234e-17</td>\n",
              "      <td>0</td>\n",
              "      <td>0</td>\n",
              "      <td>0</td>\n",
              "      <td>0</td>\n",
              "      <td>0</td>\n",
              "      <td>0</td>\n",
              "      <td>0</td>\n",
              "      <td>0</td>\n",
              "      <td>0</td>\n",
              "      <td>1</td>\n",
              "      <td>16.0</td>\n",
              "    </tr>\n",
              "    <tr>\n",
              "      <th>1491366</th>\n",
              "      <td>BURGLARY</td>\n",
              "      <td>BURGLARY,STORE UNDER CONSTRUCTION, UNLAWFUL ENTRY</td>\n",
              "      <td>3</td>\n",
              "      <td>NONE</td>\n",
              "      <td>500 Block of SUTTER ST</td>\n",
              "      <td>-122.409424</td>\n",
              "      <td>37.789065</td>\n",
              "      <td>2004-12-08 01:45:00</td>\n",
              "      <td>0</td>\n",
              "      <td>1</td>\n",
              "      <td>12</td>\n",
              "      <td>4</td>\n",
              "      <td>0.965926</td>\n",
              "      <td>-0.900969</td>\n",
              "      <td>1.000000e+00</td>\n",
              "      <td>0</td>\n",
              "      <td>1</td>\n",
              "      <td>0</td>\n",
              "      <td>0</td>\n",
              "      <td>0</td>\n",
              "      <td>0</td>\n",
              "      <td>0</td>\n",
              "      <td>0</td>\n",
              "      <td>0</td>\n",
              "      <td>0</td>\n",
              "      <td>NaN</td>\n",
              "    </tr>\n",
              "    <tr>\n",
              "      <th>2010495</th>\n",
              "      <td>LARCENY/THEFT</td>\n",
              "      <td>GRAND THEFT FROM LOCKED AUTO</td>\n",
              "      <td>7</td>\n",
              "      <td>NONE</td>\n",
              "      <td>700 Block of GREAT HY</td>\n",
              "      <td>-122.511079</td>\n",
              "      <td>37.773992</td>\n",
              "      <td>2016-04-24 14:30:00</td>\n",
              "      <td>1</td>\n",
              "      <td>14</td>\n",
              "      <td>4</td>\n",
              "      <td>16</td>\n",
              "      <td>-0.866025</td>\n",
              "      <td>1.000000</td>\n",
              "      <td>-5.000000e-01</td>\n",
              "      <td>0</td>\n",
              "      <td>0</td>\n",
              "      <td>0</td>\n",
              "      <td>0</td>\n",
              "      <td>0</td>\n",
              "      <td>0</td>\n",
              "      <td>1</td>\n",
              "      <td>0</td>\n",
              "      <td>0</td>\n",
              "      <td>0</td>\n",
              "      <td>NaN</td>\n",
              "    </tr>\n",
              "  </tbody>\n",
              "</table>\n",
              "</div>"
            ],
            "text/plain": [
              "              Category  ... CategoryInt\n",
              "1638162   NON-CRIMINAL  ...         NaN\n",
              "1911474      VANDALISM  ...         NaN\n",
              "256130   DRUG/NARCOTIC  ...        16.0\n",
              "1491366       BURGLARY  ...         NaN\n",
              "2010495  LARCENY/THEFT  ...         NaN\n",
              "\n",
              "[5 rows x 26 columns]"
            ]
          },
          "metadata": {
            "tags": []
          },
          "execution_count": 20
        }
      ]
    },
    {
      "cell_type": "code",
      "metadata": {
        "id": "V_scCUlPTPTC",
        "colab_type": "code",
        "colab": {}
      },
      "source": [
        "train_df['InIntersection'] = 1\n",
        "train_df.loc[train_df.Address.str.contains('Block'), 'InIntersection'] = 0\n",
        "\n",
        "test_df['InIntersection'] = 1\n",
        "test_df.loc[test_df.Address.str.contains('Block'), 'InIntersection'] = 0"
      ],
      "execution_count": 0,
      "outputs": []
    },
    {
      "cell_type": "code",
      "metadata": {
        "id": "GsFgshPzXeiG",
        "colab_type": "code",
        "outputId": "a7263517-9a77-4324-a7a0-59a5d78223f3",
        "colab": {
          "base_uri": "https://localhost:8080/",
          "height": 838
        }
      },
      "source": [
        "train_df.sample(10)"
      ],
      "execution_count": 22,
      "outputs": [
        {
          "output_type": "execute_result",
          "data": {
            "text/html": [
              "<div>\n",
              "<style scoped>\n",
              "    .dataframe tbody tr th:only-of-type {\n",
              "        vertical-align: middle;\n",
              "    }\n",
              "\n",
              "    .dataframe tbody tr th {\n",
              "        vertical-align: top;\n",
              "    }\n",
              "\n",
              "    .dataframe thead th {\n",
              "        text-align: right;\n",
              "    }\n",
              "</style>\n",
              "<table border=\"1\" class=\"dataframe\">\n",
              "  <thead>\n",
              "    <tr style=\"text-align: right;\">\n",
              "      <th></th>\n",
              "      <th>Category</th>\n",
              "      <th>Descript</th>\n",
              "      <th>DayOfWeek</th>\n",
              "      <th>Resolution</th>\n",
              "      <th>Address</th>\n",
              "      <th>X</th>\n",
              "      <th>Y</th>\n",
              "      <th>DateTime</th>\n",
              "      <th>IsDay</th>\n",
              "      <th>Hour</th>\n",
              "      <th>Month</th>\n",
              "      <th>Year</th>\n",
              "      <th>HourCos</th>\n",
              "      <th>DayOfWeekCos</th>\n",
              "      <th>MonthCos</th>\n",
              "      <th>PdDistrict_BAYVIEW</th>\n",
              "      <th>PdDistrict_CENTRAL</th>\n",
              "      <th>PdDistrict_INGLESIDE</th>\n",
              "      <th>PdDistrict_MISSION</th>\n",
              "      <th>PdDistrict_NORTHERN</th>\n",
              "      <th>PdDistrict_PARK</th>\n",
              "      <th>PdDistrict_RICHMOND</th>\n",
              "      <th>PdDistrict_SOUTHERN</th>\n",
              "      <th>PdDistrict_TARAVAL</th>\n",
              "      <th>PdDistrict_TENDERLOIN</th>\n",
              "      <th>CategoryInt</th>\n",
              "      <th>InIntersection</th>\n",
              "    </tr>\n",
              "  </thead>\n",
              "  <tbody>\n",
              "    <tr>\n",
              "      <th>122704</th>\n",
              "      <td>DRUG/NARCOTIC</td>\n",
              "      <td>POSSESSION OF CONTROLLED SUBSTANCE</td>\n",
              "      <td>2</td>\n",
              "      <td>ARREST, BOOKED</td>\n",
              "      <td>200 Block of GOLDEN GATE AV</td>\n",
              "      <td>-122.415121</td>\n",
              "      <td>37.781759</td>\n",
              "      <td>2014-09-09 14:04:00</td>\n",
              "      <td>1</td>\n",
              "      <td>14</td>\n",
              "      <td>9</td>\n",
              "      <td>14</td>\n",
              "      <td>-8.660254e-01</td>\n",
              "      <td>-0.222521</td>\n",
              "      <td>-1.836970e-16</td>\n",
              "      <td>0</td>\n",
              "      <td>0</td>\n",
              "      <td>0</td>\n",
              "      <td>0</td>\n",
              "      <td>0</td>\n",
              "      <td>0</td>\n",
              "      <td>0</td>\n",
              "      <td>0</td>\n",
              "      <td>0</td>\n",
              "      <td>1</td>\n",
              "      <td>21.0</td>\n",
              "      <td>0</td>\n",
              "    </tr>\n",
              "    <tr>\n",
              "      <th>1157645</th>\n",
              "      <td>VEHICLE THEFT</td>\n",
              "      <td>VEHICLE, RECOVERED, AUTO</td>\n",
              "      <td>6</td>\n",
              "      <td>NONE</td>\n",
              "      <td>3300 Block of OCTAVIA ST</td>\n",
              "      <td>-122.430020</td>\n",
              "      <td>37.803051</td>\n",
              "      <td>2003-08-16 08:00:00</td>\n",
              "      <td>1</td>\n",
              "      <td>8</td>\n",
              "      <td>8</td>\n",
              "      <td>3</td>\n",
              "      <td>-5.000000e-01</td>\n",
              "      <td>0.623490</td>\n",
              "      <td>-5.000000e-01</td>\n",
              "      <td>0</td>\n",
              "      <td>0</td>\n",
              "      <td>0</td>\n",
              "      <td>0</td>\n",
              "      <td>1</td>\n",
              "      <td>0</td>\n",
              "      <td>0</td>\n",
              "      <td>0</td>\n",
              "      <td>0</td>\n",
              "      <td>0</td>\n",
              "      <td>16.0</td>\n",
              "      <td>0</td>\n",
              "    </tr>\n",
              "    <tr>\n",
              "      <th>726120</th>\n",
              "      <td>WARRANTS</td>\n",
              "      <td>ENROUTE TO DEPARTMENT OF CORRECTIONS</td>\n",
              "      <td>6</td>\n",
              "      <td>ARREST, BOOKED</td>\n",
              "      <td>300 Block of EDDY ST</td>\n",
              "      <td>-122.412931</td>\n",
              "      <td>37.783834</td>\n",
              "      <td>2010-09-11 23:25:00</td>\n",
              "      <td>0</td>\n",
              "      <td>23</td>\n",
              "      <td>9</td>\n",
              "      <td>10</td>\n",
              "      <td>9.659258e-01</td>\n",
              "      <td>0.623490</td>\n",
              "      <td>-1.836970e-16</td>\n",
              "      <td>0</td>\n",
              "      <td>0</td>\n",
              "      <td>0</td>\n",
              "      <td>0</td>\n",
              "      <td>0</td>\n",
              "      <td>0</td>\n",
              "      <td>0</td>\n",
              "      <td>0</td>\n",
              "      <td>0</td>\n",
              "      <td>1</td>\n",
              "      <td>37.0</td>\n",
              "      <td>0</td>\n",
              "    </tr>\n",
              "    <tr>\n",
              "      <th>2118978</th>\n",
              "      <td>OTHER OFFENSES</td>\n",
              "      <td>TRAFFIC VIOLATION</td>\n",
              "      <td>1</td>\n",
              "      <td>ARREST, BOOKED</td>\n",
              "      <td>24TH ST / ALABAMA ST</td>\n",
              "      <td>-122.410963</td>\n",
              "      <td>37.752685</td>\n",
              "      <td>2016-05-30 18:51:00</td>\n",
              "      <td>1</td>\n",
              "      <td>18</td>\n",
              "      <td>5</td>\n",
              "      <td>16</td>\n",
              "      <td>-1.836970e-16</td>\n",
              "      <td>0.623490</td>\n",
              "      <td>-8.660254e-01</td>\n",
              "      <td>0</td>\n",
              "      <td>0</td>\n",
              "      <td>0</td>\n",
              "      <td>1</td>\n",
              "      <td>0</td>\n",
              "      <td>0</td>\n",
              "      <td>0</td>\n",
              "      <td>0</td>\n",
              "      <td>0</td>\n",
              "      <td>0</td>\n",
              "      <td>NaN</td>\n",
              "      <td>1</td>\n",
              "    </tr>\n",
              "    <tr>\n",
              "      <th>1214220</th>\n",
              "      <td>OTHER OFFENSES</td>\n",
              "      <td>DRIVERS LICENSE, SUSPENDED OR REVOKED</td>\n",
              "      <td>5</td>\n",
              "      <td>ARREST, CITED</td>\n",
              "      <td>KEITH ST / REVERE AV</td>\n",
              "      <td>-122.388295</td>\n",
              "      <td>37.730608</td>\n",
              "      <td>2008-03-07 16:15:00</td>\n",
              "      <td>1</td>\n",
              "      <td>16</td>\n",
              "      <td>3</td>\n",
              "      <td>8</td>\n",
              "      <td>-5.000000e-01</td>\n",
              "      <td>-0.222521</td>\n",
              "      <td>6.123234e-17</td>\n",
              "      <td>1</td>\n",
              "      <td>0</td>\n",
              "      <td>0</td>\n",
              "      <td>0</td>\n",
              "      <td>0</td>\n",
              "      <td>0</td>\n",
              "      <td>0</td>\n",
              "      <td>0</td>\n",
              "      <td>0</td>\n",
              "      <td>0</td>\n",
              "      <td>7.0</td>\n",
              "      <td>1</td>\n",
              "    </tr>\n",
              "    <tr>\n",
              "      <th>1479990</th>\n",
              "      <td>VEHICLE THEFT</td>\n",
              "      <td>STOLEN AUTOMOBILE</td>\n",
              "      <td>7</td>\n",
              "      <td>NONE</td>\n",
              "      <td>28TH ST / SANCHEZ ST</td>\n",
              "      <td>-122.429038</td>\n",
              "      <td>37.745166</td>\n",
              "      <td>2012-07-29 20:00:00</td>\n",
              "      <td>0</td>\n",
              "      <td>20</td>\n",
              "      <td>7</td>\n",
              "      <td>12</td>\n",
              "      <td>5.000000e-01</td>\n",
              "      <td>1.000000</td>\n",
              "      <td>-8.660254e-01</td>\n",
              "      <td>0</td>\n",
              "      <td>0</td>\n",
              "      <td>1</td>\n",
              "      <td>0</td>\n",
              "      <td>0</td>\n",
              "      <td>0</td>\n",
              "      <td>0</td>\n",
              "      <td>0</td>\n",
              "      <td>0</td>\n",
              "      <td>0</td>\n",
              "      <td>21.0</td>\n",
              "      <td>1</td>\n",
              "    </tr>\n",
              "    <tr>\n",
              "      <th>1738608</th>\n",
              "      <td>LARCENY/THEFT</td>\n",
              "      <td>PETTY THEFT FROM LOCKED AUTO</td>\n",
              "      <td>5</td>\n",
              "      <td>NONE</td>\n",
              "      <td>ALMA ST / COLE ST</td>\n",
              "      <td>-122.449433</td>\n",
              "      <td>37.763199</td>\n",
              "      <td>2008-02-22 18:00:00</td>\n",
              "      <td>1</td>\n",
              "      <td>18</td>\n",
              "      <td>2</td>\n",
              "      <td>8</td>\n",
              "      <td>-1.836970e-16</td>\n",
              "      <td>-0.222521</td>\n",
              "      <td>5.000000e-01</td>\n",
              "      <td>0</td>\n",
              "      <td>0</td>\n",
              "      <td>0</td>\n",
              "      <td>0</td>\n",
              "      <td>0</td>\n",
              "      <td>1</td>\n",
              "      <td>0</td>\n",
              "      <td>0</td>\n",
              "      <td>0</td>\n",
              "      <td>0</td>\n",
              "      <td>NaN</td>\n",
              "      <td>1</td>\n",
              "    </tr>\n",
              "    <tr>\n",
              "      <th>1246293</th>\n",
              "      <td>DRUG/NARCOTIC</td>\n",
              "      <td>POSSESSION OF BASE/ROCK COCAINE</td>\n",
              "      <td>1</td>\n",
              "      <td>ARREST, BOOKED</td>\n",
              "      <td>400 Block of JONES ST</td>\n",
              "      <td>-122.412857</td>\n",
              "      <td>37.785580</td>\n",
              "      <td>2006-10-16 23:05:00</td>\n",
              "      <td>0</td>\n",
              "      <td>23</td>\n",
              "      <td>10</td>\n",
              "      <td>6</td>\n",
              "      <td>9.659258e-01</td>\n",
              "      <td>0.623490</td>\n",
              "      <td>5.000000e-01</td>\n",
              "      <td>0</td>\n",
              "      <td>0</td>\n",
              "      <td>0</td>\n",
              "      <td>0</td>\n",
              "      <td>0</td>\n",
              "      <td>0</td>\n",
              "      <td>0</td>\n",
              "      <td>0</td>\n",
              "      <td>0</td>\n",
              "      <td>1</td>\n",
              "      <td>21.0</td>\n",
              "      <td>0</td>\n",
              "    </tr>\n",
              "    <tr>\n",
              "      <th>2062811</th>\n",
              "      <td>OTHER OFFENSES</td>\n",
              "      <td>CONSPIRACY</td>\n",
              "      <td>3</td>\n",
              "      <td>JUVENILE BOOKED</td>\n",
              "      <td>1000 Block of HAYES ST</td>\n",
              "      <td>-122.433661</td>\n",
              "      <td>37.775465</td>\n",
              "      <td>2017-11-15 13:15:00</td>\n",
              "      <td>1</td>\n",
              "      <td>13</td>\n",
              "      <td>11</td>\n",
              "      <td>17</td>\n",
              "      <td>-9.659258e-01</td>\n",
              "      <td>-0.900969</td>\n",
              "      <td>8.660254e-01</td>\n",
              "      <td>0</td>\n",
              "      <td>0</td>\n",
              "      <td>0</td>\n",
              "      <td>0</td>\n",
              "      <td>0</td>\n",
              "      <td>1</td>\n",
              "      <td>0</td>\n",
              "      <td>0</td>\n",
              "      <td>0</td>\n",
              "      <td>0</td>\n",
              "      <td>NaN</td>\n",
              "      <td>0</td>\n",
              "    </tr>\n",
              "    <tr>\n",
              "      <th>1293057</th>\n",
              "      <td>LARCENY/THEFT</td>\n",
              "      <td>PETTY THEFT FROM A BUILDING</td>\n",
              "      <td>1</td>\n",
              "      <td>NONE</td>\n",
              "      <td>1000 Block of PALOU AV</td>\n",
              "      <td>-122.380738</td>\n",
              "      <td>37.728276</td>\n",
              "      <td>2012-01-16 22:00:00</td>\n",
              "      <td>0</td>\n",
              "      <td>22</td>\n",
              "      <td>1</td>\n",
              "      <td>12</td>\n",
              "      <td>8.660254e-01</td>\n",
              "      <td>0.623490</td>\n",
              "      <td>8.660254e-01</td>\n",
              "      <td>1</td>\n",
              "      <td>0</td>\n",
              "      <td>0</td>\n",
              "      <td>0</td>\n",
              "      <td>0</td>\n",
              "      <td>0</td>\n",
              "      <td>0</td>\n",
              "      <td>0</td>\n",
              "      <td>0</td>\n",
              "      <td>0</td>\n",
              "      <td>1.0</td>\n",
              "      <td>0</td>\n",
              "    </tr>\n",
              "  </tbody>\n",
              "</table>\n",
              "</div>"
            ],
            "text/plain": [
              "               Category  ... InIntersection\n",
              "122704    DRUG/NARCOTIC  ...              0\n",
              "1157645   VEHICLE THEFT  ...              0\n",
              "726120         WARRANTS  ...              0\n",
              "2118978  OTHER OFFENSES  ...              1\n",
              "1214220  OTHER OFFENSES  ...              1\n",
              "1479990   VEHICLE THEFT  ...              1\n",
              "1738608   LARCENY/THEFT  ...              1\n",
              "1246293   DRUG/NARCOTIC  ...              0\n",
              "2062811  OTHER OFFENSES  ...              0\n",
              "1293057   LARCENY/THEFT  ...              0\n",
              "\n",
              "[10 rows x 27 columns]"
            ]
          },
          "metadata": {
            "tags": []
          },
          "execution_count": 22
        }
      ]
    },
    {
      "cell_type": "markdown",
      "metadata": {
        "id": "qHck6gBIXpfL",
        "colab_type": "text"
      },
      "source": [
        "### **Feature Selection**"
      ]
    },
    {
      "cell_type": "code",
      "metadata": {
        "id": "V5yrVqyjXvPE",
        "colab_type": "code",
        "outputId": "3c632958-75cb-44d1-ed44-d65ee006295c",
        "colab": {
          "base_uri": "https://localhost:8080/",
          "height": 153
        }
      },
      "source": [
        "train_df.columns"
      ],
      "execution_count": 23,
      "outputs": [
        {
          "output_type": "execute_result",
          "data": {
            "text/plain": [
              "Index(['Category', 'Descript', 'DayOfWeek', 'Resolution', 'Address', 'X', 'Y',\n",
              "       'DateTime', 'IsDay', 'Hour', 'Month', 'Year', 'HourCos', 'DayOfWeekCos',\n",
              "       'MonthCos', 'PdDistrict_BAYVIEW', 'PdDistrict_CENTRAL',\n",
              "       'PdDistrict_INGLESIDE', 'PdDistrict_MISSION', 'PdDistrict_NORTHERN',\n",
              "       'PdDistrict_PARK', 'PdDistrict_RICHMOND', 'PdDistrict_SOUTHERN',\n",
              "       'PdDistrict_TARAVAL', 'PdDistrict_TENDERLOIN', 'CategoryInt',\n",
              "       'InIntersection'],\n",
              "      dtype='object')"
            ]
          },
          "metadata": {
            "tags": []
          },
          "execution_count": 23
        }
      ]
    },
    {
      "cell_type": "code",
      "metadata": {
        "id": "tzm2KDZeXx42",
        "colab_type": "code",
        "colab": {}
      },
      "source": [
        "feature_cols = ['X', 'Y', 'IsDay', 'DayOfWeek', 'Month', 'Hour', 'Year', 'InIntersection',\n",
        "                'PdDistrict_BAYVIEW', 'PdDistrict_CENTRAL', 'PdDistrict_INGLESIDE',\n",
        "                'PdDistrict_MISSION', 'PdDistrict_NORTHERN', 'PdDistrict_PARK',\n",
        "                'PdDistrict_RICHMOND', 'PdDistrict_SOUTHERN', 'PdDistrict_TARAVAL', 'PdDistrict_TENDERLOIN']\n",
        "target_col = 'CategoryInt'\n",
        "\n",
        "train_x = train_df[feature_cols]\n",
        "train_y = train_df[target_col]\n",
        "\n",
        "test_ids = test_df['Id']\n",
        "test_x = test_df[feature_cols]\n"
      ],
      "execution_count": 0,
      "outputs": []
    },
    {
      "cell_type": "code",
      "metadata": {
        "id": "k6vmA0qDXzoA",
        "colab_type": "code",
        "outputId": "672a43e7-655c-47c7-ed5a-24a98097cca5",
        "colab": {
          "base_uri": "https://localhost:8080/",
          "height": 100
        }
      },
      "source": [
        "train_x.sample(1)"
      ],
      "execution_count": 25,
      "outputs": [
        {
          "output_type": "execute_result",
          "data": {
            "text/html": [
              "<div>\n",
              "<style scoped>\n",
              "    .dataframe tbody tr th:only-of-type {\n",
              "        vertical-align: middle;\n",
              "    }\n",
              "\n",
              "    .dataframe tbody tr th {\n",
              "        vertical-align: top;\n",
              "    }\n",
              "\n",
              "    .dataframe thead th {\n",
              "        text-align: right;\n",
              "    }\n",
              "</style>\n",
              "<table border=\"1\" class=\"dataframe\">\n",
              "  <thead>\n",
              "    <tr style=\"text-align: right;\">\n",
              "      <th></th>\n",
              "      <th>X</th>\n",
              "      <th>Y</th>\n",
              "      <th>IsDay</th>\n",
              "      <th>DayOfWeek</th>\n",
              "      <th>Month</th>\n",
              "      <th>Hour</th>\n",
              "      <th>Year</th>\n",
              "      <th>InIntersection</th>\n",
              "      <th>PdDistrict_BAYVIEW</th>\n",
              "      <th>PdDistrict_CENTRAL</th>\n",
              "      <th>PdDistrict_INGLESIDE</th>\n",
              "      <th>PdDistrict_MISSION</th>\n",
              "      <th>PdDistrict_NORTHERN</th>\n",
              "      <th>PdDistrict_PARK</th>\n",
              "      <th>PdDistrict_RICHMOND</th>\n",
              "      <th>PdDistrict_SOUTHERN</th>\n",
              "      <th>PdDistrict_TARAVAL</th>\n",
              "      <th>PdDistrict_TENDERLOIN</th>\n",
              "    </tr>\n",
              "  </thead>\n",
              "  <tbody>\n",
              "    <tr>\n",
              "      <th>1220347</th>\n",
              "      <td>-122.432915</td>\n",
              "      <td>37.784353</td>\n",
              "      <td>1</td>\n",
              "      <td>5</td>\n",
              "      <td>4</td>\n",
              "      <td>19</td>\n",
              "      <td>8</td>\n",
              "      <td>1</td>\n",
              "      <td>0</td>\n",
              "      <td>0</td>\n",
              "      <td>0</td>\n",
              "      <td>0</td>\n",
              "      <td>1</td>\n",
              "      <td>0</td>\n",
              "      <td>0</td>\n",
              "      <td>0</td>\n",
              "      <td>0</td>\n",
              "      <td>0</td>\n",
              "    </tr>\n",
              "  </tbody>\n",
              "</table>\n",
              "</div>"
            ],
            "text/plain": [
              "                  X          Y  ...  PdDistrict_TARAVAL  PdDistrict_TENDERLOIN\n",
              "1220347 -122.432915  37.784353  ...                   0                      0\n",
              "\n",
              "[1 rows x 18 columns]"
            ]
          },
          "metadata": {
            "tags": []
          },
          "execution_count": 25
        }
      ]
    },
    {
      "cell_type": "code",
      "metadata": {
        "id": "zSvVd_y8X8yx",
        "colab_type": "code",
        "outputId": "8966fa97-95da-41ce-e561-3d0ebfa2ff7f",
        "colab": {
          "base_uri": "https://localhost:8080/",
          "height": 100
        }
      },
      "source": [
        "test_x.sample(1)"
      ],
      "execution_count": 26,
      "outputs": [
        {
          "output_type": "execute_result",
          "data": {
            "text/html": [
              "<div>\n",
              "<style scoped>\n",
              "    .dataframe tbody tr th:only-of-type {\n",
              "        vertical-align: middle;\n",
              "    }\n",
              "\n",
              "    .dataframe tbody tr th {\n",
              "        vertical-align: top;\n",
              "    }\n",
              "\n",
              "    .dataframe thead th {\n",
              "        text-align: right;\n",
              "    }\n",
              "</style>\n",
              "<table border=\"1\" class=\"dataframe\">\n",
              "  <thead>\n",
              "    <tr style=\"text-align: right;\">\n",
              "      <th></th>\n",
              "      <th>X</th>\n",
              "      <th>Y</th>\n",
              "      <th>IsDay</th>\n",
              "      <th>DayOfWeek</th>\n",
              "      <th>Month</th>\n",
              "      <th>Hour</th>\n",
              "      <th>Year</th>\n",
              "      <th>InIntersection</th>\n",
              "      <th>PdDistrict_BAYVIEW</th>\n",
              "      <th>PdDistrict_CENTRAL</th>\n",
              "      <th>PdDistrict_INGLESIDE</th>\n",
              "      <th>PdDistrict_MISSION</th>\n",
              "      <th>PdDistrict_NORTHERN</th>\n",
              "      <th>PdDistrict_PARK</th>\n",
              "      <th>PdDistrict_RICHMOND</th>\n",
              "      <th>PdDistrict_SOUTHERN</th>\n",
              "      <th>PdDistrict_TARAVAL</th>\n",
              "      <th>PdDistrict_TENDERLOIN</th>\n",
              "    </tr>\n",
              "  </thead>\n",
              "  <tbody>\n",
              "    <tr>\n",
              "      <th>1814716</th>\n",
              "      <td>-122.427966</td>\n",
              "      <td>37.711582</td>\n",
              "      <td>1</td>\n",
              "      <td>6</td>\n",
              "      <td>1</td>\n",
              "      <td>13</td>\n",
              "      <td>15</td>\n",
              "      <td>0</td>\n",
              "      <td>0</td>\n",
              "      <td>0</td>\n",
              "      <td>1</td>\n",
              "      <td>0</td>\n",
              "      <td>0</td>\n",
              "      <td>0</td>\n",
              "      <td>0</td>\n",
              "      <td>0</td>\n",
              "      <td>0</td>\n",
              "      <td>0</td>\n",
              "    </tr>\n",
              "  </tbody>\n",
              "</table>\n",
              "</div>"
            ],
            "text/plain": [
              "                  X          Y  ...  PdDistrict_TARAVAL  PdDistrict_TENDERLOIN\n",
              "1814716 -122.427966  37.711582  ...                   0                      0\n",
              "\n",
              "[1 rows x 18 columns]"
            ]
          },
          "metadata": {
            "tags": []
          },
          "execution_count": 26
        }
      ]
    },
    {
      "cell_type": "markdown",
      "metadata": {
        "id": "Xj-Kd0jyYH8t",
        "colab_type": "text"
      },
      "source": [
        "#### **XGBOOST Training (Cross-Validation)**"
      ]
    },
    {
      "cell_type": "code",
      "metadata": {
        "id": "nvL9-jYIYLV4",
        "colab_type": "code",
        "outputId": "58b7de5f-c118-4bcf-b747-c426ccf624ae",
        "colab": {
          "base_uri": "https://localhost:8080/",
          "height": 34
        }
      },
      "source": [
        "type(train_x), type(train_y)"
      ],
      "execution_count": 27,
      "outputs": [
        {
          "output_type": "execute_result",
          "data": {
            "text/plain": [
              "(pandas.core.frame.DataFrame, pandas.core.series.Series)"
            ]
          },
          "metadata": {
            "tags": []
          },
          "execution_count": 27
        }
      ]
    },
    {
      "cell_type": "code",
      "metadata": {
        "id": "IftYvuB7ug46",
        "colab_type": "code",
        "colab": {}
      },
      "source": [
        "import numpy as np # linear algebra\n",
        "import pandas as pd # data processing, CSV file I/O (e.g. pd.read_csv)\n",
        "from sklearn.model_selection import train_test_split\n",
        "from sklearn.metrics import mean_squared_error\n",
        "from operator import itemgetter\n",
        "import xgboost as xgb\n",
        "import random\n",
        "import time\n",
        "from sklearn.model_selection import GridSearchCV\n",
        "from sklearn.metrics import average_precision_score\n",
        "import matplotlib.pyplot as plt\n",
        "from numpy import genfromtxt\n",
        "import seaborn as sns\n",
        "from sklearn import preprocessing\n",
        "from sklearn.metrics import roc_curve, auc,recall_score,precision_score\n",
        "import datetime as dt"
      ],
      "execution_count": 0,
      "outputs": []
    },
    {
      "cell_type": "markdown",
      "metadata": {
        "id": "b15rFmLpYRU_",
        "colab_type": "text"
      },
      "source": [
        "Import XGBoost and create the DMatrices"
      ]
    },
    {
      "cell_type": "code",
      "metadata": {
        "id": "slaG4w5wYOi4",
        "colab_type": "code",
        "outputId": "36b438c0-80b0-4677-9b06-d3d3ef0953d2",
        "colab": {
          "base_uri": "https://localhost:8080/",
          "height": 85
        }
      },
      "source": [
        "import xgboost as xgb\n",
        "train_xgb = xgb.DMatrix(train_x, label=train_y)\n",
        "test_xgb  = xgb.DMatrix(test_x)"
      ],
      "execution_count": 29,
      "outputs": [
        {
          "output_type": "stream",
          "text": [
            "/usr/local/lib/python3.6/dist-packages/xgboost/core.py:587: FutureWarning: Series.base is deprecated and will be removed in a future version\n",
            "  if getattr(data, 'base', None) is not None and \\\n",
            "/usr/local/lib/python3.6/dist-packages/xgboost/core.py:588: FutureWarning: Series.base is deprecated and will be removed in a future version\n",
            "  data.base is not None and isinstance(data, np.ndarray) \\\n"
          ],
          "name": "stderr"
        }
      ]
    },
    {
      "cell_type": "markdown",
      "metadata": {
        "id": "_pUb718XYXSF",
        "colab_type": "text"
      },
      "source": [
        "Perform Cross-Validation"
      ]
    },
    {
      "cell_type": "code",
      "metadata": {
        "id": "fJXsiciZnYlf",
        "colab_type": "code",
        "colab": {}
      },
      "source": [
        "watchlist = [(train_xgb, 'train'), (test_xgb, 'eval')]"
      ],
      "execution_count": 0,
      "outputs": []
    },
    {
      "cell_type": "code",
      "metadata": {
        "id": "CHFmbgPCYSdh",
        "colab_type": "code",
        "colab": {}
      },
      "source": [
        "params = {\n",
        "    'max_depth': 4,  # the maximum depth of each tree\n",
        "    'eta': 0.3,  # the training step for each iteration\n",
        "    'silent': 1,  # logging mode - quiet\n",
        "    'objective': 'multi:softprob',  # error evaluation for multiclass training\n",
        "    'num_class': 39,\n",
        "}\n",
        "num_boost_round = 500\n",
        "early_stopping_rounds = 20"
      ],
      "execution_count": 0,
      "outputs": []
    },
    {
      "cell_type": "code",
      "metadata": {
        "id": "s2lPeAxhzKyG",
        "colab_type": "code",
        "colab": {
          "base_uri": "https://localhost:8080/",
          "height": 221
        },
        "outputId": "711efe36-c88b-4f08-a512-f7efd6ea8ed8"
      },
      "source": [
        "train_y_cleaned = train_y.dropna()\n",
        "train_y_cleaned"
      ],
      "execution_count": 32,
      "outputs": [
        {
          "output_type": "execute_result",
          "data": {
            "text/plain": [
              "1303833    37.0\n",
              "38943       1.0\n",
              "1236188     1.0\n",
              "993800     21.0\n",
              "1086513    38.0\n",
              "           ... \n",
              "133235     16.0\n",
              "371540      1.0\n",
              "534847     21.0\n",
              "1398900    16.0\n",
              "1389548    20.0\n",
              "Name: CategoryInt, Length: 993864, dtype: float64"
            ]
          },
          "metadata": {
            "tags": []
          },
          "execution_count": 32
        }
      ]
    },
    {
      "cell_type": "code",
      "metadata": {
        "id": "AdXCW1qmYa88",
        "colab_type": "code",
        "colab": {}
      },
      "source": [
        "CROSS_VAL = False\n",
        "if CROSS_VAL:\n",
        "    print('Doing Cross-validation ...')\n",
        "    cv = xgb.cv(params, train_xgb, nfold=3, early_stopping_rounds=10, metrics='mlogloss', verbose_eval=True)\n",
        "    cv"
      ],
      "execution_count": 0,
      "outputs": []
    },
    {
      "cell_type": "markdown",
      "metadata": {
        "id": "NZcaPlYJYfKR",
        "colab_type": "text"
      },
      "source": [
        "\n",
        "Fit the model and make the predictions"
      ]
    },
    {
      "cell_type": "code",
      "metadata": {
        "id": "XECJ-_4LYdPv",
        "colab_type": "code",
        "outputId": "e8a396a6-4500-43d0-a470-ad0fdaf3fde7",
        "colab": {
          "base_uri": "https://localhost:8080/",
          "height": 392
        }
      },
      "source": [
        "SUBMIT = not CROSS_VAL\n",
        "if SUBMIT:\n",
        "    print('Fitting Model ...')\n",
        "    # Model Training\n",
        "    m = xgb.train(params, train_xgb, 10)\n",
        "    \n",
        "    # Model Validation\n",
        "    res = m.predict(test_xgb)\n",
        "\n",
        "    # Precision-Recall Curve\n",
        "    # score = average_precision_score(train_y_cleaned, res)\n",
        "    # print('Area under the precision-recall curve: {:.6f}'.format(score))\n",
        "\n",
        "    # Precision Score\n",
        "    # res_round = res.round()\n",
        "    # pre_score = precision_score(train_y_cleaned, res_round)\n",
        "    # print('Precision score: {:.6f}'.format(pre_score))\n",
        "\n",
        "    # Recall Score\n",
        "    # rec_score = recall_score(train_y_cleaned, res_round)\n",
        "    # print('Recall score: {:.6f}'.format(rec_score))\n",
        "\n",
        "    cols = ['Id'] + cat_le.classes_\n",
        "    submission = pd.DataFrame(res, columns=cat_le.classes_)\n",
        "    submission.insert(0, 'Id', test_ids)\n",
        "    submission.to_csv('submission.csv', index=False)\n",
        "    print('Done Outputing !')\n",
        "    submission.head()\n",
        "else:\n",
        "    print('NOT SUBMITING')"
      ],
      "execution_count": 34,
      "outputs": [
        {
          "output_type": "stream",
          "text": [
            "Fitting Model ...\n"
          ],
          "name": "stdout"
        },
        {
          "output_type": "error",
          "ename": "ValueError",
          "evalue": "ignored",
          "traceback": [
            "\u001b[0;31m---------------------------------------------------------------------------\u001b[0m",
            "\u001b[0;31mValueError\u001b[0m                                Traceback (most recent call last)",
            "\u001b[0;32m<ipython-input-34-3697c378b677>\u001b[0m in \u001b[0;36m<module>\u001b[0;34m()\u001b[0m\n\u001b[1;32m      9\u001b[0m \u001b[0;34m\u001b[0m\u001b[0m\n\u001b[1;32m     10\u001b[0m     \u001b[0;31m# Precision-Recall Curve\u001b[0m\u001b[0;34m\u001b[0m\u001b[0;34m\u001b[0m\u001b[0;34m\u001b[0m\u001b[0m\n\u001b[0;32m---> 11\u001b[0;31m     \u001b[0mscore\u001b[0m \u001b[0;34m=\u001b[0m \u001b[0maverage_precision_score\u001b[0m\u001b[0;34m(\u001b[0m\u001b[0mtrain_y_cleaned\u001b[0m\u001b[0;34m,\u001b[0m \u001b[0mres\u001b[0m\u001b[0;34m)\u001b[0m\u001b[0;34m\u001b[0m\u001b[0;34m\u001b[0m\u001b[0m\n\u001b[0m\u001b[1;32m     12\u001b[0m     \u001b[0mprint\u001b[0m\u001b[0;34m(\u001b[0m\u001b[0;34m'Area under the precision-recall curve: {:.6f}'\u001b[0m\u001b[0;34m.\u001b[0m\u001b[0mformat\u001b[0m\u001b[0;34m(\u001b[0m\u001b[0mscore\u001b[0m\u001b[0;34m)\u001b[0m\u001b[0;34m)\u001b[0m\u001b[0;34m\u001b[0m\u001b[0;34m\u001b[0m\u001b[0m\n\u001b[1;32m     13\u001b[0m \u001b[0;34m\u001b[0m\u001b[0m\n",
            "\u001b[0;32m/usr/local/lib/python3.6/dist-packages/sklearn/metrics/ranking.py\u001b[0m in \u001b[0;36maverage_precision_score\u001b[0;34m(y_true, y_score, average, pos_label, sample_weight)\u001b[0m\n\u001b[1;32m    238\u001b[0m                                 pos_label=pos_label)\n\u001b[1;32m    239\u001b[0m     return _average_binary_score(average_precision, y_true, y_score,\n\u001b[0;32m--> 240\u001b[0;31m                                  average, sample_weight=sample_weight)\n\u001b[0m\u001b[1;32m    241\u001b[0m \u001b[0;34m\u001b[0m\u001b[0m\n\u001b[1;32m    242\u001b[0m \u001b[0;34m\u001b[0m\u001b[0m\n",
            "\u001b[0;32m/usr/local/lib/python3.6/dist-packages/sklearn/metrics/base.py\u001b[0m in \u001b[0;36m_average_binary_score\u001b[0;34m(binary_metric, y_true, y_score, average, sample_weight)\u001b[0m\n\u001b[1;32m     71\u001b[0m     \u001b[0my_type\u001b[0m \u001b[0;34m=\u001b[0m \u001b[0mtype_of_target\u001b[0m\u001b[0;34m(\u001b[0m\u001b[0my_true\u001b[0m\u001b[0;34m)\u001b[0m\u001b[0;34m\u001b[0m\u001b[0;34m\u001b[0m\u001b[0m\n\u001b[1;32m     72\u001b[0m     \u001b[0;32mif\u001b[0m \u001b[0my_type\u001b[0m \u001b[0;32mnot\u001b[0m \u001b[0;32min\u001b[0m \u001b[0;34m(\u001b[0m\u001b[0;34m\"binary\"\u001b[0m\u001b[0;34m,\u001b[0m \u001b[0;34m\"multilabel-indicator\"\u001b[0m\u001b[0;34m)\u001b[0m\u001b[0;34m:\u001b[0m\u001b[0;34m\u001b[0m\u001b[0;34m\u001b[0m\u001b[0m\n\u001b[0;32m---> 73\u001b[0;31m         \u001b[0;32mraise\u001b[0m \u001b[0mValueError\u001b[0m\u001b[0;34m(\u001b[0m\u001b[0;34m\"{0} format is not supported\"\u001b[0m\u001b[0;34m.\u001b[0m\u001b[0mformat\u001b[0m\u001b[0;34m(\u001b[0m\u001b[0my_type\u001b[0m\u001b[0;34m)\u001b[0m\u001b[0;34m)\u001b[0m\u001b[0;34m\u001b[0m\u001b[0;34m\u001b[0m\u001b[0m\n\u001b[0m\u001b[1;32m     74\u001b[0m \u001b[0;34m\u001b[0m\u001b[0m\n\u001b[1;32m     75\u001b[0m     \u001b[0;32mif\u001b[0m \u001b[0my_type\u001b[0m \u001b[0;34m==\u001b[0m \u001b[0;34m\"binary\"\u001b[0m\u001b[0;34m:\u001b[0m\u001b[0;34m\u001b[0m\u001b[0;34m\u001b[0m\u001b[0m\n",
            "\u001b[0;31mValueError\u001b[0m: multiclass format is not supported"
          ]
        }
      ]
    },
    {
      "cell_type": "code",
      "metadata": {
        "id": "fKnSr8ICv_6Y",
        "colab_type": "code",
        "colab": {}
      },
      "source": [
        "# Compute micro-average ROC curve and ROC area\n",
        "fpr, tpr, _ = roc_curve(train_y_cleaned.values, res)\n",
        "roc_auc = auc(fpr, tpr)\n",
        "\n",
        "# Plot the ROC curve\n",
        "plt.figure()\n",
        "lw = 2\n",
        "plt.plot(fpr, tpr, color='darkorange',\n",
        "          lw=lw, label='ROC curve (area = %0.2f)' % roc_auc)\n",
        "plt.plot([0, 1], [0, 1], color='navy', lw=lw, linestyle='--')\n",
        "plt.xlim([-0.02, 1.0])\n",
        "plt.ylim([0.0, 1.05])\n",
        "plt.xlabel('False Positive Rate')\n",
        "plt.ylabel('True Positive Rate')\n",
        "plt.title('ROC curve')\n",
        "plt.legend(loc=\"lower right\")\n",
        "plt.show()"
      ],
      "execution_count": 0,
      "outputs": []
    },
    {
      "cell_type": "code",
      "metadata": {
        "id": "8spL73jkf4XE",
        "colab_type": "code",
        "colab": {}
      },
      "source": [
        "submission['Id']=submission.index"
      ],
      "execution_count": 0,
      "outputs": []
    },
    {
      "cell_type": "code",
      "metadata": {
        "id": "0Hci7kxS5iIc",
        "colab_type": "code",
        "colab": {}
      },
      "source": [
        "submission.head()"
      ],
      "execution_count": 0,
      "outputs": []
    },
    {
      "cell_type": "code",
      "metadata": {
        "id": "XLmWO70E5um1",
        "colab_type": "code",
        "colab": {}
      },
      "source": [
        "# roc curve and auc\n",
        "from sklearn.datasets import make_classification\n",
        "from sklearn.linear_model import LogisticRegression\n",
        "from sklearn.model_selection import train_test_split\n",
        "from sklearn.metrics import roc_curve\n",
        "from sklearn.metrics import roc_auc_score\n",
        "from matplotlib import pyplot\n",
        "# generate 2 class dataset\n",
        "X, y = make_classification(n_samples=1000, n_classes=2, random_state=1)\n",
        "# split into train/test sets\n",
        "trainX, testX, trainy, testy = train_test_split(X, y, test_size=0.5, random_state=2)\n",
        "# generate a no skill prediction (majority class)\n",
        "ns_probs = [0 for _ in range(len(testy))]\n",
        "# fit a model\n",
        "model = LogisticRegression(solver='lbfgs')\n",
        "model.fit(trainX, trainy)\n",
        "# predict probabilities\n",
        "lr_probs = model.predict_proba(testX)\n",
        "# keep probabilities for the positive outcome only\n",
        "lr_probs = lr_probs[:, 1]\n",
        "# calculate scores\n",
        "ns_auc = roc_auc_score(testy, ns_probs)\n",
        "lr_auc = roc_auc_score(testy, lr_probs)\n",
        "# summarize scores\n",
        "print('No Skill: ROC AUC=%.3f' % (ns_auc))\n",
        "print('Logistic: ROC AUC=%.3f' % (lr_auc))\n",
        "# calculate roc curves\n",
        "ns_fpr, ns_tpr, _ = roc_curve(testy, ns_probs)\n",
        "lr_fpr, lr_tpr, _ = roc_curve(testy, lr_probs)\n",
        "# plot the roc curve for the model\n",
        "pyplot.plot(ns_fpr, ns_tpr, linestyle='--', label='No Skill')\n",
        "pyplot.plot(lr_fpr, lr_tpr, marker='.', label='Logistic')\n",
        "# axis labels\n",
        "pyplot.xlabel('False Positive Rate')\n",
        "pyplot.ylabel('True Positive Rate')\n",
        "# show the legend\n",
        "pyplot.legend()\n",
        "# show the plot\n",
        "pyplot.show()"
      ],
      "execution_count": 0,
      "outputs": []
    }
  ]
}